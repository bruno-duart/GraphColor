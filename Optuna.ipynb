{
  "cells": [
    {
      "cell_type": "code",
      "execution_count": 11,
      "metadata": {
        "id": "GpyvqjPMRBnQ"
      },
      "outputs": [],
      "source": [
        "import pandas as pd\n",
        "import glob"
      ]
    },
    {
      "cell_type": "code",
      "execution_count": 12,
      "metadata": {
        "id": "gmlyd8xWRmKp"
      },
      "outputs": [],
      "source": [
        "import seaborn as sns\n",
        "import matplotlib.pyplot as plt"
      ]
    },
    {
      "cell_type": "code",
      "execution_count": 13,
      "metadata": {
        "colab": {
          "base_uri": "https://localhost:8080/"
        },
        "id": "a3s_XzHLWwFg",
        "outputId": "f58bb5b6-6ca8-42f7-82c4-53561eaadb8b"
      },
      "outputs": [
        {
          "name": "stdout",
          "output_type": "stream",
          "text": [
            "Note: you may need to restart the kernel to use updated packages.\n"
          ]
        }
      ],
      "source": [
        "%pip install --quiet optuna"
      ]
    },
    {
      "cell_type": "code",
      "execution_count": 14,
      "metadata": {
        "id": "YMk7QmFSRzpG"
      },
      "outputs": [
        {
          "name": "stderr",
          "output_type": "stream",
          "text": [
            "/home/duarbrun/.local/lib/python3.10/site-packages/tqdm/auto.py:21: TqdmWarning: IProgress not found. Please update jupyter and ipywidgets. See https://ipywidgets.readthedocs.io/en/stable/user_install.html\n",
            "  from .autonotebook import tqdm as notebook_tqdm\n"
          ]
        }
      ],
      "source": [
        "import optuna\n",
        "import os"
      ]
    },
    {
      "cell_type": "code",
      "execution_count": 15,
      "metadata": {
        "colab": {
          "base_uri": "https://localhost:8080/",
          "height": 35
        },
        "id": "HwT6QlCwW1kV",
        "outputId": "db298222-b7ac-4a26-9f93-a93c633a8f54"
      },
      "outputs": [
        {
          "data": {
            "text/plain": [
              "'4.2.1'"
            ]
          },
          "execution_count": 15,
          "metadata": {},
          "output_type": "execute_result"
        }
      ],
      "source": [
        "optuna.__version__"
      ]
    },
    {
      "cell_type": "code",
      "execution_count": null,
      "metadata": {
        "id": "yI_ru_NfRi_f"
      },
      "outputs": [],
      "source": [
        "os.chdir(\"drive/MyDrive/Mestrado/GraphColor/results_abc_v1\")"
      ]
    },
    {
      "cell_type": "code",
      "execution_count": null,
      "metadata": {
        "colab": {
          "base_uri": "https://localhost:8080/"
        },
        "id": "12teTxDuSxrU",
        "outputId": "9e2284ba-7975-48d9-c25a-58e7d2fbd314"
      },
      "outputs": [],
      "source": [
        "!ls"
      ]
    },
    {
      "cell_type": "markdown",
      "metadata": {
        "id": "q2P7Uur5Vd_6"
      },
      "source": [
        "## ABC V1"
      ]
    },
    {
      "cell_type": "code",
      "execution_count": null,
      "metadata": {
        "colab": {
          "base_uri": "https://localhost:8080/"
        },
        "id": "4ACWQnF_RvJA",
        "outputId": "4700dc3c-fceb-411e-d4f2-04189a30e17c"
      },
      "outputs": [],
      "source": [
        "# Definir o caminho da pasta onde estão os arquivos TXT\n",
        "folder_path = \"results_abc/random/\"  # Substitua pelo caminho correto\n",
        "\n",
        "# Lista todos os arquivos TXT na pasta\n",
        "txt_files = glob.glob(folder_path + \"*.txt\")\n",
        "\n",
        "# Definir os nomes das colunas (ajuste conforme os dados)\n",
        "columns = [\"fitness\", \"execution_time\", \"num_bees\", \"limit\", \"max_iter\",\n",
        "           \"filename\", \"num_vertices\", \"num_edges\"]\n",
        "\n",
        "txt_files"
      ]
    },
    {
      "cell_type": "code",
      "execution_count": null,
      "metadata": {
        "colab": {
          "base_uri": "https://localhost:8080/",
          "height": 206
        },
        "id": "lQK6QZa1UPlq",
        "outputId": "a8167bfa-c4d6-4140-8e26-cb82c15f04a6"
      },
      "outputs": [],
      "source": [
        "# Lista para armazenar os DataFrames individuais\n",
        "dfs = []\n",
        "\n",
        "# Ler cada arquivo TXT e adicionar ao DataFrame\n",
        "for file in txt_files:\n",
        "    df = pd.read_csv(file, sep=\";\", names=columns, header=None)\n",
        "    df['graph'] = file.split('/')[2].replace('.txt', '')\n",
        "    dfs.append(df)\n",
        "\n",
        "# Concatenar todos os DataFrames em um só\n",
        "df_final = pd.concat(dfs, ignore_index=True)\n",
        "\n",
        "# Exibir as primeiras linhas do DataFrame consolidado\n",
        "df_final.head()"
      ]
    },
    {
      "cell_type": "code",
      "execution_count": null,
      "metadata": {
        "colab": {
          "base_uri": "https://localhost:8080/",
          "height": 53
        },
        "id": "upg59eRSfqVg",
        "outputId": "4fb10293-71a6-4a15-9b8d-5b9129cfde1e"
      },
      "outputs": [],
      "source": [
        "df_final[df_final['graph']==None]"
      ]
    },
    {
      "cell_type": "code",
      "execution_count": null,
      "metadata": {
        "colab": {
          "base_uri": "https://localhost:8080/",
          "height": 423
        },
        "id": "MgWH6K6RR83q",
        "outputId": "fd57faed-ee75-4c4e-e75a-f34274a7796a"
      },
      "outputs": [],
      "source": [
        "# Normalizar a fitness dentro de cada grafo (opcional, mas pode ajudar)\n",
        "df_final[\"fitness_norm\"] = df_final.groupby(\"graph\")[\"fitness\"].transform(lambda x: (x - x.min()) / (x.max() - x.min()) if x.max() != x.min() else 0)\n",
        "\n",
        "df_final"
      ]
    },
    {
      "cell_type": "code",
      "execution_count": null,
      "metadata": {
        "id": "armnqK_vXVzt"
      },
      "outputs": [],
      "source": [
        "def objective(trial):\n",
        "    \"\"\"Função objetivo para o Optuna, buscando a melhor configuração de parâmetros já testada.\"\"\"\n",
        "\n",
        "    # Optuna irá escolher um conjunto de parâmetros dentro dos valores existentes\n",
        "    num_bees = trial.suggest_categorical(\"num_bees\", df_final[\"num_bees\"].unique().tolist())\n",
        "    limit = trial.suggest_categorical(\"limit\", df_final[\"limit\"].unique().tolist())\n",
        "    max_iter = trial.suggest_categorical(\"max_iter\", df_final[\"max_iter\"].unique().tolist())\n",
        "\n",
        "    # Filtrar apenas as execuções com esses parâmetros\n",
        "    subset = df_final[(df_final[\"num_bees\"] == num_bees) &\n",
        "                (df_final[\"limit\"] == limit) &\n",
        "                (df_final[\"max_iter\"] == max_iter)]\n",
        "\n",
        "    # Média das fitness normalizadas como critério de avaliação\n",
        "    fitness_score = subset[\"fitness_norm\"].mean()\n",
        "\n",
        "    return fitness_score  # O Optuna busca minimizar esse valor"
      ]
    },
    {
      "cell_type": "code",
      "execution_count": null,
      "metadata": {
        "colab": {
          "base_uri": "https://localhost:8080/"
        },
        "id": "Q6qAuV6biAPq",
        "outputId": "ede239f7-f1e6-4564-eb8d-3684b1d3857c"
      },
      "outputs": [],
      "source": [
        "# Criar e rodar a otimização\n",
        "study = optuna.create_study(direction=\"minimize\")\n",
        "study.optimize(objective, n_trials=100)  # Ajuste o número de trials conforme necessário\n",
        "\n",
        "# Exibir os melhores parâmetros encontrados\n",
        "print(\"Melhores parâmetros encontrados:\")\n",
        "print(study.best_params)"
      ]
    },
    {
      "cell_type": "code",
      "execution_count": null,
      "metadata": {
        "id": "65VX1SXAiH-X"
      },
      "outputs": [],
      "source": []
    },
    {
      "cell_type": "markdown",
      "metadata": {},
      "source": [
        "## ABC V2\n",
        "\n",
        "### Calibrar parâmetros"
      ]
    },
    {
      "cell_type": "code",
      "execution_count": 16,
      "metadata": {},
      "outputs": [
        {
          "name": "stdout",
          "output_type": "stream",
          "text": [
            " Optuna.ipynb\t\t\t       main_test_greedy\n",
            " Optuna.ipynb:Zone.Identifier\t       main_test_greedy.cpp\n",
            " README.md\t\t\t       main_test_methods.cpp\n",
            " documentacao.md\t\t       resultado_calibrar_parametro\n",
            " include\t\t\t       results_abc\n",
            " instance_calibrar.csv\t\t       results_abc_2\n",
            " instances\t\t\t       results_grasp\n",
            " instances_info.csv\t\t       results_greedy\n",
            "'instances_with_k copy.csv'\t       run_abc\n",
            " instances_with_k.csv\t\t       run_abc_calib\n",
            " instances_with_k2.csv\t\t       run_grasp\n",
            " instances_with_k_abc_2.csv\t       run_greedy\n",
            " instances_with_k_no_greedy_zero.csv   run_main_abc.cpp\n",
            " lib\t\t\t\t       run_main_abc_calibrar_parametros.cpp\n",
            " main\t\t\t\t       run_main_abc_until_zero.cpp\n",
            " main.cpp\t\t\t       run_main_grasp.cpp\n",
            " main_test_grasp\t\t       run_main_greedy.cpp\n",
            " main_test_grasp.cpp\t\t       shell_scripts\n"
          ]
        }
      ],
      "source": [
        "!ls"
      ]
    },
    {
      "cell_type": "code",
      "execution_count": 17,
      "metadata": {},
      "outputs": [
        {
          "data": {
            "text/html": [
              "<div>\n",
              "<style scoped>\n",
              "    .dataframe tbody tr th:only-of-type {\n",
              "        vertical-align: middle;\n",
              "    }\n",
              "\n",
              "    .dataframe tbody tr th {\n",
              "        vertical-align: top;\n",
              "    }\n",
              "\n",
              "    .dataframe thead th {\n",
              "        text-align: right;\n",
              "    }\n",
              "</style>\n",
              "<table border=\"1\" class=\"dataframe\">\n",
              "  <thead>\n",
              "    <tr style=\"text-align: right;\">\n",
              "      <th></th>\n",
              "      <th>conflitos</th>\n",
              "      <th>tempo_us</th>\n",
              "      <th>iter_found_best</th>\n",
              "      <th>num_bees</th>\n",
              "      <th>limit</th>\n",
              "      <th>max_iter</th>\n",
              "      <th>filename</th>\n",
              "      <th>rcl_size</th>\n",
              "      <th>random_search</th>\n",
              "      <th>num_vertices</th>\n",
              "      <th>num_edges</th>\n",
              "    </tr>\n",
              "  </thead>\n",
              "  <tbody>\n",
              "    <tr>\n",
              "      <th>0</th>\n",
              "      <td>165</td>\n",
              "      <td>899234</td>\n",
              "      <td>0</td>\n",
              "      <td>50</td>\n",
              "      <td>5</td>\n",
              "      <td>20</td>\n",
              "      <td>instances/DSJC500.5.col</td>\n",
              "      <td>1</td>\n",
              "      <td>0</td>\n",
              "      <td>500</td>\n",
              "      <td>62624</td>\n",
              "    </tr>\n",
              "    <tr>\n",
              "      <th>1</th>\n",
              "      <td>165</td>\n",
              "      <td>875770</td>\n",
              "      <td>0</td>\n",
              "      <td>50</td>\n",
              "      <td>5</td>\n",
              "      <td>20</td>\n",
              "      <td>instances/DSJC500.5.col</td>\n",
              "      <td>1</td>\n",
              "      <td>0</td>\n",
              "      <td>500</td>\n",
              "      <td>62624</td>\n",
              "    </tr>\n",
              "    <tr>\n",
              "      <th>2</th>\n",
              "      <td>169</td>\n",
              "      <td>890426</td>\n",
              "      <td>0</td>\n",
              "      <td>50</td>\n",
              "      <td>5</td>\n",
              "      <td>20</td>\n",
              "      <td>instances/DSJC500.5.col</td>\n",
              "      <td>1</td>\n",
              "      <td>0</td>\n",
              "      <td>500</td>\n",
              "      <td>62624</td>\n",
              "    </tr>\n",
              "    <tr>\n",
              "      <th>3</th>\n",
              "      <td>158</td>\n",
              "      <td>878147</td>\n",
              "      <td>0</td>\n",
              "      <td>50</td>\n",
              "      <td>5</td>\n",
              "      <td>20</td>\n",
              "      <td>instances/DSJC500.5.col</td>\n",
              "      <td>1</td>\n",
              "      <td>0</td>\n",
              "      <td>500</td>\n",
              "      <td>62624</td>\n",
              "    </tr>\n",
              "    <tr>\n",
              "      <th>4</th>\n",
              "      <td>167</td>\n",
              "      <td>883116</td>\n",
              "      <td>0</td>\n",
              "      <td>50</td>\n",
              "      <td>5</td>\n",
              "      <td>20</td>\n",
              "      <td>instances/DSJC500.5.col</td>\n",
              "      <td>1</td>\n",
              "      <td>0</td>\n",
              "      <td>500</td>\n",
              "      <td>62624</td>\n",
              "    </tr>\n",
              "  </tbody>\n",
              "</table>\n",
              "</div>"
            ],
            "text/plain": [
              "   conflitos  tempo_us  iter_found_best  num_bees  limit  max_iter  \\\n",
              "0        165    899234                0        50      5        20   \n",
              "1        165    875770                0        50      5        20   \n",
              "2        169    890426                0        50      5        20   \n",
              "3        158    878147                0        50      5        20   \n",
              "4        167    883116                0        50      5        20   \n",
              "\n",
              "                  filename  rcl_size  random_search  num_vertices  num_edges  \n",
              "0  instances/DSJC500.5.col         1              0           500      62624  \n",
              "1  instances/DSJC500.5.col         1              0           500      62624  \n",
              "2  instances/DSJC500.5.col         1              0           500      62624  \n",
              "3  instances/DSJC500.5.col         1              0           500      62624  \n",
              "4  instances/DSJC500.5.col         1              0           500      62624  "
            ]
          },
          "execution_count": 17,
          "metadata": {},
          "output_type": "execute_result"
        }
      ],
      "source": [
        "columns = ['conflitos', 'tempo_us', 'iter_found_best', 'num_bees', \n",
        "           'limit', 'max_iter', 'filename', 'rcl_size', 'random_search',\n",
        "           'num_vertices', 'num_edges' ]\n",
        "df = pd.read_csv('resultado_calibrar_parametro/DSJC500.5.txt', sep=';', names=columns, header=None)\n",
        "df.head()"
      ]
    },
    {
      "cell_type": "code",
      "execution_count": 18,
      "metadata": {},
      "outputs": [],
      "source": [
        "# df['fitness_norm'] = df[\"fitness\"].transform(lambda x: (x - x.min()) / (x.max() - x.min()) if x.max() != x.min() else 0)"
      ]
    },
    {
      "cell_type": "code",
      "execution_count": 21,
      "metadata": {},
      "outputs": [],
      "source": [
        "def objective_v2(trial):\n",
        "    \"\"\"Função objetivo para o Optuna, buscando a melhor configuração de parâmetros já testada.\"\"\"\n",
        "\n",
        "    # Optuna irá escolher um conjunto de parâmetros dentro dos valores existentes\n",
        "    num_bees = trial.suggest_categorical(\"num_bees\", df[\"num_bees\"].unique().tolist())\n",
        "    limit = trial.suggest_categorical(\"limit\", df[\"limit\"].unique().tolist())\n",
        "    max_iter = trial.suggest_categorical(\"max_iter\", df[\"max_iter\"].unique().tolist())\n",
        "\n",
        "    # Filtrar apenas as execuções com esses parâmetros\n",
        "    subset = df[(df[\"num_bees\"] == num_bees) &\n",
        "                (df[\"limit\"] == limit) &\n",
        "                (df[\"max_iter\"] == max_iter)]\n",
        "\n",
        "    # Média das fitness normalizadas como critério de avaliação\n",
        "    fitness_score = subset[\"conflitos\"].mean()\n",
        "\n",
        "    return fitness_score  # O Optuna busca minimizar esse valor"
      ]
    },
    {
      "cell_type": "code",
      "execution_count": 22,
      "metadata": {},
      "outputs": [
        {
          "name": "stderr",
          "output_type": "stream",
          "text": [
            "[I 2025-03-03 23:25:02,187] A new study created in memory with name: no-name-35c0fa86-c275-4a17-ae5a-d1300c8a65fa\n",
            "[I 2025-03-03 23:25:02,197] Trial 0 finished with value: 162.2 and parameters: {'num_bees': 300, 'limit': 10, 'max_iter': 80}. Best is trial 0 with value: 162.2.\n",
            "[I 2025-03-03 23:25:02,203] Trial 1 finished with value: 160.65 and parameters: {'num_bees': 300, 'limit': 10, 'max_iter': 70}. Best is trial 1 with value: 160.65.\n",
            "[I 2025-03-03 23:25:02,206] Trial 2 finished with value: 163.95 and parameters: {'num_bees': 100, 'limit': 50, 'max_iter': 20}. Best is trial 1 with value: 160.65.\n",
            "[I 2025-03-03 23:25:02,209] Trial 3 finished with value: 159.3 and parameters: {'num_bees': 300, 'limit': 25, 'max_iter': 50}. Best is trial 3 with value: 159.3.\n",
            "[I 2025-03-03 23:25:02,212] Trial 4 finished with value: 163.1 and parameters: {'num_bees': 100, 'limit': 25, 'max_iter': 50}. Best is trial 3 with value: 159.3.\n",
            "[I 2025-03-03 23:25:02,216] Trial 5 finished with value: 161.0 and parameters: {'num_bees': 300, 'limit': 5, 'max_iter': 70}. Best is trial 3 with value: 159.3.\n",
            "[I 2025-03-03 23:25:02,220] Trial 6 finished with value: 166.8 and parameters: {'num_bees': 50, 'limit': 5, 'max_iter': 70}. Best is trial 3 with value: 159.3.\n",
            "[I 2025-03-03 23:25:02,224] Trial 7 finished with value: 162.55 and parameters: {'num_bees': 200, 'limit': 25, 'max_iter': 70}. Best is trial 3 with value: 159.3.\n",
            "[I 2025-03-03 23:25:02,228] Trial 8 finished with value: 159.8 and parameters: {'num_bees': 200, 'limit': 50, 'max_iter': 50}. Best is trial 3 with value: 159.3.\n",
            "[I 2025-03-03 23:25:02,232] Trial 9 finished with value: 158.55 and parameters: {'num_bees': 300, 'limit': 50, 'max_iter': 50}. Best is trial 9 with value: 158.55.\n",
            "[I 2025-03-03 23:25:02,243] Trial 10 finished with value: 160.05 and parameters: {'num_bees': 400, 'limit': 50, 'max_iter': 20}. Best is trial 9 with value: 158.55.\n",
            "[I 2025-03-03 23:25:02,249] Trial 11 finished with value: 159.3 and parameters: {'num_bees': 300, 'limit': 25, 'max_iter': 50}. Best is trial 9 with value: 158.55.\n",
            "[I 2025-03-03 23:25:02,255] Trial 12 finished with value: 159.3 and parameters: {'num_bees': 300, 'limit': 25, 'max_iter': 50}. Best is trial 9 with value: 158.55.\n",
            "[I 2025-03-03 23:25:02,262] Trial 13 finished with value: 159.2 and parameters: {'num_bees': 400, 'limit': 50, 'max_iter': 50}. Best is trial 9 with value: 158.55.\n",
            "[I 2025-03-03 23:25:02,268] Trial 14 finished with value: 158.9 and parameters: {'num_bees': 400, 'limit': 50, 'max_iter': 80}. Best is trial 9 with value: 158.55.\n",
            "[I 2025-03-03 23:25:02,273] Trial 15 finished with value: 158.9 and parameters: {'num_bees': 400, 'limit': 50, 'max_iter': 80}. Best is trial 9 with value: 158.55.\n",
            "[I 2025-03-03 23:25:02,292] Trial 16 finished with value: 164.55 and parameters: {'num_bees': 50, 'limit': 50, 'max_iter': 80}. Best is trial 9 with value: 158.55.\n",
            "[I 2025-03-03 23:25:02,299] Trial 17 finished with value: 158.9 and parameters: {'num_bees': 400, 'limit': 50, 'max_iter': 80}. Best is trial 9 with value: 158.55.\n",
            "[I 2025-03-03 23:25:02,304] Trial 18 finished with value: 158.9 and parameters: {'num_bees': 400, 'limit': 50, 'max_iter': 80}. Best is trial 9 with value: 158.55.\n",
            "[I 2025-03-03 23:25:02,309] Trial 19 finished with value: 162.35 and parameters: {'num_bees': 200, 'limit': 5, 'max_iter': 20}. Best is trial 9 with value: 158.55.\n",
            "[I 2025-03-03 23:25:02,314] Trial 20 finished with value: 167.45 and parameters: {'num_bees': 50, 'limit': 10, 'max_iter': 80}. Best is trial 9 with value: 158.55.\n",
            "[I 2025-03-03 23:25:02,320] Trial 21 finished with value: 158.9 and parameters: {'num_bees': 400, 'limit': 50, 'max_iter': 80}. Best is trial 9 with value: 158.55.\n",
            "[I 2025-03-03 23:25:02,326] Trial 22 finished with value: 158.9 and parameters: {'num_bees': 400, 'limit': 50, 'max_iter': 80}. Best is trial 9 with value: 158.55.\n",
            "[I 2025-03-03 23:25:02,334] Trial 23 finished with value: 158.9 and parameters: {'num_bees': 400, 'limit': 50, 'max_iter': 80}. Best is trial 9 with value: 158.55.\n",
            "[I 2025-03-03 23:25:02,340] Trial 24 finished with value: 158.9 and parameters: {'num_bees': 400, 'limit': 50, 'max_iter': 80}. Best is trial 9 with value: 158.55.\n",
            "[I 2025-03-03 23:25:02,346] Trial 25 finished with value: 162.7 and parameters: {'num_bees': 100, 'limit': 50, 'max_iter': 80}. Best is trial 9 with value: 158.55.\n",
            "[I 2025-03-03 23:25:02,353] Trial 26 finished with value: 159.2 and parameters: {'num_bees': 400, 'limit': 50, 'max_iter': 50}. Best is trial 9 with value: 158.55.\n",
            "[I 2025-03-03 23:25:02,359] Trial 27 finished with value: 160.05 and parameters: {'num_bees': 400, 'limit': 50, 'max_iter': 20}. Best is trial 9 with value: 158.55.\n",
            "[I 2025-03-03 23:25:02,365] Trial 28 finished with value: 162.2 and parameters: {'num_bees': 300, 'limit': 10, 'max_iter': 80}. Best is trial 9 with value: 158.55.\n",
            "[I 2025-03-03 23:25:02,372] Trial 29 finished with value: 162.05 and parameters: {'num_bees': 300, 'limit': 5, 'max_iter': 80}. Best is trial 9 with value: 158.55.\n",
            "[I 2025-03-03 23:25:02,379] Trial 30 finished with value: 166.55 and parameters: {'num_bees': 50, 'limit': 10, 'max_iter': 50}. Best is trial 9 with value: 158.55.\n",
            "[I 2025-03-03 23:25:02,386] Trial 31 finished with value: 158.9 and parameters: {'num_bees': 400, 'limit': 50, 'max_iter': 80}. Best is trial 9 with value: 158.55.\n",
            "[I 2025-03-03 23:25:02,393] Trial 32 finished with value: 158.9 and parameters: {'num_bees': 400, 'limit': 50, 'max_iter': 80}. Best is trial 9 with value: 158.55.\n",
            "[I 2025-03-03 23:25:02,404] Trial 33 finished with value: 158.9 and parameters: {'num_bees': 400, 'limit': 50, 'max_iter': 80}. Best is trial 9 with value: 158.55.\n",
            "[I 2025-03-03 23:25:02,411] Trial 34 finished with value: 162.7 and parameters: {'num_bees': 100, 'limit': 50, 'max_iter': 80}. Best is trial 9 with value: 158.55.\n",
            "[I 2025-03-03 23:25:02,417] Trial 35 finished with value: 158.6 and parameters: {'num_bees': 400, 'limit': 50, 'max_iter': 70}. Best is trial 9 with value: 158.55.\n",
            "[I 2025-03-03 23:25:02,424] Trial 36 finished with value: 158.35 and parameters: {'num_bees': 300, 'limit': 50, 'max_iter': 70}. Best is trial 36 with value: 158.35.\n",
            "[I 2025-03-03 23:25:02,430] Trial 37 finished with value: 160.65 and parameters: {'num_bees': 300, 'limit': 10, 'max_iter': 70}. Best is trial 36 with value: 158.35.\n",
            "[I 2025-03-03 23:25:02,436] Trial 38 finished with value: 161.0 and parameters: {'num_bees': 300, 'limit': 5, 'max_iter': 70}. Best is trial 36 with value: 158.35.\n",
            "[I 2025-03-03 23:25:02,442] Trial 39 finished with value: 158.35 and parameters: {'num_bees': 300, 'limit': 50, 'max_iter': 70}. Best is trial 36 with value: 158.35.\n",
            "[I 2025-03-03 23:25:02,449] Trial 40 finished with value: 159.7 and parameters: {'num_bees': 300, 'limit': 25, 'max_iter': 70}. Best is trial 36 with value: 158.35.\n",
            "[I 2025-03-03 23:25:02,455] Trial 41 finished with value: 158.35 and parameters: {'num_bees': 300, 'limit': 50, 'max_iter': 70}. Best is trial 36 with value: 158.35.\n",
            "[I 2025-03-03 23:25:02,461] Trial 42 finished with value: 158.35 and parameters: {'num_bees': 300, 'limit': 50, 'max_iter': 70}. Best is trial 36 with value: 158.35.\n",
            "[I 2025-03-03 23:25:02,470] Trial 43 finished with value: 158.35 and parameters: {'num_bees': 300, 'limit': 50, 'max_iter': 70}. Best is trial 36 with value: 158.35.\n",
            "[I 2025-03-03 23:25:02,475] Trial 44 finished with value: 158.35 and parameters: {'num_bees': 300, 'limit': 50, 'max_iter': 70}. Best is trial 36 with value: 158.35.\n",
            "[I 2025-03-03 23:25:02,480] Trial 45 finished with value: 158.35 and parameters: {'num_bees': 300, 'limit': 50, 'max_iter': 70}. Best is trial 36 with value: 158.35.\n",
            "[I 2025-03-03 23:25:02,486] Trial 46 finished with value: 158.35 and parameters: {'num_bees': 300, 'limit': 50, 'max_iter': 70}. Best is trial 36 with value: 158.35.\n",
            "[I 2025-03-03 23:25:02,492] Trial 47 finished with value: 159.7 and parameters: {'num_bees': 300, 'limit': 25, 'max_iter': 70}. Best is trial 36 with value: 158.35.\n",
            "[I 2025-03-03 23:25:02,496] Trial 48 finished with value: 158.35 and parameters: {'num_bees': 300, 'limit': 50, 'max_iter': 70}. Best is trial 36 with value: 158.35.\n",
            "[I 2025-03-03 23:25:02,503] Trial 49 finished with value: 161.0 and parameters: {'num_bees': 300, 'limit': 5, 'max_iter': 70}. Best is trial 36 with value: 158.35.\n",
            "[I 2025-03-03 23:25:02,509] Trial 50 finished with value: 158.35 and parameters: {'num_bees': 300, 'limit': 50, 'max_iter': 70}. Best is trial 36 with value: 158.35.\n",
            "[I 2025-03-03 23:25:02,514] Trial 51 finished with value: 158.35 and parameters: {'num_bees': 300, 'limit': 50, 'max_iter': 70}. Best is trial 36 with value: 158.35.\n",
            "[I 2025-03-03 23:25:02,520] Trial 52 finished with value: 158.35 and parameters: {'num_bees': 300, 'limit': 50, 'max_iter': 70}. Best is trial 36 with value: 158.35.\n",
            "[I 2025-03-03 23:25:02,526] Trial 53 finished with value: 160.5 and parameters: {'num_bees': 200, 'limit': 50, 'max_iter': 70}. Best is trial 36 with value: 158.35.\n",
            "[I 2025-03-03 23:25:02,531] Trial 54 finished with value: 158.35 and parameters: {'num_bees': 300, 'limit': 50, 'max_iter': 70}. Best is trial 36 with value: 158.35.\n",
            "[I 2025-03-03 23:25:02,537] Trial 55 finished with value: 158.35 and parameters: {'num_bees': 300, 'limit': 50, 'max_iter': 70}. Best is trial 36 with value: 158.35.\n",
            "[I 2025-03-03 23:25:02,544] Trial 56 finished with value: 159.7 and parameters: {'num_bees': 300, 'limit': 25, 'max_iter': 70}. Best is trial 36 with value: 158.35.\n",
            "[I 2025-03-03 23:25:02,550] Trial 57 finished with value: 158.35 and parameters: {'num_bees': 300, 'limit': 50, 'max_iter': 70}. Best is trial 36 with value: 158.35.\n",
            "[I 2025-03-03 23:25:02,556] Trial 58 finished with value: 163.95 and parameters: {'num_bees': 100, 'limit': 50, 'max_iter': 20}. Best is trial 36 with value: 158.35.\n",
            "[I 2025-03-03 23:25:02,561] Trial 59 finished with value: 160.5 and parameters: {'num_bees': 200, 'limit': 50, 'max_iter': 70}. Best is trial 36 with value: 158.35.\n",
            "[I 2025-03-03 23:25:02,568] Trial 60 finished with value: 160.65 and parameters: {'num_bees': 300, 'limit': 10, 'max_iter': 70}. Best is trial 36 with value: 158.35.\n",
            "[I 2025-03-03 23:25:02,573] Trial 61 finished with value: 158.35 and parameters: {'num_bees': 300, 'limit': 50, 'max_iter': 70}. Best is trial 36 with value: 158.35.\n",
            "[I 2025-03-03 23:25:02,580] Trial 62 finished with value: 158.35 and parameters: {'num_bees': 300, 'limit': 50, 'max_iter': 70}. Best is trial 36 with value: 158.35.\n",
            "[I 2025-03-03 23:25:02,586] Trial 63 finished with value: 158.35 and parameters: {'num_bees': 300, 'limit': 50, 'max_iter': 70}. Best is trial 36 with value: 158.35.\n",
            "[I 2025-03-03 23:25:02,591] Trial 64 finished with value: 158.35 and parameters: {'num_bees': 300, 'limit': 50, 'max_iter': 70}. Best is trial 36 with value: 158.35.\n",
            "[I 2025-03-03 23:25:02,596] Trial 65 finished with value: 164.7 and parameters: {'num_bees': 50, 'limit': 50, 'max_iter': 70}. Best is trial 36 with value: 158.35.\n",
            "[I 2025-03-03 23:25:02,603] Trial 66 finished with value: 158.35 and parameters: {'num_bees': 300, 'limit': 50, 'max_iter': 70}. Best is trial 36 with value: 158.35.\n",
            "[I 2025-03-03 23:25:02,609] Trial 67 finished with value: 161.2 and parameters: {'num_bees': 300, 'limit': 5, 'max_iter': 20}. Best is trial 36 with value: 158.35.\n",
            "[I 2025-03-03 23:25:02,614] Trial 68 finished with value: 158.35 and parameters: {'num_bees': 300, 'limit': 50, 'max_iter': 70}. Best is trial 36 with value: 158.35.\n",
            "[I 2025-03-03 23:25:02,621] Trial 69 finished with value: 163.45 and parameters: {'num_bees': 100, 'limit': 50, 'max_iter': 70}. Best is trial 36 with value: 158.35.\n",
            "[I 2025-03-03 23:25:02,627] Trial 70 finished with value: 158.35 and parameters: {'num_bees': 300, 'limit': 50, 'max_iter': 70}. Best is trial 36 with value: 158.35.\n",
            "[I 2025-03-03 23:25:02,633] Trial 71 finished with value: 158.35 and parameters: {'num_bees': 300, 'limit': 50, 'max_iter': 70}. Best is trial 36 with value: 158.35.\n",
            "[I 2025-03-03 23:25:02,638] Trial 72 finished with value: 158.35 and parameters: {'num_bees': 300, 'limit': 50, 'max_iter': 70}. Best is trial 36 with value: 158.35.\n",
            "[I 2025-03-03 23:25:02,644] Trial 73 finished with value: 158.35 and parameters: {'num_bees': 300, 'limit': 50, 'max_iter': 70}. Best is trial 36 with value: 158.35.\n",
            "[I 2025-03-03 23:25:02,650] Trial 74 finished with value: 158.55 and parameters: {'num_bees': 300, 'limit': 50, 'max_iter': 50}. Best is trial 36 with value: 158.35.\n",
            "[I 2025-03-03 23:25:02,655] Trial 75 finished with value: 160.5 and parameters: {'num_bees': 200, 'limit': 50, 'max_iter': 70}. Best is trial 36 with value: 158.35.\n",
            "[I 2025-03-03 23:25:02,661] Trial 76 finished with value: 166.5 and parameters: {'num_bees': 50, 'limit': 25, 'max_iter': 70}. Best is trial 36 with value: 158.35.\n",
            "[I 2025-03-03 23:25:02,667] Trial 77 finished with value: 160.65 and parameters: {'num_bees': 300, 'limit': 10, 'max_iter': 70}. Best is trial 36 with value: 158.35.\n",
            "[I 2025-03-03 23:25:02,673] Trial 78 finished with value: 161.4 and parameters: {'num_bees': 300, 'limit': 50, 'max_iter': 20}. Best is trial 36 with value: 158.35.\n",
            "[I 2025-03-03 23:25:02,679] Trial 79 finished with value: 158.35 and parameters: {'num_bees': 300, 'limit': 50, 'max_iter': 70}. Best is trial 36 with value: 158.35.\n",
            "[I 2025-03-03 23:25:02,685] Trial 80 finished with value: 158.35 and parameters: {'num_bees': 300, 'limit': 50, 'max_iter': 70}. Best is trial 36 with value: 158.35.\n",
            "[I 2025-03-03 23:25:02,691] Trial 81 finished with value: 158.35 and parameters: {'num_bees': 300, 'limit': 50, 'max_iter': 70}. Best is trial 36 with value: 158.35.\n",
            "[I 2025-03-03 23:25:02,696] Trial 82 finished with value: 158.35 and parameters: {'num_bees': 300, 'limit': 50, 'max_iter': 70}. Best is trial 36 with value: 158.35.\n",
            "[I 2025-03-03 23:25:02,702] Trial 83 finished with value: 158.35 and parameters: {'num_bees': 300, 'limit': 50, 'max_iter': 70}. Best is trial 36 with value: 158.35.\n",
            "[I 2025-03-03 23:25:02,707] Trial 84 finished with value: 158.35 and parameters: {'num_bees': 300, 'limit': 50, 'max_iter': 70}. Best is trial 36 with value: 158.35.\n",
            "[I 2025-03-03 23:25:02,714] Trial 85 finished with value: 161.4 and parameters: {'num_bees': 300, 'limit': 5, 'max_iter': 50}. Best is trial 36 with value: 158.35.\n",
            "[I 2025-03-03 23:25:02,720] Trial 86 finished with value: 158.35 and parameters: {'num_bees': 300, 'limit': 50, 'max_iter': 70}. Best is trial 36 with value: 158.35.\n",
            "[I 2025-03-03 23:25:02,726] Trial 87 finished with value: 163.45 and parameters: {'num_bees': 100, 'limit': 50, 'max_iter': 70}. Best is trial 36 with value: 158.35.\n",
            "[I 2025-03-03 23:25:02,732] Trial 88 finished with value: 158.35 and parameters: {'num_bees': 300, 'limit': 50, 'max_iter': 70}. Best is trial 36 with value: 158.35.\n",
            "[I 2025-03-03 23:25:02,737] Trial 89 finished with value: 166.5 and parameters: {'num_bees': 50, 'limit': 25, 'max_iter': 70}. Best is trial 36 with value: 158.35.\n",
            "[I 2025-03-03 23:25:02,743] Trial 90 finished with value: 158.35 and parameters: {'num_bees': 300, 'limit': 50, 'max_iter': 70}. Best is trial 36 with value: 158.35.\n",
            "[I 2025-03-03 23:25:02,750] Trial 91 finished with value: 158.35 and parameters: {'num_bees': 300, 'limit': 50, 'max_iter': 70}. Best is trial 36 with value: 158.35.\n",
            "[I 2025-03-03 23:25:02,756] Trial 92 finished with value: 158.35 and parameters: {'num_bees': 300, 'limit': 50, 'max_iter': 70}. Best is trial 36 with value: 158.35.\n",
            "[I 2025-03-03 23:25:02,761] Trial 93 finished with value: 158.35 and parameters: {'num_bees': 300, 'limit': 50, 'max_iter': 70}. Best is trial 36 with value: 158.35.\n",
            "[I 2025-03-03 23:25:02,768] Trial 94 finished with value: 160.5 and parameters: {'num_bees': 200, 'limit': 50, 'max_iter': 70}. Best is trial 36 with value: 158.35.\n",
            "[I 2025-03-03 23:25:02,775] Trial 95 finished with value: 160.65 and parameters: {'num_bees': 300, 'limit': 10, 'max_iter': 70}. Best is trial 36 with value: 158.35.\n",
            "[I 2025-03-03 23:25:02,780] Trial 96 finished with value: 158.35 and parameters: {'num_bees': 300, 'limit': 50, 'max_iter': 70}. Best is trial 36 with value: 158.35.\n",
            "[I 2025-03-03 23:25:02,788] Trial 97 finished with value: 158.35 and parameters: {'num_bees': 300, 'limit': 50, 'max_iter': 70}. Best is trial 36 with value: 158.35.\n",
            "[I 2025-03-03 23:25:02,794] Trial 98 finished with value: 161.4 and parameters: {'num_bees': 300, 'limit': 50, 'max_iter': 20}. Best is trial 36 with value: 158.35.\n",
            "[I 2025-03-03 23:25:02,802] Trial 99 finished with value: 158.35 and parameters: {'num_bees': 300, 'limit': 50, 'max_iter': 70}. Best is trial 36 with value: 158.35.\n"
          ]
        },
        {
          "name": "stdout",
          "output_type": "stream",
          "text": [
            "Melhores parâmetros encontrados:\n",
            "{'num_bees': 300, 'limit': 50, 'max_iter': 70}\n"
          ]
        }
      ],
      "source": [
        "# Criar e rodar a otimização\n",
        "study = optuna.create_study(direction=\"minimize\")\n",
        "study.optimize(objective_v2, n_trials=100)  # Ajuste o número de trials conforme necessário\n",
        "\n",
        "# Exibir os melhores parâmetros encontrados\n",
        "print(\"Melhores parâmetros encontrados:\")\n",
        "print(study.best_params)"
      ]
    },
    {
      "cell_type": "code",
      "execution_count": null,
      "metadata": {},
      "outputs": [],
      "source": []
    }
  ],
  "metadata": {
    "colab": {
      "provenance": []
    },
    "kernelspec": {
      "display_name": "Python 3",
      "name": "python3"
    },
    "language_info": {
      "codemirror_mode": {
        "name": "ipython",
        "version": 3
      },
      "file_extension": ".py",
      "mimetype": "text/x-python",
      "name": "python",
      "nbconvert_exporter": "python",
      "pygments_lexer": "ipython3",
      "version": "3.10.12"
    }
  },
  "nbformat": 4,
  "nbformat_minor": 0
}
