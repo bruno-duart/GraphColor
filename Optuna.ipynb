{
  "cells": [
    {
      "cell_type": "code",
      "execution_count": 2,
      "metadata": {
        "id": "GpyvqjPMRBnQ"
      },
      "outputs": [],
      "source": [
        "import pandas as pd\n",
        "import glob"
      ]
    },
    {
      "cell_type": "code",
      "execution_count": 3,
      "metadata": {
        "id": "gmlyd8xWRmKp"
      },
      "outputs": [],
      "source": [
        "import seaborn as sns\n",
        "import matplotlib.pyplot as plt"
      ]
    },
    {
      "cell_type": "code",
      "execution_count": 4,
      "metadata": {
        "colab": {
          "base_uri": "https://localhost:8080/"
        },
        "id": "a3s_XzHLWwFg",
        "outputId": "f58bb5b6-6ca8-42f7-82c4-53561eaadb8b"
      },
      "outputs": [
        {
          "name": "stdout",
          "output_type": "stream",
          "text": [
            "Note: you may need to restart the kernel to use updated packages.\n"
          ]
        }
      ],
      "source": [
        "%pip install --quiet optuna"
      ]
    },
    {
      "cell_type": "code",
      "execution_count": 5,
      "metadata": {
        "id": "YMk7QmFSRzpG"
      },
      "outputs": [
        {
          "name": "stderr",
          "output_type": "stream",
          "text": [
            "/home/duarbrun/.local/lib/python3.10/site-packages/tqdm/auto.py:21: TqdmWarning: IProgress not found. Please update jupyter and ipywidgets. See https://ipywidgets.readthedocs.io/en/stable/user_install.html\n",
            "  from .autonotebook import tqdm as notebook_tqdm\n"
          ]
        }
      ],
      "source": [
        "import optuna\n",
        "import os"
      ]
    },
    {
      "cell_type": "code",
      "execution_count": 6,
      "metadata": {
        "colab": {
          "base_uri": "https://localhost:8080/",
          "height": 35
        },
        "id": "HwT6QlCwW1kV",
        "outputId": "db298222-b7ac-4a26-9f93-a93c633a8f54"
      },
      "outputs": [
        {
          "data": {
            "text/plain": [
              "'4.2.1'"
            ]
          },
          "execution_count": 6,
          "metadata": {},
          "output_type": "execute_result"
        }
      ],
      "source": [
        "optuna.__version__"
      ]
    },
    {
      "cell_type": "code",
      "execution_count": null,
      "metadata": {
        "id": "yI_ru_NfRi_f"
      },
      "outputs": [],
      "source": [
        "os.chdir(\"drive/MyDrive/Mestrado/GraphColor/results_abc_v1\")"
      ]
    },
    {
      "cell_type": "code",
      "execution_count": 6,
      "metadata": {
        "colab": {
          "base_uri": "https://localhost:8080/"
        },
        "id": "12teTxDuSxrU",
        "outputId": "9e2284ba-7975-48d9-c25a-58e7d2fbd314"
      },
      "outputs": [
        {
          "name": "stdout",
          "output_type": "stream",
          "text": [
            " AnalyseParameters.ipynb\t       main_test_tabu_search\n",
            " Optuna.ipynb\t\t\t       main_test_tabu_search.cpp\n",
            " Optuna.ipynb:Zone.Identifier\t       resultado_calibrar_parametro\n",
            " README.md\t\t\t       results_abc\n",
            " documentacao.md\t\t       results_abc_2\n",
            " include\t\t\t       results_abc_3\n",
            " instance_calibrar.csv\t\t       results_abc_tabu\n",
            " instances\t\t\t       results_abc_v2\n",
            " instances_info.csv\t\t       results_grasp\n",
            "'instances_with_k copy.csv'\t       results_greedy\n",
            " instances_with_k.csv\t\t       results_sa\n",
            " instances_with_k2.csv\t\t       results_tabu\n",
            " instances_with_k_abc_2.csv\t       run_abc\n",
            " instances_with_k_analysis.csv\t       run_abc_calib\n",
            " instances_with_k_no_greedy_zero.csv   run_grasp\n",
            " lib\t\t\t\t       run_greedy\n",
            " main\t\t\t\t       run_main_abc.cpp\n",
            " main.cpp\t\t\t       run_main_abc_calibrar_parametros.cpp\n",
            " main_test_abc_v2\t\t       run_main_abc_until_zero.cpp\n",
            " main_test_abc_v2.cpp\t\t       run_main_abc_v2\n",
            " main_test_fwlist\t\t       run_main_abc_v2.cpp\n",
            " main_test_fwlist.cpp\t\t       run_main_grasp.cpp\n",
            " main_test_grasp\t\t       run_main_greedy.cpp\n",
            " main_test_grasp.cpp\t\t       run_main_sa.cpp\n",
            " main_test_greedy\t\t       run_main_tabu.cpp\n",
            " main_test_greedy.cpp\t\t       run_sa\n",
            " main_test_methods.cpp\t\t       run_tabu\n",
            " main_test_sa\t\t\t       shell_scripts\n",
            " main_test_simulated_annealing.cpp\n"
          ]
        }
      ],
      "source": [
        "!ls"
      ]
    },
    {
      "cell_type": "markdown",
      "metadata": {
        "id": "q2P7Uur5Vd_6"
      },
      "source": [
        "## ABC V1"
      ]
    },
    {
      "cell_type": "code",
      "execution_count": null,
      "metadata": {
        "colab": {
          "base_uri": "https://localhost:8080/"
        },
        "id": "4ACWQnF_RvJA",
        "outputId": "4700dc3c-fceb-411e-d4f2-04189a30e17c"
      },
      "outputs": [],
      "source": [
        "# Definir o caminho da pasta onde estão os arquivos TXT\n",
        "folder_path = \"results_abc/random/\"  # Substitua pelo caminho correto\n",
        "\n",
        "# Lista todos os arquivos TXT na pasta\n",
        "txt_files = glob.glob(folder_path + \"*.txt\")\n",
        "\n",
        "# Definir os nomes das colunas (ajuste conforme os dados)\n",
        "columns = [\"fitness\", \"execution_time\", \"num_bees\", \"limit\", \"max_iter\",\n",
        "           \"filename\", \"num_vertices\", \"num_edges\"]\n",
        "\n",
        "txt_files"
      ]
    },
    {
      "cell_type": "code",
      "execution_count": null,
      "metadata": {
        "colab": {
          "base_uri": "https://localhost:8080/",
          "height": 206
        },
        "id": "lQK6QZa1UPlq",
        "outputId": "a8167bfa-c4d6-4140-8e26-cb82c15f04a6"
      },
      "outputs": [],
      "source": [
        "# Lista para armazenar os DataFrames individuais\n",
        "dfs = []\n",
        "\n",
        "# Ler cada arquivo TXT e adicionar ao DataFrame\n",
        "for file in txt_files:\n",
        "    df = pd.read_csv(file, sep=\";\", names=columns, header=None)\n",
        "    df['graph'] = file.split('/')[2].replace('.txt', '')\n",
        "    dfs.append(df)\n",
        "\n",
        "# Concatenar todos os DataFrames em um só\n",
        "df_final = pd.concat(dfs, ignore_index=True)\n",
        "\n",
        "# Exibir as primeiras linhas do DataFrame consolidado\n",
        "df_final.head()"
      ]
    },
    {
      "cell_type": "code",
      "execution_count": null,
      "metadata": {
        "colab": {
          "base_uri": "https://localhost:8080/",
          "height": 53
        },
        "id": "upg59eRSfqVg",
        "outputId": "4fb10293-71a6-4a15-9b8d-5b9129cfde1e"
      },
      "outputs": [],
      "source": [
        "df_final[df_final['graph']==None]"
      ]
    },
    {
      "cell_type": "code",
      "execution_count": null,
      "metadata": {
        "colab": {
          "base_uri": "https://localhost:8080/",
          "height": 423
        },
        "id": "MgWH6K6RR83q",
        "outputId": "fd57faed-ee75-4c4e-e75a-f34274a7796a"
      },
      "outputs": [],
      "source": [
        "# Normalizar a fitness dentro de cada grafo (opcional, mas pode ajudar)\n",
        "df_final[\"fitness_norm\"] = df_final.groupby(\"graph\")[\"fitness\"].transform(lambda x: (x - x.min()) / (x.max() - x.min()) if x.max() != x.min() else 0)\n",
        "\n",
        "df_final"
      ]
    },
    {
      "cell_type": "code",
      "execution_count": null,
      "metadata": {
        "id": "armnqK_vXVzt"
      },
      "outputs": [],
      "source": [
        "def objective(trial):\n",
        "    \"\"\"Função objetivo para o Optuna, buscando a melhor configuração de parâmetros já testada.\"\"\"\n",
        "\n",
        "    # Optuna irá escolher um conjunto de parâmetros dentro dos valores existentes\n",
        "    num_bees = trial.suggest_categorical(\"num_bees\", df_final[\"num_bees\"].unique().tolist())\n",
        "    limit = trial.suggest_categorical(\"limit\", df_final[\"limit\"].unique().tolist())\n",
        "    max_iter = trial.suggest_categorical(\"max_iter\", df_final[\"max_iter\"].unique().tolist())\n",
        "\n",
        "    # Filtrar apenas as execuções com esses parâmetros\n",
        "    subset = df_final[(df_final[\"num_bees\"] == num_bees) &\n",
        "                (df_final[\"limit\"] == limit) &\n",
        "                (df_final[\"max_iter\"] == max_iter)]\n",
        "\n",
        "    # Média das fitness normalizadas como critério de avaliação\n",
        "    fitness_score = subset[\"fitness_norm\"].mean()\n",
        "\n",
        "    return fitness_score  # O Optuna busca minimizar esse valor"
      ]
    },
    {
      "cell_type": "code",
      "execution_count": null,
      "metadata": {
        "colab": {
          "base_uri": "https://localhost:8080/"
        },
        "id": "Q6qAuV6biAPq",
        "outputId": "ede239f7-f1e6-4564-eb8d-3684b1d3857c"
      },
      "outputs": [],
      "source": [
        "# Criar e rodar a otimização\n",
        "study = optuna.create_study(direction=\"minimize\")\n",
        "study.optimize(objective, n_trials=100)  # Ajuste o número de trials conforme necessário\n",
        "\n",
        "# Exibir os melhores parâmetros encontrados\n",
        "print(\"Melhores parâmetros encontrados:\")\n",
        "print(study.best_params)"
      ]
    },
    {
      "cell_type": "code",
      "execution_count": null,
      "metadata": {
        "id": "65VX1SXAiH-X"
      },
      "outputs": [],
      "source": []
    },
    {
      "cell_type": "markdown",
      "metadata": {},
      "source": [
        "## ABC V2\n",
        "\n",
        "### Calibrar parâmetros"
      ]
    },
    {
      "cell_type": "code",
      "execution_count": 6,
      "metadata": {},
      "outputs": [
        {
          "name": "stdout",
          "output_type": "stream",
          "text": [
            " Optuna.ipynb\t\t\t       main_test_greedy.cpp\n",
            " Optuna.ipynb:Zone.Identifier\t       main_test_methods.cpp\n",
            " README.md\t\t\t       main_test_sa\n",
            " documentacao.md\t\t       main_test_simulated_annealing.cpp\n",
            " include\t\t\t       main_test_tabu_search\n",
            " instance_calibrar.csv\t\t       main_test_tabu_search.cpp\n",
            " instances\t\t\t       resultado_calibrar_parametro\n",
            " instances_info.csv\t\t       results_abc\n",
            "'instances_with_k copy.csv'\t       results_abc_2\n",
            " instances_with_k.csv\t\t       results_grasp\n",
            " instances_with_k2.csv\t\t       results_greedy\n",
            " instances_with_k_abc_2.csv\t       run_abc\n",
            " instances_with_k_no_greedy_zero.csv   run_abc_calib\n",
            " lib\t\t\t\t       run_grasp\n",
            " main\t\t\t\t       run_greedy\n",
            " main.cpp\t\t\t       run_main_abc.cpp\n",
            " main_test_fwlist\t\t       run_main_abc_calibrar_parametros.cpp\n",
            " main_test_fwlist.cpp\t\t       run_main_abc_until_zero.cpp\n",
            " main_test_grasp\t\t       run_main_grasp.cpp\n",
            " main_test_grasp.cpp\t\t       run_main_greedy.cpp\n",
            " main_test_greedy\t\t       shell_scripts\n"
          ]
        }
      ],
      "source": [
        "!ls"
      ]
    },
    {
      "cell_type": "code",
      "execution_count": 7,
      "metadata": {},
      "outputs": [
        {
          "data": {
            "text/html": [
              "<div>\n",
              "<style scoped>\n",
              "    .dataframe tbody tr th:only-of-type {\n",
              "        vertical-align: middle;\n",
              "    }\n",
              "\n",
              "    .dataframe tbody tr th {\n",
              "        vertical-align: top;\n",
              "    }\n",
              "\n",
              "    .dataframe thead th {\n",
              "        text-align: right;\n",
              "    }\n",
              "</style>\n",
              "<table border=\"1\" class=\"dataframe\">\n",
              "  <thead>\n",
              "    <tr style=\"text-align: right;\">\n",
              "      <th></th>\n",
              "      <th>conflitos</th>\n",
              "      <th>tempo_us</th>\n",
              "      <th>iter_found_best</th>\n",
              "      <th>num_bees</th>\n",
              "      <th>limit</th>\n",
              "      <th>max_iter</th>\n",
              "      <th>filename</th>\n",
              "      <th>rcl_size</th>\n",
              "      <th>random_search</th>\n",
              "      <th>num_vertices</th>\n",
              "      <th>num_edges</th>\n",
              "    </tr>\n",
              "  </thead>\n",
              "  <tbody>\n",
              "    <tr>\n",
              "      <th>0</th>\n",
              "      <td>165</td>\n",
              "      <td>899234</td>\n",
              "      <td>0</td>\n",
              "      <td>50</td>\n",
              "      <td>5</td>\n",
              "      <td>20</td>\n",
              "      <td>instances/DSJC500.5.col</td>\n",
              "      <td>1</td>\n",
              "      <td>0</td>\n",
              "      <td>500</td>\n",
              "      <td>62624</td>\n",
              "    </tr>\n",
              "    <tr>\n",
              "      <th>1</th>\n",
              "      <td>165</td>\n",
              "      <td>875770</td>\n",
              "      <td>0</td>\n",
              "      <td>50</td>\n",
              "      <td>5</td>\n",
              "      <td>20</td>\n",
              "      <td>instances/DSJC500.5.col</td>\n",
              "      <td>1</td>\n",
              "      <td>0</td>\n",
              "      <td>500</td>\n",
              "      <td>62624</td>\n",
              "    </tr>\n",
              "    <tr>\n",
              "      <th>2</th>\n",
              "      <td>169</td>\n",
              "      <td>890426</td>\n",
              "      <td>0</td>\n",
              "      <td>50</td>\n",
              "      <td>5</td>\n",
              "      <td>20</td>\n",
              "      <td>instances/DSJC500.5.col</td>\n",
              "      <td>1</td>\n",
              "      <td>0</td>\n",
              "      <td>500</td>\n",
              "      <td>62624</td>\n",
              "    </tr>\n",
              "    <tr>\n",
              "      <th>3</th>\n",
              "      <td>158</td>\n",
              "      <td>878147</td>\n",
              "      <td>0</td>\n",
              "      <td>50</td>\n",
              "      <td>5</td>\n",
              "      <td>20</td>\n",
              "      <td>instances/DSJC500.5.col</td>\n",
              "      <td>1</td>\n",
              "      <td>0</td>\n",
              "      <td>500</td>\n",
              "      <td>62624</td>\n",
              "    </tr>\n",
              "    <tr>\n",
              "      <th>4</th>\n",
              "      <td>167</td>\n",
              "      <td>883116</td>\n",
              "      <td>0</td>\n",
              "      <td>50</td>\n",
              "      <td>5</td>\n",
              "      <td>20</td>\n",
              "      <td>instances/DSJC500.5.col</td>\n",
              "      <td>1</td>\n",
              "      <td>0</td>\n",
              "      <td>500</td>\n",
              "      <td>62624</td>\n",
              "    </tr>\n",
              "  </tbody>\n",
              "</table>\n",
              "</div>"
            ],
            "text/plain": [
              "   conflitos  tempo_us  iter_found_best  num_bees  limit  max_iter  \\\n",
              "0        165    899234                0        50      5        20   \n",
              "1        165    875770                0        50      5        20   \n",
              "2        169    890426                0        50      5        20   \n",
              "3        158    878147                0        50      5        20   \n",
              "4        167    883116                0        50      5        20   \n",
              "\n",
              "                  filename  rcl_size  random_search  num_vertices  num_edges  \n",
              "0  instances/DSJC500.5.col         1              0           500      62624  \n",
              "1  instances/DSJC500.5.col         1              0           500      62624  \n",
              "2  instances/DSJC500.5.col         1              0           500      62624  \n",
              "3  instances/DSJC500.5.col         1              0           500      62624  \n",
              "4  instances/DSJC500.5.col         1              0           500      62624  "
            ]
          },
          "execution_count": 7,
          "metadata": {},
          "output_type": "execute_result"
        }
      ],
      "source": [
        "columns = ['conflitos', 'tempo_us', 'iter_found_best', 'num_bees', \n",
        "           'limit', 'max_iter', 'filename', 'rcl_size', 'random_search',\n",
        "           'num_vertices', 'num_edges' ]\n",
        "df = pd.read_csv('resultado_calibrar_parametro/DSJC500.5.txt', sep=';', names=columns, header=None)\n",
        "df.head()"
      ]
    },
    {
      "cell_type": "code",
      "execution_count": 8,
      "metadata": {},
      "outputs": [],
      "source": [
        "# df['fitness_norm'] = df[\"fitness\"].transform(lambda x: (x - x.min()) / (x.max() - x.min()) if x.max() != x.min() else 0)"
      ]
    },
    {
      "cell_type": "code",
      "execution_count": 9,
      "metadata": {},
      "outputs": [],
      "source": [
        "def objective_v2(trial):\n",
        "    \"\"\"Função objetivo para o Optuna, buscando a melhor configuração de parâmetros já testada.\"\"\"\n",
        "\n",
        "    # Optuna irá escolher um conjunto de parâmetros dentro dos valores existentes\n",
        "    num_bees = trial.suggest_categorical(\"num_bees\", df[\"num_bees\"].unique().tolist())\n",
        "    limit = trial.suggest_categorical(\"limit\", df[\"limit\"].unique().tolist())\n",
        "    max_iter = trial.suggest_categorical(\"max_iter\", df[\"max_iter\"].unique().tolist())\n",
        "    random_search = trial.suggest_categorical(\"random_search\", df[\"random_search\"].unique().tolist())\n",
        "\n",
        "    # Filtrar apenas as execuções com esses parâmetros\n",
        "    subset = df[(df[\"num_bees\"] == num_bees) &\n",
        "                (df[\"limit\"] == limit) &\n",
        "                (df[\"max_iter\"] == max_iter) &\n",
        "                (df[\"random_search\"] == random_search)]\n",
        "\n",
        "    # Média das fitness normalizadas como critério de avaliação\n",
        "    fitness_score = subset[\"conflitos\"].mean()\n",
        "\n",
        "    return fitness_score  # O Optuna busca minimizar esse valor"
      ]
    },
    {
      "cell_type": "code",
      "execution_count": 12,
      "metadata": {},
      "outputs": [
        {
          "name": "stderr",
          "output_type": "stream",
          "text": [
            "[I 2025-03-05 16:44:38,643] A new study created in memory with name: no-name-461f49fe-e9fa-4f42-aee6-8f77839823ed\n",
            "[I 2025-03-05 16:44:38,653] Trial 0 finished with value: 165.4 and parameters: {'num_bees': 100, 'limit': 10, 'max_iter': 50, 'random_search': 0}. Best is trial 0 with value: 165.4.\n",
            "[I 2025-03-05 16:44:38,656] Trial 1 finished with value: 162.1 and parameters: {'num_bees': 100, 'limit': 25, 'max_iter': 80, 'random_search': 0}. Best is trial 1 with value: 162.1.\n",
            "[I 2025-03-05 16:44:38,660] Trial 2 finished with value: 159.7 and parameters: {'num_bees': 300, 'limit': 10, 'max_iter': 50, 'random_search': 0}. Best is trial 2 with value: 159.7.\n",
            "[I 2025-03-05 16:44:38,664] Trial 3 finished with value: 161.4 and parameters: {'num_bees': 400, 'limit': 5, 'max_iter': 80, 'random_search': 1}. Best is trial 2 with value: 159.7.\n",
            "[I 2025-03-05 16:44:38,667] Trial 4 finished with value: 165.3 and parameters: {'num_bees': 50, 'limit': 5, 'max_iter': 50, 'random_search': 1}. Best is trial 2 with value: 159.7.\n",
            "[I 2025-03-05 16:44:38,670] Trial 5 finished with value: 164.4 and parameters: {'num_bees': 200, 'limit': 5, 'max_iter': 70, 'random_search': 0}. Best is trial 2 with value: 159.7.\n",
            "[I 2025-03-05 16:44:38,674] Trial 6 finished with value: 162.2 and parameters: {'num_bees': 100, 'limit': 25, 'max_iter': 80, 'random_search': 1}. Best is trial 2 with value: 159.7.\n",
            "[I 2025-03-05 16:44:38,678] Trial 7 finished with value: 159.7 and parameters: {'num_bees': 400, 'limit': 10, 'max_iter': 80, 'random_search': 1}. Best is trial 2 with value: 159.7.\n",
            "[I 2025-03-05 16:44:38,681] Trial 8 finished with value: 164.6 and parameters: {'num_bees': 100, 'limit': 10, 'max_iter': 80, 'random_search': 1}. Best is trial 2 with value: 159.7.\n",
            "[I 2025-03-05 16:44:38,684] Trial 9 finished with value: 162.4 and parameters: {'num_bees': 200, 'limit': 5, 'max_iter': 80, 'random_search': 1}. Best is trial 2 with value: 159.7.\n",
            "[I 2025-03-05 16:44:38,691] Trial 10 finished with value: 162.6 and parameters: {'num_bees': 300, 'limit': 50, 'max_iter': 20, 'random_search': 0}. Best is trial 2 with value: 159.7.\n",
            "[I 2025-03-05 16:44:38,696] Trial 11 finished with value: 159.7 and parameters: {'num_bees': 300, 'limit': 10, 'max_iter': 50, 'random_search': 0}. Best is trial 2 with value: 159.7.\n",
            "[I 2025-03-05 16:44:38,702] Trial 12 finished with value: 160.2 and parameters: {'num_bees': 400, 'limit': 10, 'max_iter': 70, 'random_search': 1}. Best is trial 2 with value: 159.7.\n",
            "[I 2025-03-05 16:44:38,707] Trial 13 finished with value: 159.7 and parameters: {'num_bees': 400, 'limit': 10, 'max_iter': 20, 'random_search': 0}. Best is trial 2 with value: 159.7.\n",
            "[I 2025-03-05 16:44:38,712] Trial 14 finished with value: 156.4 and parameters: {'num_bees': 300, 'limit': 50, 'max_iter': 50, 'random_search': 1}. Best is trial 14 with value: 156.4.\n",
            "[I 2025-03-05 16:44:38,718] Trial 15 finished with value: 160.7 and parameters: {'num_bees': 300, 'limit': 50, 'max_iter': 50, 'random_search': 0}. Best is trial 14 with value: 156.4.\n",
            "[I 2025-03-05 16:44:38,723] Trial 16 finished with value: 156.4 and parameters: {'num_bees': 300, 'limit': 50, 'max_iter': 50, 'random_search': 1}. Best is trial 14 with value: 156.4.\n",
            "[I 2025-03-05 16:44:38,736] Trial 17 finished with value: 156.4 and parameters: {'num_bees': 300, 'limit': 50, 'max_iter': 50, 'random_search': 1}. Best is trial 14 with value: 156.4.\n",
            "[I 2025-03-05 16:44:38,747] Trial 18 finished with value: 160.2 and parameters: {'num_bees': 50, 'limit': 50, 'max_iter': 50, 'random_search': 1}. Best is trial 14 with value: 156.4.\n",
            "[I 2025-03-05 16:44:38,771] Trial 19 finished with value: 156.4 and parameters: {'num_bees': 300, 'limit': 50, 'max_iter': 50, 'random_search': 1}. Best is trial 14 with value: 156.4.\n",
            "[I 2025-03-05 16:44:38,790] Trial 20 finished with value: 160.2 and parameters: {'num_bees': 300, 'limit': 50, 'max_iter': 20, 'random_search': 1}. Best is trial 14 with value: 156.4.\n",
            "[I 2025-03-05 16:44:38,796] Trial 21 finished with value: 156.4 and parameters: {'num_bees': 300, 'limit': 50, 'max_iter': 50, 'random_search': 1}. Best is trial 14 with value: 156.4.\n",
            "[I 2025-03-05 16:44:38,802] Trial 22 finished with value: 156.4 and parameters: {'num_bees': 300, 'limit': 50, 'max_iter': 50, 'random_search': 1}. Best is trial 14 with value: 156.4.\n",
            "[I 2025-03-05 16:44:38,808] Trial 23 finished with value: 156.4 and parameters: {'num_bees': 300, 'limit': 50, 'max_iter': 50, 'random_search': 1}. Best is trial 14 with value: 156.4.\n",
            "[I 2025-03-05 16:44:38,817] Trial 24 finished with value: 155.6 and parameters: {'num_bees': 300, 'limit': 50, 'max_iter': 70, 'random_search': 1}. Best is trial 24 with value: 155.6.\n",
            "[I 2025-03-05 16:44:38,823] Trial 25 finished with value: 158.5 and parameters: {'num_bees': 200, 'limit': 50, 'max_iter': 70, 'random_search': 1}. Best is trial 24 with value: 155.6.\n",
            "[I 2025-03-05 16:44:38,828] Trial 26 finished with value: 164.4 and parameters: {'num_bees': 50, 'limit': 25, 'max_iter': 70, 'random_search': 1}. Best is trial 24 with value: 155.6.\n",
            "[I 2025-03-05 16:44:38,833] Trial 27 finished with value: 155.6 and parameters: {'num_bees': 300, 'limit': 50, 'max_iter': 70, 'random_search': 1}. Best is trial 24 with value: 155.6.\n",
            "[I 2025-03-05 16:44:38,838] Trial 28 finished with value: 155.6 and parameters: {'num_bees': 300, 'limit': 50, 'max_iter': 70, 'random_search': 1}. Best is trial 24 with value: 155.6.\n",
            "[I 2025-03-05 16:44:38,843] Trial 29 finished with value: 155.6 and parameters: {'num_bees': 300, 'limit': 50, 'max_iter': 70, 'random_search': 1}. Best is trial 24 with value: 155.6.\n",
            "[I 2025-03-05 16:44:38,848] Trial 30 finished with value: 155.6 and parameters: {'num_bees': 300, 'limit': 50, 'max_iter': 70, 'random_search': 1}. Best is trial 24 with value: 155.6.\n",
            "[I 2025-03-05 16:44:38,855] Trial 31 finished with value: 155.6 and parameters: {'num_bees': 300, 'limit': 50, 'max_iter': 70, 'random_search': 1}. Best is trial 24 with value: 155.6.\n",
            "[I 2025-03-05 16:44:38,861] Trial 32 finished with value: 155.6 and parameters: {'num_bees': 300, 'limit': 50, 'max_iter': 70, 'random_search': 1}. Best is trial 24 with value: 155.6.\n",
            "[I 2025-03-05 16:44:38,867] Trial 33 finished with value: 160.2 and parameters: {'num_bees': 100, 'limit': 25, 'max_iter': 70, 'random_search': 1}. Best is trial 24 with value: 155.6.\n",
            "[I 2025-03-05 16:44:38,873] Trial 34 finished with value: 155.6 and parameters: {'num_bees': 300, 'limit': 50, 'max_iter': 70, 'random_search': 1}. Best is trial 24 with value: 155.6.\n",
            "[I 2025-03-05 16:44:38,879] Trial 35 finished with value: 155.6 and parameters: {'num_bees': 300, 'limit': 50, 'max_iter': 70, 'random_search': 1}. Best is trial 24 with value: 155.6.\n",
            "[I 2025-03-05 16:44:38,886] Trial 36 finished with value: 166.2 and parameters: {'num_bees': 50, 'limit': 5, 'max_iter': 70, 'random_search': 1}. Best is trial 24 with value: 155.6.\n",
            "[I 2025-03-05 16:44:38,891] Trial 37 finished with value: 164.6 and parameters: {'num_bees': 200, 'limit': 25, 'max_iter': 70, 'random_search': 0}. Best is trial 24 with value: 155.6.\n",
            "[I 2025-03-05 16:44:38,897] Trial 38 finished with value: 155.6 and parameters: {'num_bees': 300, 'limit': 50, 'max_iter': 70, 'random_search': 1}. Best is trial 24 with value: 155.6.\n",
            "[I 2025-03-05 16:44:38,902] Trial 39 finished with value: 161.3 and parameters: {'num_bees': 100, 'limit': 50, 'max_iter': 70, 'random_search': 1}. Best is trial 24 with value: 155.6.\n",
            "[I 2025-03-05 16:44:38,908] Trial 40 finished with value: 160.5 and parameters: {'num_bees': 400, 'limit': 5, 'max_iter': 70, 'random_search': 1}. Best is trial 24 with value: 155.6.\n",
            "[I 2025-03-05 16:44:38,915] Trial 41 finished with value: 155.6 and parameters: {'num_bees': 300, 'limit': 50, 'max_iter': 70, 'random_search': 1}. Best is trial 24 with value: 155.6.\n",
            "[I 2025-03-05 16:44:38,922] Trial 42 finished with value: 155.6 and parameters: {'num_bees': 300, 'limit': 50, 'max_iter': 70, 'random_search': 1}. Best is trial 24 with value: 155.6.\n",
            "[I 2025-03-05 16:44:38,928] Trial 43 finished with value: 155.6 and parameters: {'num_bees': 300, 'limit': 50, 'max_iter': 70, 'random_search': 1}. Best is trial 24 with value: 155.6.\n",
            "[I 2025-03-05 16:44:38,933] Trial 44 finished with value: 155.6 and parameters: {'num_bees': 300, 'limit': 50, 'max_iter': 70, 'random_search': 1}. Best is trial 24 with value: 155.6.\n",
            "[I 2025-03-05 16:44:38,938] Trial 45 finished with value: 162.1 and parameters: {'num_bees': 300, 'limit': 50, 'max_iter': 80, 'random_search': 0}. Best is trial 24 with value: 155.6.\n",
            "[I 2025-03-05 16:44:38,943] Trial 46 finished with value: 162.4 and parameters: {'num_bees': 200, 'limit': 5, 'max_iter': 70, 'random_search': 1}. Best is trial 24 with value: 155.6.\n",
            "[I 2025-03-05 16:44:38,948] Trial 47 finished with value: 163.2 and parameters: {'num_bees': 100, 'limit': 10, 'max_iter': 70, 'random_search': 1}. Best is trial 24 with value: 155.6.\n",
            "[I 2025-03-05 16:44:38,954] Trial 48 finished with value: 162.5 and parameters: {'num_bees': 300, 'limit': 25, 'max_iter': 20, 'random_search': 0}. Best is trial 24 with value: 155.6.\n",
            "[I 2025-03-05 16:44:38,959] Trial 49 finished with value: 155.7 and parameters: {'num_bees': 400, 'limit': 50, 'max_iter': 70, 'random_search': 1}. Best is trial 24 with value: 155.6.\n",
            "[I 2025-03-05 16:44:38,965] Trial 50 finished with value: 161.4 and parameters: {'num_bees': 50, 'limit': 50, 'max_iter': 80, 'random_search': 1}. Best is trial 24 with value: 155.6.\n",
            "[I 2025-03-05 16:44:38,972] Trial 51 finished with value: 155.6 and parameters: {'num_bees': 300, 'limit': 50, 'max_iter': 70, 'random_search': 1}. Best is trial 24 with value: 155.6.\n",
            "[I 2025-03-05 16:44:38,978] Trial 52 finished with value: 155.6 and parameters: {'num_bees': 300, 'limit': 50, 'max_iter': 70, 'random_search': 1}. Best is trial 24 with value: 155.6.\n",
            "[I 2025-03-05 16:44:38,984] Trial 53 finished with value: 155.6 and parameters: {'num_bees': 300, 'limit': 50, 'max_iter': 70, 'random_search': 1}. Best is trial 24 with value: 155.6.\n",
            "[I 2025-03-05 16:44:38,990] Trial 54 finished with value: 155.6 and parameters: {'num_bees': 300, 'limit': 50, 'max_iter': 70, 'random_search': 1}. Best is trial 24 with value: 155.6.\n",
            "[I 2025-03-05 16:44:38,996] Trial 55 finished with value: 161.4 and parameters: {'num_bees': 300, 'limit': 10, 'max_iter': 20, 'random_search': 1}. Best is trial 24 with value: 155.6.\n",
            "[I 2025-03-05 16:44:39,001] Trial 56 finished with value: 155.6 and parameters: {'num_bees': 300, 'limit': 50, 'max_iter': 70, 'random_search': 1}. Best is trial 24 with value: 155.6.\n",
            "[I 2025-03-05 16:44:39,006] Trial 57 finished with value: 161.1 and parameters: {'num_bees': 300, 'limit': 50, 'max_iter': 70, 'random_search': 0}. Best is trial 24 with value: 155.6.\n",
            "[I 2025-03-05 16:44:39,011] Trial 58 finished with value: 155.5 and parameters: {'num_bees': 300, 'limit': 50, 'max_iter': 80, 'random_search': 1}. Best is trial 58 with value: 155.5.\n",
            "[I 2025-03-05 16:44:39,018] Trial 59 finished with value: 161.4 and parameters: {'num_bees': 400, 'limit': 5, 'max_iter': 80, 'random_search': 1}. Best is trial 58 with value: 155.5.\n",
            "[I 2025-03-05 16:44:39,023] Trial 60 finished with value: 155.5 and parameters: {'num_bees': 300, 'limit': 50, 'max_iter': 80, 'random_search': 1}. Best is trial 58 with value: 155.5.\n",
            "[I 2025-03-05 16:44:39,029] Trial 61 finished with value: 155.5 and parameters: {'num_bees': 300, 'limit': 50, 'max_iter': 80, 'random_search': 1}. Best is trial 58 with value: 155.5.\n",
            "[I 2025-03-05 16:44:39,035] Trial 62 finished with value: 155.5 and parameters: {'num_bees': 300, 'limit': 50, 'max_iter': 80, 'random_search': 1}. Best is trial 58 with value: 155.5.\n",
            "[I 2025-03-05 16:44:39,041] Trial 63 finished with value: 155.5 and parameters: {'num_bees': 300, 'limit': 50, 'max_iter': 80, 'random_search': 1}. Best is trial 58 with value: 155.5.\n",
            "[I 2025-03-05 16:44:39,047] Trial 64 finished with value: 155.5 and parameters: {'num_bees': 300, 'limit': 50, 'max_iter': 80, 'random_search': 1}. Best is trial 58 with value: 155.5.\n",
            "[I 2025-03-05 16:44:39,053] Trial 65 finished with value: 157.9 and parameters: {'num_bees': 200, 'limit': 50, 'max_iter': 80, 'random_search': 1}. Best is trial 58 with value: 155.5.\n",
            "[I 2025-03-05 16:44:39,059] Trial 66 finished with value: 160.7 and parameters: {'num_bees': 300, 'limit': 10, 'max_iter': 80, 'random_search': 1}. Best is trial 58 with value: 155.5.\n",
            "[I 2025-03-05 16:44:39,064] Trial 67 finished with value: 155.5 and parameters: {'num_bees': 300, 'limit': 50, 'max_iter': 80, 'random_search': 1}. Best is trial 58 with value: 155.5.\n",
            "[I 2025-03-05 16:44:39,072] Trial 68 finished with value: 155.5 and parameters: {'num_bees': 300, 'limit': 50, 'max_iter': 80, 'random_search': 1}. Best is trial 58 with value: 155.5.\n",
            "[I 2025-03-05 16:44:39,078] Trial 69 finished with value: 167.7 and parameters: {'num_bees': 50, 'limit': 50, 'max_iter': 80, 'random_search': 0}. Best is trial 58 with value: 155.5.\n",
            "[I 2025-03-05 16:44:39,084] Trial 70 finished with value: 162.2 and parameters: {'num_bees': 100, 'limit': 25, 'max_iter': 80, 'random_search': 1}. Best is trial 58 with value: 155.5.\n",
            "[I 2025-03-05 16:44:39,091] Trial 71 finished with value: 155.5 and parameters: {'num_bees': 300, 'limit': 50, 'max_iter': 80, 'random_search': 1}. Best is trial 58 with value: 155.5.\n",
            "[I 2025-03-05 16:44:39,097] Trial 72 finished with value: 155.5 and parameters: {'num_bees': 300, 'limit': 50, 'max_iter': 80, 'random_search': 1}. Best is trial 58 with value: 155.5.\n",
            "[I 2025-03-05 16:44:39,104] Trial 73 finished with value: 155.5 and parameters: {'num_bees': 300, 'limit': 50, 'max_iter': 80, 'random_search': 1}. Best is trial 58 with value: 155.5.\n",
            "[I 2025-03-05 16:44:39,112] Trial 74 finished with value: 155.5 and parameters: {'num_bees': 300, 'limit': 50, 'max_iter': 80, 'random_search': 1}. Best is trial 58 with value: 155.5.\n",
            "[I 2025-03-05 16:44:39,118] Trial 75 finished with value: 155.5 and parameters: {'num_bees': 300, 'limit': 50, 'max_iter': 80, 'random_search': 1}. Best is trial 58 with value: 155.5.\n",
            "[I 2025-03-05 16:44:39,128] Trial 76 finished with value: 155.5 and parameters: {'num_bees': 300, 'limit': 50, 'max_iter': 80, 'random_search': 1}. Best is trial 58 with value: 155.5.\n",
            "[I 2025-03-05 16:44:39,134] Trial 77 finished with value: 155.5 and parameters: {'num_bees': 300, 'limit': 50, 'max_iter': 80, 'random_search': 1}. Best is trial 58 with value: 155.5.\n",
            "[I 2025-03-05 16:44:39,141] Trial 78 finished with value: 155.5 and parameters: {'num_bees': 300, 'limit': 50, 'max_iter': 80, 'random_search': 1}. Best is trial 58 with value: 155.5.\n",
            "[I 2025-03-05 16:44:39,148] Trial 79 finished with value: 155.5 and parameters: {'num_bees': 300, 'limit': 50, 'max_iter': 80, 'random_search': 1}. Best is trial 58 with value: 155.5.\n",
            "[I 2025-03-05 16:44:39,154] Trial 80 finished with value: 155.5 and parameters: {'num_bees': 300, 'limit': 50, 'max_iter': 80, 'random_search': 1}. Best is trial 58 with value: 155.5.\n",
            "[I 2025-03-05 16:44:39,160] Trial 81 finished with value: 155.5 and parameters: {'num_bees': 300, 'limit': 50, 'max_iter': 80, 'random_search': 1}. Best is trial 58 with value: 155.5.\n",
            "[I 2025-03-05 16:44:39,168] Trial 82 finished with value: 155.5 and parameters: {'num_bees': 300, 'limit': 50, 'max_iter': 80, 'random_search': 1}. Best is trial 58 with value: 155.5.\n",
            "[I 2025-03-05 16:44:39,176] Trial 83 finished with value: 155.5 and parameters: {'num_bees': 300, 'limit': 50, 'max_iter': 80, 'random_search': 1}. Best is trial 58 with value: 155.5.\n",
            "[I 2025-03-05 16:44:39,182] Trial 84 finished with value: 155.5 and parameters: {'num_bees': 300, 'limit': 50, 'max_iter': 80, 'random_search': 1}. Best is trial 58 with value: 155.5.\n",
            "[I 2025-03-05 16:44:39,189] Trial 85 finished with value: 162.4 and parameters: {'num_bees': 200, 'limit': 5, 'max_iter': 80, 'random_search': 1}. Best is trial 58 with value: 155.5.\n",
            "[I 2025-03-05 16:44:39,195] Trial 86 finished with value: 155.5 and parameters: {'num_bees': 300, 'limit': 50, 'max_iter': 80, 'random_search': 1}. Best is trial 58 with value: 155.5.\n",
            "[I 2025-03-05 16:44:39,201] Trial 87 finished with value: 159.5 and parameters: {'num_bees': 400, 'limit': 25, 'max_iter': 80, 'random_search': 1}. Best is trial 58 with value: 155.5.\n",
            "[I 2025-03-05 16:44:39,208] Trial 88 finished with value: 162.1 and parameters: {'num_bees': 300, 'limit': 50, 'max_iter': 80, 'random_search': 0}. Best is trial 58 with value: 155.5.\n",
            "[I 2025-03-05 16:44:39,215] Trial 89 finished with value: 161.4 and parameters: {'num_bees': 50, 'limit': 50, 'max_iter': 80, 'random_search': 1}. Best is trial 58 with value: 155.5.\n",
            "[I 2025-03-05 16:44:39,222] Trial 90 finished with value: 164.6 and parameters: {'num_bees': 100, 'limit': 10, 'max_iter': 80, 'random_search': 1}. Best is trial 58 with value: 155.5.\n",
            "[I 2025-03-05 16:44:39,228] Trial 91 finished with value: 155.5 and parameters: {'num_bees': 300, 'limit': 50, 'max_iter': 80, 'random_search': 1}. Best is trial 58 with value: 155.5.\n",
            "[I 2025-03-05 16:44:39,234] Trial 92 finished with value: 155.5 and parameters: {'num_bees': 300, 'limit': 50, 'max_iter': 80, 'random_search': 1}. Best is trial 58 with value: 155.5.\n",
            "[I 2025-03-05 16:44:39,241] Trial 93 finished with value: 155.5 and parameters: {'num_bees': 300, 'limit': 50, 'max_iter': 80, 'random_search': 1}. Best is trial 58 with value: 155.5.\n",
            "[I 2025-03-05 16:44:39,248] Trial 94 finished with value: 155.5 and parameters: {'num_bees': 300, 'limit': 50, 'max_iter': 80, 'random_search': 1}. Best is trial 58 with value: 155.5.\n",
            "[I 2025-03-05 16:44:39,254] Trial 95 finished with value: 155.5 and parameters: {'num_bees': 300, 'limit': 50, 'max_iter': 80, 'random_search': 1}. Best is trial 58 with value: 155.5.\n",
            "[I 2025-03-05 16:44:39,261] Trial 96 finished with value: 160.2 and parameters: {'num_bees': 300, 'limit': 50, 'max_iter': 20, 'random_search': 1}. Best is trial 58 with value: 155.5.\n",
            "[I 2025-03-05 16:44:39,268] Trial 97 finished with value: 155.5 and parameters: {'num_bees': 300, 'limit': 50, 'max_iter': 80, 'random_search': 1}. Best is trial 58 with value: 155.5.\n",
            "[I 2025-03-05 16:44:39,275] Trial 98 finished with value: 155.5 and parameters: {'num_bees': 300, 'limit': 50, 'max_iter': 80, 'random_search': 1}. Best is trial 58 with value: 155.5.\n",
            "[I 2025-03-05 16:44:39,282] Trial 99 finished with value: 155.5 and parameters: {'num_bees': 300, 'limit': 50, 'max_iter': 80, 'random_search': 1}. Best is trial 58 with value: 155.5.\n",
            "[I 2025-03-05 16:44:39,289] Trial 100 finished with value: 155.5 and parameters: {'num_bees': 300, 'limit': 50, 'max_iter': 80, 'random_search': 1}. Best is trial 58 with value: 155.5.\n",
            "[I 2025-03-05 16:44:39,296] Trial 101 finished with value: 155.5 and parameters: {'num_bees': 300, 'limit': 50, 'max_iter': 80, 'random_search': 1}. Best is trial 58 with value: 155.5.\n",
            "[I 2025-03-05 16:44:39,302] Trial 102 finished with value: 155.5 and parameters: {'num_bees': 300, 'limit': 50, 'max_iter': 80, 'random_search': 1}. Best is trial 58 with value: 155.5.\n",
            "[I 2025-03-05 16:44:39,309] Trial 103 finished with value: 155.5 and parameters: {'num_bees': 300, 'limit': 50, 'max_iter': 80, 'random_search': 1}. Best is trial 58 with value: 155.5.\n",
            "[I 2025-03-05 16:44:39,316] Trial 104 finished with value: 155.5 and parameters: {'num_bees': 300, 'limit': 50, 'max_iter': 80, 'random_search': 1}. Best is trial 58 with value: 155.5.\n",
            "[I 2025-03-05 16:44:39,323] Trial 105 finished with value: 156.4 and parameters: {'num_bees': 300, 'limit': 50, 'max_iter': 50, 'random_search': 1}. Best is trial 58 with value: 155.5.\n",
            "[I 2025-03-05 16:44:39,330] Trial 106 finished with value: 161.8 and parameters: {'num_bees': 200, 'limit': 5, 'max_iter': 80, 'random_search': 0}. Best is trial 58 with value: 155.5.\n",
            "[I 2025-03-05 16:44:39,337] Trial 107 finished with value: 155.5 and parameters: {'num_bees': 300, 'limit': 50, 'max_iter': 80, 'random_search': 1}. Best is trial 58 with value: 155.5.\n",
            "[I 2025-03-05 16:44:39,344] Trial 108 finished with value: 158.2 and parameters: {'num_bees': 300, 'limit': 25, 'max_iter': 80, 'random_search': 1}. Best is trial 58 with value: 155.5.\n",
            "[I 2025-03-05 16:44:39,352] Trial 109 finished with value: 162.3 and parameters: {'num_bees': 400, 'limit': 10, 'max_iter': 20, 'random_search': 1}. Best is trial 58 with value: 155.5.\n",
            "[I 2025-03-05 16:44:39,359] Trial 110 finished with value: 155.5 and parameters: {'num_bees': 300, 'limit': 50, 'max_iter': 80, 'random_search': 1}. Best is trial 58 with value: 155.5.\n",
            "[I 2025-03-05 16:44:39,369] Trial 111 finished with value: 155.5 and parameters: {'num_bees': 300, 'limit': 50, 'max_iter': 80, 'random_search': 1}. Best is trial 58 with value: 155.5.\n",
            "[I 2025-03-05 16:44:39,375] Trial 112 finished with value: 155.5 and parameters: {'num_bees': 300, 'limit': 50, 'max_iter': 80, 'random_search': 1}. Best is trial 58 with value: 155.5.\n",
            "[I 2025-03-05 16:44:39,382] Trial 113 finished with value: 155.5 and parameters: {'num_bees': 300, 'limit': 50, 'max_iter': 80, 'random_search': 1}. Best is trial 58 with value: 155.5.\n",
            "[I 2025-03-05 16:44:39,388] Trial 114 finished with value: 155.5 and parameters: {'num_bees': 300, 'limit': 50, 'max_iter': 80, 'random_search': 1}. Best is trial 58 with value: 155.5.\n",
            "[I 2025-03-05 16:44:39,394] Trial 115 finished with value: 161.4 and parameters: {'num_bees': 50, 'limit': 50, 'max_iter': 80, 'random_search': 1}. Best is trial 58 with value: 155.5.\n",
            "[I 2025-03-05 16:44:39,401] Trial 116 finished with value: 159.6 and parameters: {'num_bees': 100, 'limit': 50, 'max_iter': 80, 'random_search': 1}. Best is trial 58 with value: 155.5.\n",
            "[I 2025-03-05 16:44:39,407] Trial 117 finished with value: 155.5 and parameters: {'num_bees': 300, 'limit': 50, 'max_iter': 80, 'random_search': 1}. Best is trial 58 with value: 155.5.\n",
            "[I 2025-03-05 16:44:39,414] Trial 118 finished with value: 155.5 and parameters: {'num_bees': 300, 'limit': 50, 'max_iter': 80, 'random_search': 1}. Best is trial 58 with value: 155.5.\n",
            "[I 2025-03-05 16:44:39,420] Trial 119 finished with value: 156.4 and parameters: {'num_bees': 300, 'limit': 50, 'max_iter': 50, 'random_search': 1}. Best is trial 58 with value: 155.5.\n",
            "[I 2025-03-05 16:44:39,426] Trial 120 finished with value: 162.1 and parameters: {'num_bees': 300, 'limit': 50, 'max_iter': 80, 'random_search': 0}. Best is trial 58 with value: 155.5.\n",
            "[I 2025-03-05 16:44:39,433] Trial 121 finished with value: 155.5 and parameters: {'num_bees': 300, 'limit': 50, 'max_iter': 80, 'random_search': 1}. Best is trial 58 with value: 155.5.\n",
            "[I 2025-03-05 16:44:39,441] Trial 122 finished with value: 155.5 and parameters: {'num_bees': 300, 'limit': 50, 'max_iter': 80, 'random_search': 1}. Best is trial 58 with value: 155.5.\n",
            "[I 2025-03-05 16:44:39,450] Trial 123 finished with value: 155.5 and parameters: {'num_bees': 300, 'limit': 50, 'max_iter': 80, 'random_search': 1}. Best is trial 58 with value: 155.5.\n",
            "[I 2025-03-05 16:44:39,456] Trial 124 finished with value: 155.5 and parameters: {'num_bees': 300, 'limit': 50, 'max_iter': 80, 'random_search': 1}. Best is trial 58 with value: 155.5.\n",
            "[I 2025-03-05 16:44:39,463] Trial 125 finished with value: 155.5 and parameters: {'num_bees': 300, 'limit': 50, 'max_iter': 80, 'random_search': 1}. Best is trial 58 with value: 155.5.\n",
            "[I 2025-03-05 16:44:39,471] Trial 126 finished with value: 155.5 and parameters: {'num_bees': 300, 'limit': 50, 'max_iter': 80, 'random_search': 1}. Best is trial 58 with value: 155.5.\n",
            "[I 2025-03-05 16:44:39,478] Trial 127 finished with value: 160.7 and parameters: {'num_bees': 300, 'limit': 5, 'max_iter': 80, 'random_search': 1}. Best is trial 58 with value: 155.5.\n",
            "[I 2025-03-05 16:44:39,486] Trial 128 finished with value: 155.5 and parameters: {'num_bees': 300, 'limit': 50, 'max_iter': 80, 'random_search': 1}. Best is trial 58 with value: 155.5.\n",
            "[I 2025-03-05 16:44:39,492] Trial 129 finished with value: 159.7 and parameters: {'num_bees': 200, 'limit': 25, 'max_iter': 20, 'random_search': 1}. Best is trial 58 with value: 155.5.\n",
            "[I 2025-03-05 16:44:39,500] Trial 130 finished with value: 156.4 and parameters: {'num_bees': 400, 'limit': 50, 'max_iter': 80, 'random_search': 1}. Best is trial 58 with value: 155.5.\n",
            "[I 2025-03-05 16:44:39,507] Trial 131 finished with value: 155.5 and parameters: {'num_bees': 300, 'limit': 50, 'max_iter': 80, 'random_search': 1}. Best is trial 58 with value: 155.5.\n",
            "[I 2025-03-05 16:44:39,513] Trial 132 finished with value: 155.5 and parameters: {'num_bees': 300, 'limit': 50, 'max_iter': 80, 'random_search': 1}. Best is trial 58 with value: 155.5.\n",
            "[I 2025-03-05 16:44:39,520] Trial 133 finished with value: 155.5 and parameters: {'num_bees': 300, 'limit': 50, 'max_iter': 80, 'random_search': 1}. Best is trial 58 with value: 155.5.\n",
            "[I 2025-03-05 16:44:39,527] Trial 134 finished with value: 155.5 and parameters: {'num_bees': 300, 'limit': 50, 'max_iter': 80, 'random_search': 1}. Best is trial 58 with value: 155.5.\n",
            "[I 2025-03-05 16:44:39,533] Trial 135 finished with value: 155.5 and parameters: {'num_bees': 300, 'limit': 50, 'max_iter': 80, 'random_search': 1}. Best is trial 58 with value: 155.5.\n",
            "[I 2025-03-05 16:44:39,540] Trial 136 finished with value: 155.5 and parameters: {'num_bees': 300, 'limit': 50, 'max_iter': 80, 'random_search': 1}. Best is trial 58 with value: 155.5.\n",
            "[I 2025-03-05 16:44:39,547] Trial 137 finished with value: 155.5 and parameters: {'num_bees': 300, 'limit': 50, 'max_iter': 80, 'random_search': 1}. Best is trial 58 with value: 155.5.\n",
            "[I 2025-03-05 16:44:39,554] Trial 138 finished with value: 166.1 and parameters: {'num_bees': 50, 'limit': 10, 'max_iter': 80, 'random_search': 1}. Best is trial 58 with value: 155.5.\n",
            "[I 2025-03-05 16:44:39,560] Trial 139 finished with value: 155.5 and parameters: {'num_bees': 300, 'limit': 50, 'max_iter': 80, 'random_search': 1}. Best is trial 58 with value: 155.5.\n",
            "[I 2025-03-05 16:44:39,567] Trial 140 finished with value: 159.6 and parameters: {'num_bees': 100, 'limit': 50, 'max_iter': 80, 'random_search': 1}. Best is trial 58 with value: 155.5.\n",
            "[I 2025-03-05 16:44:39,573] Trial 141 finished with value: 155.5 and parameters: {'num_bees': 300, 'limit': 50, 'max_iter': 80, 'random_search': 1}. Best is trial 58 with value: 155.5.\n",
            "[I 2025-03-05 16:44:39,580] Trial 142 finished with value: 155.5 and parameters: {'num_bees': 300, 'limit': 50, 'max_iter': 80, 'random_search': 1}. Best is trial 58 with value: 155.5.\n",
            "[I 2025-03-05 16:44:39,587] Trial 143 finished with value: 155.5 and parameters: {'num_bees': 300, 'limit': 50, 'max_iter': 80, 'random_search': 1}. Best is trial 58 with value: 155.5.\n",
            "[I 2025-03-05 16:44:39,593] Trial 144 finished with value: 155.5 and parameters: {'num_bees': 300, 'limit': 50, 'max_iter': 80, 'random_search': 1}. Best is trial 58 with value: 155.5.\n",
            "[I 2025-03-05 16:44:39,600] Trial 145 finished with value: 156.4 and parameters: {'num_bees': 300, 'limit': 50, 'max_iter': 50, 'random_search': 1}. Best is trial 58 with value: 155.5.\n",
            "[I 2025-03-05 16:44:39,611] Trial 146 finished with value: 162.1 and parameters: {'num_bees': 300, 'limit': 50, 'max_iter': 80, 'random_search': 0}. Best is trial 58 with value: 155.5.\n",
            "[I 2025-03-05 16:44:39,620] Trial 147 finished with value: 155.5 and parameters: {'num_bees': 300, 'limit': 50, 'max_iter': 80, 'random_search': 1}. Best is trial 58 with value: 155.5.\n",
            "[I 2025-03-05 16:44:39,626] Trial 148 finished with value: 155.5 and parameters: {'num_bees': 300, 'limit': 50, 'max_iter': 80, 'random_search': 1}. Best is trial 58 with value: 155.5.\n",
            "[I 2025-03-05 16:44:39,633] Trial 149 finished with value: 155.5 and parameters: {'num_bees': 300, 'limit': 50, 'max_iter': 80, 'random_search': 1}. Best is trial 58 with value: 155.5.\n",
            "[I 2025-03-05 16:44:39,640] Trial 150 finished with value: 155.5 and parameters: {'num_bees': 300, 'limit': 50, 'max_iter': 80, 'random_search': 1}. Best is trial 58 with value: 155.5.\n",
            "[I 2025-03-05 16:44:39,647] Trial 151 finished with value: 155.5 and parameters: {'num_bees': 300, 'limit': 50, 'max_iter': 80, 'random_search': 1}. Best is trial 58 with value: 155.5.\n",
            "[I 2025-03-05 16:44:39,654] Trial 152 finished with value: 155.5 and parameters: {'num_bees': 300, 'limit': 50, 'max_iter': 80, 'random_search': 1}. Best is trial 58 with value: 155.5.\n",
            "[I 2025-03-05 16:44:39,661] Trial 153 finished with value: 155.5 and parameters: {'num_bees': 300, 'limit': 50, 'max_iter': 80, 'random_search': 1}. Best is trial 58 with value: 155.5.\n",
            "[I 2025-03-05 16:44:39,668] Trial 154 finished with value: 155.5 and parameters: {'num_bees': 300, 'limit': 50, 'max_iter': 80, 'random_search': 1}. Best is trial 58 with value: 155.5.\n",
            "[I 2025-03-05 16:44:39,675] Trial 155 finished with value: 160.7 and parameters: {'num_bees': 300, 'limit': 5, 'max_iter': 80, 'random_search': 1}. Best is trial 58 with value: 155.5.\n",
            "[I 2025-03-05 16:44:39,683] Trial 156 finished with value: 155.5 and parameters: {'num_bees': 300, 'limit': 50, 'max_iter': 80, 'random_search': 1}. Best is trial 58 with value: 155.5.\n",
            "[I 2025-03-05 16:44:39,691] Trial 157 finished with value: 155.5 and parameters: {'num_bees': 300, 'limit': 50, 'max_iter': 80, 'random_search': 1}. Best is trial 58 with value: 155.5.\n",
            "[I 2025-03-05 16:44:39,698] Trial 158 finished with value: 160.7 and parameters: {'num_bees': 300, 'limit': 25, 'max_iter': 20, 'random_search': 1}. Best is trial 58 with value: 155.5.\n",
            "[I 2025-03-05 16:44:39,705] Trial 159 finished with value: 157.9 and parameters: {'num_bees': 200, 'limit': 50, 'max_iter': 80, 'random_search': 1}. Best is trial 58 with value: 155.5.\n"
          ]
        },
        {
          "name": "stdout",
          "output_type": "stream",
          "text": [
            "Melhores parâmetros encontrados:\n",
            "{'num_bees': 300, 'limit': 50, 'max_iter': 80, 'random_search': 1}\n"
          ]
        }
      ],
      "source": [
        "n_trials = df[[\"num_bees\", \"limit\", \"max_iter\", \"random_search\"]].drop_duplicates().shape[0]\n",
        "\n",
        "# Criar e rodar a otimização\n",
        "study = optuna.create_study(direction=\"minimize\")\n",
        "study.optimize(objective_v2, n_trials=n_trials)  # Ajuste o número de trials conforme necessário\n",
        "\n",
        "# Exibir os melhores parâmetros encontrados\n",
        "print(\"Melhores parâmetros encontrados:\")\n",
        "print(study.best_params)"
      ]
    },
    {
      "cell_type": "markdown",
      "metadata": {},
      "source": [
        "## ABCGraphColoring V2 - corrigido o uso da busca local e da seleção no onlooker"
      ]
    },
    {
      "cell_type": "code",
      "execution_count": 7,
      "metadata": {},
      "outputs": [
        {
          "data": {
            "text/plain": [
              "array(['n'], dtype=object)"
            ]
          },
          "execution_count": 7,
          "metadata": {},
          "output_type": "execute_result"
        }
      ],
      "source": [
        "columns = ['conflitos', 'tempo_us', 'iter_found_best', 'num_bees', \n",
        "           'limit', 'max_iter', 'filename', 'method', 'metha',\n",
        "           'num_vertices', 'num_edges', 'onlooker_phase' ]\n",
        "df = pd.read_csv('results_abc_v2/calibrar_pseudo_greedy_v2/DSJC500.5.txt', sep=';', names=columns, header=None)\n",
        "df.head()\n",
        "df['metha'].unique()"
      ]
    },
    {
      "cell_type": "code",
      "execution_count": 21,
      "metadata": {},
      "outputs": [],
      "source": [
        "df['conflitos_norm'] = (df[\"conflitos\"] - df[\"conflitos\"].min()) / (df[\"conflitos\"].max() - df[\"conflitos\"].min() if df[\"conflitos\"].max()!= df[\"conflitos\"].min() else 0)\n",
        "df['tempo_norm'] = (df[\"tempo_us\"] - df[\"tempo_us\"].min()) / (df[\"tempo_us\"].max() - df[\"tempo_us\"].min() if df[\"tempo_us\"].max()!= df[\"tempo_us\"].min() else 0)\n",
        "def objective_v3(trial):\n",
        "    \"\"\"Função objetivo para o Optuna, buscando a melhor configuração de parâmetros já testada.\"\"\"\n",
        "\n",
        "    # Optuna irá escolher um conjunto de parâmetros dentro dos valores existentes\n",
        "    num_bees = trial.suggest_categorical(\"num_bees\", df[\"num_bees\"].unique().tolist())\n",
        "    limit = trial.suggest_categorical(\"limit\", df[\"limit\"].unique().tolist())\n",
        "    max_iter = trial.suggest_categorical(\"max_iter\", df[\"max_iter\"].unique().tolist())\n",
        "    onlooker_phase = trial.suggest_categorical(\"onlooker_phase\", df[\"onlooker_phase\"].unique().tolist())\n",
        "    \n",
        "\n",
        "    # Filtrar apenas as execuções com esses parâmetros\n",
        "    subset = df[(df[\"num_bees\"] == num_bees) &\n",
        "                (df[\"limit\"] == limit) &\n",
        "                (df[\"max_iter\"] == max_iter) &\n",
        "                (df[\"onlooker_phase\"] == onlooker_phase)]\n",
        "\n",
        "    alpha = 1  # Peso para conflitos\n",
        "    beta = 0   # Peso para tempo\n",
        "    score = alpha * subset[\"conflitos_norm\"].mean() + beta * subset[\"tempo_norm\"].mean()\n",
        "    \n",
        "\n",
        "    return score  # O Optuna busca minimizar esse valor"
      ]
    },
    {
      "cell_type": "code",
      "execution_count": 33,
      "metadata": {},
      "outputs": [
        {
          "name": "stderr",
          "output_type": "stream",
          "text": [
            "[I 2025-03-30 13:01:38,620] A new study created in memory with name: no-name-15e0d24b-15fe-4f72-9c54-de1195e0914a\n",
            "[I 2025-03-30 13:01:38,624] Trial 0 finished with value: 0.48125 and parameters: {'num_bees': 80, 'limit': 500, 'max_iter': 100, 'onlooker_phase': 'random_search_onlooker'}. Best is trial 0 with value: 0.48125.\n",
            "[I 2025-03-30 13:01:38,627] Trial 1 finished with value: 0.515625 and parameters: {'num_bees': 100, 'limit': 250, 'max_iter': 100, 'onlooker_phase': 'random_search_onlooker'}. Best is trial 0 with value: 0.48125.\n",
            "[I 2025-03-30 13:01:38,629] Trial 2 finished with value: 0.528125 and parameters: {'num_bees': 60, 'limit': 250, 'max_iter': 100, 'onlooker_phase': 'random_search_onlooker'}. Best is trial 0 with value: 0.48125.\n",
            "[I 2025-03-30 13:01:38,632] Trial 3 finished with value: 0.7125 and parameters: {'num_bees': 70, 'limit': 10, 'max_iter': 1000, 'onlooker_phase': 'waggle_dance_onlooker'}. Best is trial 0 with value: 0.48125.\n",
            "[I 2025-03-30 13:01:38,635] Trial 4 finished with value: 0.459375 and parameters: {'num_bees': 80, 'limit': 250, 'max_iter': 100, 'onlooker_phase': 'waggle_dance_onlooker'}. Best is trial 4 with value: 0.459375.\n",
            "[I 2025-03-30 13:01:38,638] Trial 5 finished with value: 0.553125 and parameters: {'num_bees': 60, 'limit': 100, 'max_iter': 100, 'onlooker_phase': 'random_search_onlooker'}. Best is trial 4 with value: 0.459375.\n",
            "[I 2025-03-30 13:01:38,640] Trial 6 finished with value: 0.396875 and parameters: {'num_bees': 100, 'limit': 500, 'max_iter': 100, 'onlooker_phase': 'waggle_dance_onlooker'}. Best is trial 6 with value: 0.396875.\n",
            "[I 2025-03-30 13:01:38,642] Trial 7 finished with value: 0.475 and parameters: {'num_bees': 80, 'limit': 250, 'max_iter': 1000, 'onlooker_phase': 'waggle_dance_onlooker'}. Best is trial 6 with value: 0.396875.\n",
            "[I 2025-03-30 13:01:38,645] Trial 8 finished with value: 0.3625 and parameters: {'num_bees': 90, 'limit': 500, 'max_iter': 1000, 'onlooker_phase': 'waggle_dance_onlooker'}. Best is trial 8 with value: 0.3625.\n",
            "[I 2025-03-30 13:01:38,647] Trial 9 finished with value: 0.4875 and parameters: {'num_bees': 50, 'limit': 250, 'max_iter': 1000, 'onlooker_phase': 'waggle_dance_onlooker'}. Best is trial 8 with value: 0.3625.\n",
            "[I 2025-03-30 13:01:38,650] Trial 10 finished with value: 0.6 and parameters: {'num_bees': 90, 'limit': 50, 'max_iter': 1000, 'onlooker_phase': 'waggle_dance_onlooker'}. Best is trial 8 with value: 0.3625.\n",
            "[I 2025-03-30 13:01:38,653] Trial 11 finished with value: 0.3625 and parameters: {'num_bees': 90, 'limit': 500, 'max_iter': 1000, 'onlooker_phase': 'waggle_dance_onlooker'}. Best is trial 8 with value: 0.3625.\n",
            "[I 2025-03-30 13:01:38,657] Trial 12 finished with value: 0.3625 and parameters: {'num_bees': 90, 'limit': 500, 'max_iter': 1000, 'onlooker_phase': 'waggle_dance_onlooker'}. Best is trial 8 with value: 0.3625.\n",
            "[I 2025-03-30 13:01:38,660] Trial 13 finished with value: 0.3625 and parameters: {'num_bees': 90, 'limit': 500, 'max_iter': 1000, 'onlooker_phase': 'waggle_dance_onlooker'}. Best is trial 8 with value: 0.3625.\n",
            "[I 2025-03-30 13:01:38,662] Trial 14 finished with value: 0.3625 and parameters: {'num_bees': 90, 'limit': 500, 'max_iter': 1000, 'onlooker_phase': 'waggle_dance_onlooker'}. Best is trial 8 with value: 0.3625.\n",
            "[I 2025-03-30 13:01:38,665] Trial 15 finished with value: 0.709375 and parameters: {'num_bees': 90, 'limit': 10, 'max_iter': 1000, 'onlooker_phase': 'waggle_dance_onlooker'}. Best is trial 8 with value: 0.3625.\n",
            "[I 2025-03-30 13:01:38,668] Trial 16 finished with value: 0.734375 and parameters: {'num_bees': 50, 'limit': 50, 'max_iter': 1000, 'onlooker_phase': 'waggle_dance_onlooker'}. Best is trial 8 with value: 0.3625.\n",
            "[I 2025-03-30 13:01:38,671] Trial 17 finished with value: 0.4875 and parameters: {'num_bees': 90, 'limit': 100, 'max_iter': 1000, 'onlooker_phase': 'waggle_dance_onlooker'}. Best is trial 8 with value: 0.3625.\n",
            "[I 2025-03-30 13:01:38,674] Trial 18 finished with value: 0.3875 and parameters: {'num_bees': 70, 'limit': 500, 'max_iter': 1000, 'onlooker_phase': 'random_search_onlooker'}. Best is trial 8 with value: 0.3625.\n",
            "[I 2025-03-30 13:01:38,676] Trial 19 finished with value: 0.3625 and parameters: {'num_bees': 90, 'limit': 500, 'max_iter': 1000, 'onlooker_phase': 'waggle_dance_onlooker'}. Best is trial 8 with value: 0.3625.\n",
            "[I 2025-03-30 13:01:38,679] Trial 20 finished with value: 0.3625 and parameters: {'num_bees': 90, 'limit': 500, 'max_iter': 1000, 'onlooker_phase': 'waggle_dance_onlooker'}. Best is trial 8 with value: 0.3625.\n",
            "[I 2025-03-30 13:01:38,683] Trial 21 finished with value: 0.3625 and parameters: {'num_bees': 90, 'limit': 500, 'max_iter': 1000, 'onlooker_phase': 'waggle_dance_onlooker'}. Best is trial 8 with value: 0.3625.\n",
            "[I 2025-03-30 13:01:38,686] Trial 22 finished with value: 0.3625 and parameters: {'num_bees': 90, 'limit': 500, 'max_iter': 1000, 'onlooker_phase': 'waggle_dance_onlooker'}. Best is trial 8 with value: 0.3625.\n",
            "[I 2025-03-30 13:01:38,689] Trial 23 finished with value: 0.3625 and parameters: {'num_bees': 90, 'limit': 500, 'max_iter': 1000, 'onlooker_phase': 'waggle_dance_onlooker'}. Best is trial 8 with value: 0.3625.\n",
            "[I 2025-03-30 13:01:38,691] Trial 24 finished with value: 0.709375 and parameters: {'num_bees': 90, 'limit': 10, 'max_iter': 1000, 'onlooker_phase': 'waggle_dance_onlooker'}. Best is trial 8 with value: 0.3625.\n",
            "[I 2025-03-30 13:01:38,695] Trial 25 finished with value: 0.578125 and parameters: {'num_bees': 100, 'limit': 50, 'max_iter': 1000, 'onlooker_phase': 'waggle_dance_onlooker'}. Best is trial 8 with value: 0.3625.\n",
            "[I 2025-03-30 13:01:38,698] Trial 26 finished with value: 0.515625 and parameters: {'num_bees': 70, 'limit': 100, 'max_iter': 1000, 'onlooker_phase': 'random_search_onlooker'}. Best is trial 8 with value: 0.3625.\n",
            "[I 2025-03-30 13:01:38,702] Trial 27 finished with value: 0.428125 and parameters: {'num_bees': 50, 'limit': 500, 'max_iter': 1000, 'onlooker_phase': 'waggle_dance_onlooker'}. Best is trial 8 with value: 0.3625.\n",
            "[I 2025-03-30 13:01:38,706] Trial 28 finished with value: 0.478125 and parameters: {'num_bees': 60, 'limit': 500, 'max_iter': 1000, 'onlooker_phase': 'waggle_dance_onlooker'}. Best is trial 8 with value: 0.3625.\n",
            "[I 2025-03-30 13:01:38,709] Trial 29 finished with value: 0.48125 and parameters: {'num_bees': 80, 'limit': 500, 'max_iter': 100, 'onlooker_phase': 'random_search_onlooker'}. Best is trial 8 with value: 0.3625.\n",
            "[I 2025-03-30 13:01:38,712] Trial 30 finished with value: 0.3625 and parameters: {'num_bees': 90, 'limit': 500, 'max_iter': 1000, 'onlooker_phase': 'waggle_dance_onlooker'}. Best is trial 8 with value: 0.3625.\n",
            "[I 2025-03-30 13:01:38,716] Trial 31 finished with value: 0.3625 and parameters: {'num_bees': 90, 'limit': 500, 'max_iter': 1000, 'onlooker_phase': 'waggle_dance_onlooker'}. Best is trial 8 with value: 0.3625.\n",
            "[I 2025-03-30 13:01:38,719] Trial 32 finished with value: 0.3625 and parameters: {'num_bees': 90, 'limit': 500, 'max_iter': 1000, 'onlooker_phase': 'waggle_dance_onlooker'}. Best is trial 8 with value: 0.3625.\n",
            "[I 2025-03-30 13:01:38,722] Trial 33 finished with value: 0.3625 and parameters: {'num_bees': 90, 'limit': 500, 'max_iter': 1000, 'onlooker_phase': 'waggle_dance_onlooker'}. Best is trial 8 with value: 0.3625.\n",
            "[I 2025-03-30 13:01:38,725] Trial 34 finished with value: 0.478125 and parameters: {'num_bees': 100, 'limit': 500, 'max_iter': 100, 'onlooker_phase': 'random_search_onlooker'}. Best is trial 8 with value: 0.3625.\n",
            "[I 2025-03-30 13:01:38,728] Trial 35 finished with value: 0.709375 and parameters: {'num_bees': 90, 'limit': 10, 'max_iter': 1000, 'onlooker_phase': 'waggle_dance_onlooker'}. Best is trial 8 with value: 0.3625.\n",
            "[I 2025-03-30 13:01:38,731] Trial 36 finished with value: 0.559375 and parameters: {'num_bees': 60, 'limit': 100, 'max_iter': 100, 'onlooker_phase': 'waggle_dance_onlooker'}. Best is trial 8 with value: 0.3625.\n",
            "[I 2025-03-30 13:01:38,734] Trial 37 finished with value: 0.3875 and parameters: {'num_bees': 70, 'limit': 500, 'max_iter': 1000, 'onlooker_phase': 'random_search_onlooker'}. Best is trial 8 with value: 0.3625.\n",
            "[I 2025-03-30 13:01:38,737] Trial 38 finished with value: 0.459375 and parameters: {'num_bees': 80, 'limit': 250, 'max_iter': 100, 'onlooker_phase': 'waggle_dance_onlooker'}. Best is trial 8 with value: 0.3625.\n",
            "[I 2025-03-30 13:01:38,740] Trial 39 finished with value: 0.6 and parameters: {'num_bees': 90, 'limit': 50, 'max_iter': 1000, 'onlooker_phase': 'waggle_dance_onlooker'}. Best is trial 8 with value: 0.3625.\n",
            "[I 2025-03-30 13:01:38,742] Trial 40 finished with value: 0.415625 and parameters: {'num_bees': 100, 'limit': 500, 'max_iter': 1000, 'onlooker_phase': 'waggle_dance_onlooker'}. Best is trial 8 with value: 0.3625.\n",
            "[I 2025-03-30 13:01:38,745] Trial 41 finished with value: 0.3625 and parameters: {'num_bees': 90, 'limit': 500, 'max_iter': 1000, 'onlooker_phase': 'waggle_dance_onlooker'}. Best is trial 8 with value: 0.3625.\n",
            "[I 2025-03-30 13:01:38,748] Trial 42 finished with value: 0.3625 and parameters: {'num_bees': 90, 'limit': 500, 'max_iter': 1000, 'onlooker_phase': 'waggle_dance_onlooker'}. Best is trial 8 with value: 0.3625.\n",
            "[I 2025-03-30 13:01:38,751] Trial 43 finished with value: 0.3625 and parameters: {'num_bees': 90, 'limit': 500, 'max_iter': 1000, 'onlooker_phase': 'waggle_dance_onlooker'}. Best is trial 8 with value: 0.3625.\n",
            "[I 2025-03-30 13:01:38,755] Trial 44 finished with value: 0.4875 and parameters: {'num_bees': 50, 'limit': 250, 'max_iter': 1000, 'onlooker_phase': 'waggle_dance_onlooker'}. Best is trial 8 with value: 0.3625.\n",
            "[I 2025-03-30 13:01:38,758] Trial 45 finished with value: 0.3625 and parameters: {'num_bees': 90, 'limit': 500, 'max_iter': 1000, 'onlooker_phase': 'waggle_dance_onlooker'}. Best is trial 8 with value: 0.3625.\n",
            "[I 2025-03-30 13:01:38,760] Trial 46 finished with value: 0.55625 and parameters: {'num_bees': 60, 'limit': 500, 'max_iter': 100, 'onlooker_phase': 'waggle_dance_onlooker'}. Best is trial 8 with value: 0.3625.\n",
            "[I 2025-03-30 13:01:38,763] Trial 47 finished with value: 0.66875 and parameters: {'num_bees': 90, 'limit': 10, 'max_iter': 1000, 'onlooker_phase': 'random_search_onlooker'}. Best is trial 8 with value: 0.3625.\n",
            "[I 2025-03-30 13:01:38,767] Trial 48 finished with value: 0.55625 and parameters: {'num_bees': 80, 'limit': 100, 'max_iter': 1000, 'onlooker_phase': 'waggle_dance_onlooker'}. Best is trial 8 with value: 0.3625.\n",
            "[I 2025-03-30 13:01:38,769] Trial 49 finished with value: 0.6 and parameters: {'num_bees': 90, 'limit': 50, 'max_iter': 1000, 'onlooker_phase': 'waggle_dance_onlooker'}. Best is trial 8 with value: 0.3625.\n",
            "[I 2025-03-30 13:01:38,772] Trial 50 finished with value: 0.3625 and parameters: {'num_bees': 90, 'limit': 500, 'max_iter': 1000, 'onlooker_phase': 'waggle_dance_onlooker'}. Best is trial 8 with value: 0.3625.\n",
            "[I 2025-03-30 13:01:38,776] Trial 51 finished with value: 0.3625 and parameters: {'num_bees': 90, 'limit': 500, 'max_iter': 1000, 'onlooker_phase': 'waggle_dance_onlooker'}. Best is trial 8 with value: 0.3625.\n",
            "[I 2025-03-30 13:01:38,780] Trial 52 finished with value: 0.3625 and parameters: {'num_bees': 90, 'limit': 500, 'max_iter': 1000, 'onlooker_phase': 'waggle_dance_onlooker'}. Best is trial 8 with value: 0.3625.\n",
            "[I 2025-03-30 13:01:38,783] Trial 53 finished with value: 0.3625 and parameters: {'num_bees': 90, 'limit': 500, 'max_iter': 1000, 'onlooker_phase': 'waggle_dance_onlooker'}. Best is trial 8 with value: 0.3625.\n",
            "[I 2025-03-30 13:01:38,786] Trial 54 finished with value: 0.3625 and parameters: {'num_bees': 90, 'limit': 500, 'max_iter': 1000, 'onlooker_phase': 'waggle_dance_onlooker'}. Best is trial 8 with value: 0.3625.\n",
            "[I 2025-03-30 13:01:38,789] Trial 55 finished with value: 0.45625 and parameters: {'num_bees': 70, 'limit': 250, 'max_iter': 1000, 'onlooker_phase': 'waggle_dance_onlooker'}. Best is trial 8 with value: 0.3625.\n",
            "[I 2025-03-30 13:01:38,792] Trial 56 finished with value: 0.3625 and parameters: {'num_bees': 90, 'limit': 500, 'max_iter': 1000, 'onlooker_phase': 'waggle_dance_onlooker'}. Best is trial 8 with value: 0.3625.\n",
            "[I 2025-03-30 13:01:38,795] Trial 57 finished with value: 0.428125 and parameters: {'num_bees': 50, 'limit': 500, 'max_iter': 1000, 'onlooker_phase': 'waggle_dance_onlooker'}. Best is trial 8 with value: 0.3625.\n",
            "[I 2025-03-30 13:01:38,798] Trial 58 finished with value: 0.66875 and parameters: {'num_bees': 90, 'limit': 10, 'max_iter': 1000, 'onlooker_phase': 'random_search_onlooker'}. Best is trial 8 with value: 0.3625.\n",
            "[I 2025-03-30 13:01:38,801] Trial 59 finished with value: 0.5 and parameters: {'num_bees': 90, 'limit': 500, 'max_iter': 100, 'onlooker_phase': 'waggle_dance_onlooker'}. Best is trial 8 with value: 0.3625.\n",
            "[I 2025-03-30 13:01:38,804] Trial 60 finished with value: 0.5125 and parameters: {'num_bees': 100, 'limit': 100, 'max_iter': 1000, 'onlooker_phase': 'waggle_dance_onlooker'}. Best is trial 8 with value: 0.3625.\n",
            "[I 2025-03-30 13:01:38,807] Trial 61 finished with value: 0.3625 and parameters: {'num_bees': 90, 'limit': 500, 'max_iter': 1000, 'onlooker_phase': 'waggle_dance_onlooker'}. Best is trial 8 with value: 0.3625.\n",
            "[I 2025-03-30 13:01:38,810] Trial 62 finished with value: 0.3625 and parameters: {'num_bees': 90, 'limit': 500, 'max_iter': 1000, 'onlooker_phase': 'waggle_dance_onlooker'}. Best is trial 8 with value: 0.3625.\n",
            "[I 2025-03-30 13:01:38,813] Trial 63 finished with value: 0.3625 and parameters: {'num_bees': 90, 'limit': 500, 'max_iter': 1000, 'onlooker_phase': 'waggle_dance_onlooker'}. Best is trial 8 with value: 0.3625.\n",
            "[I 2025-03-30 13:01:38,816] Trial 64 finished with value: 0.3625 and parameters: {'num_bees': 90, 'limit': 500, 'max_iter': 1000, 'onlooker_phase': 'waggle_dance_onlooker'}. Best is trial 8 with value: 0.3625.\n",
            "[I 2025-03-30 13:01:38,819] Trial 65 finished with value: 0.478125 and parameters: {'num_bees': 60, 'limit': 500, 'max_iter': 1000, 'onlooker_phase': 'waggle_dance_onlooker'}. Best is trial 8 with value: 0.3625.\n",
            "[I 2025-03-30 13:01:38,822] Trial 66 finished with value: 0.6 and parameters: {'num_bees': 90, 'limit': 50, 'max_iter': 1000, 'onlooker_phase': 'waggle_dance_onlooker'}. Best is trial 8 with value: 0.3625.\n",
            "[I 2025-03-30 13:01:38,825] Trial 67 finished with value: 0.4125 and parameters: {'num_bees': 70, 'limit': 500, 'max_iter': 1000, 'onlooker_phase': 'waggle_dance_onlooker'}. Best is trial 8 with value: 0.3625.\n",
            "[I 2025-03-30 13:01:38,829] Trial 68 finished with value: 0.4625 and parameters: {'num_bees': 90, 'limit': 500, 'max_iter': 1000, 'onlooker_phase': 'random_search_onlooker'}. Best is trial 8 with value: 0.3625.\n",
            "[I 2025-03-30 13:01:38,833] Trial 69 finished with value: 0.528125 and parameters: {'num_bees': 80, 'limit': 500, 'max_iter': 100, 'onlooker_phase': 'waggle_dance_onlooker'}. Best is trial 8 with value: 0.3625.\n",
            "[I 2025-03-30 13:01:38,836] Trial 70 finished with value: 0.4875 and parameters: {'num_bees': 90, 'limit': 250, 'max_iter': 1000, 'onlooker_phase': 'waggle_dance_onlooker'}. Best is trial 8 with value: 0.3625.\n",
            "[I 2025-03-30 13:01:38,840] Trial 71 finished with value: 0.3625 and parameters: {'num_bees': 90, 'limit': 500, 'max_iter': 1000, 'onlooker_phase': 'waggle_dance_onlooker'}. Best is trial 8 with value: 0.3625.\n",
            "[I 2025-03-30 13:01:38,843] Trial 72 finished with value: 0.3625 and parameters: {'num_bees': 90, 'limit': 500, 'max_iter': 1000, 'onlooker_phase': 'waggle_dance_onlooker'}. Best is trial 8 with value: 0.3625.\n",
            "[I 2025-03-30 13:01:38,846] Trial 73 finished with value: 0.3625 and parameters: {'num_bees': 90, 'limit': 500, 'max_iter': 1000, 'onlooker_phase': 'waggle_dance_onlooker'}. Best is trial 8 with value: 0.3625.\n",
            "[I 2025-03-30 13:01:38,849] Trial 74 finished with value: 0.428125 and parameters: {'num_bees': 50, 'limit': 500, 'max_iter': 1000, 'onlooker_phase': 'waggle_dance_onlooker'}. Best is trial 8 with value: 0.3625.\n",
            "[I 2025-03-30 13:01:38,852] Trial 75 finished with value: 0.3625 and parameters: {'num_bees': 90, 'limit': 500, 'max_iter': 1000, 'onlooker_phase': 'waggle_dance_onlooker'}. Best is trial 8 with value: 0.3625.\n",
            "[I 2025-03-30 13:01:38,856] Trial 76 finished with value: 0.69375 and parameters: {'num_bees': 100, 'limit': 10, 'max_iter': 1000, 'onlooker_phase': 'waggle_dance_onlooker'}. Best is trial 8 with value: 0.3625.\n",
            "[I 2025-03-30 13:01:38,859] Trial 77 finished with value: 0.3625 and parameters: {'num_bees': 90, 'limit': 500, 'max_iter': 1000, 'onlooker_phase': 'waggle_dance_onlooker'}. Best is trial 8 with value: 0.3625.\n",
            "[I 2025-03-30 13:01:38,862] Trial 78 finished with value: 0.553125 and parameters: {'num_bees': 90, 'limit': 100, 'max_iter': 1000, 'onlooker_phase': 'random_search_onlooker'}. Best is trial 8 with value: 0.3625.\n",
            "[I 2025-03-30 13:01:38,866] Trial 79 finished with value: 0.55625 and parameters: {'num_bees': 60, 'limit': 500, 'max_iter': 100, 'onlooker_phase': 'waggle_dance_onlooker'}. Best is trial 8 with value: 0.3625.\n",
            "[I 2025-03-30 13:01:38,869] Trial 80 finished with value: 0.6 and parameters: {'num_bees': 90, 'limit': 50, 'max_iter': 1000, 'onlooker_phase': 'waggle_dance_onlooker'}. Best is trial 8 with value: 0.3625.\n",
            "[I 2025-03-30 13:01:38,873] Trial 81 finished with value: 0.3625 and parameters: {'num_bees': 90, 'limit': 500, 'max_iter': 1000, 'onlooker_phase': 'waggle_dance_onlooker'}. Best is trial 8 with value: 0.3625.\n",
            "[I 2025-03-30 13:01:38,877] Trial 82 finished with value: 0.3625 and parameters: {'num_bees': 90, 'limit': 500, 'max_iter': 1000, 'onlooker_phase': 'waggle_dance_onlooker'}. Best is trial 8 with value: 0.3625.\n",
            "[I 2025-03-30 13:01:38,880] Trial 83 finished with value: 0.3625 and parameters: {'num_bees': 90, 'limit': 500, 'max_iter': 1000, 'onlooker_phase': 'waggle_dance_onlooker'}. Best is trial 8 with value: 0.3625.\n",
            "[I 2025-03-30 13:01:38,883] Trial 84 finished with value: 0.3625 and parameters: {'num_bees': 90, 'limit': 500, 'max_iter': 1000, 'onlooker_phase': 'waggle_dance_onlooker'}. Best is trial 8 with value: 0.3625.\n",
            "[I 2025-03-30 13:01:38,886] Trial 85 finished with value: 0.475 and parameters: {'num_bees': 80, 'limit': 500, 'max_iter': 1000, 'onlooker_phase': 'waggle_dance_onlooker'}. Best is trial 8 with value: 0.3625.\n",
            "[I 2025-03-30 13:01:38,889] Trial 86 finished with value: 0.3625 and parameters: {'num_bees': 90, 'limit': 500, 'max_iter': 1000, 'onlooker_phase': 'waggle_dance_onlooker'}. Best is trial 8 with value: 0.3625.\n",
            "[I 2025-03-30 13:01:38,893] Trial 87 finished with value: 0.4125 and parameters: {'num_bees': 70, 'limit': 500, 'max_iter': 1000, 'onlooker_phase': 'waggle_dance_onlooker'}. Best is trial 8 with value: 0.3625.\n",
            "[I 2025-03-30 13:01:38,896] Trial 88 finished with value: 0.4875 and parameters: {'num_bees': 90, 'limit': 250, 'max_iter': 1000, 'onlooker_phase': 'waggle_dance_onlooker'}. Best is trial 8 with value: 0.3625.\n",
            "[I 2025-03-30 13:01:38,899] Trial 89 finished with value: 0.3625 and parameters: {'num_bees': 90, 'limit': 500, 'max_iter': 1000, 'onlooker_phase': 'waggle_dance_onlooker'}. Best is trial 8 with value: 0.3625.\n",
            "[I 2025-03-30 13:01:38,903] Trial 90 finished with value: 0.446875 and parameters: {'num_bees': 50, 'limit': 500, 'max_iter': 1000, 'onlooker_phase': 'random_search_onlooker'}. Best is trial 8 with value: 0.3625.\n",
            "[I 2025-03-30 13:01:38,906] Trial 91 finished with value: 0.3625 and parameters: {'num_bees': 90, 'limit': 500, 'max_iter': 1000, 'onlooker_phase': 'waggle_dance_onlooker'}. Best is trial 8 with value: 0.3625.\n",
            "[I 2025-03-30 13:01:38,909] Trial 92 finished with value: 0.3625 and parameters: {'num_bees': 90, 'limit': 500, 'max_iter': 1000, 'onlooker_phase': 'waggle_dance_onlooker'}. Best is trial 8 with value: 0.3625.\n",
            "[I 2025-03-30 13:01:38,913] Trial 93 finished with value: 0.3625 and parameters: {'num_bees': 90, 'limit': 500, 'max_iter': 1000, 'onlooker_phase': 'waggle_dance_onlooker'}. Best is trial 8 with value: 0.3625.\n",
            "[I 2025-03-30 13:01:38,916] Trial 94 finished with value: 0.709375 and parameters: {'num_bees': 90, 'limit': 10, 'max_iter': 1000, 'onlooker_phase': 'waggle_dance_onlooker'}. Best is trial 8 with value: 0.3625.\n",
            "[I 2025-03-30 13:01:38,920] Trial 95 finished with value: 0.5 and parameters: {'num_bees': 90, 'limit': 500, 'max_iter': 100, 'onlooker_phase': 'waggle_dance_onlooker'}. Best is trial 8 with value: 0.3625.\n",
            "[I 2025-03-30 13:01:38,923] Trial 96 finished with value: 0.5125 and parameters: {'num_bees': 100, 'limit': 100, 'max_iter': 1000, 'onlooker_phase': 'waggle_dance_onlooker'}. Best is trial 8 with value: 0.3625.\n",
            "[I 2025-03-30 13:01:38,926] Trial 97 finished with value: 0.3625 and parameters: {'num_bees': 90, 'limit': 500, 'max_iter': 1000, 'onlooker_phase': 'waggle_dance_onlooker'}. Best is trial 8 with value: 0.3625.\n",
            "[I 2025-03-30 13:01:38,930] Trial 98 finished with value: 0.3625 and parameters: {'num_bees': 90, 'limit': 500, 'max_iter': 1000, 'onlooker_phase': 'waggle_dance_onlooker'}. Best is trial 8 with value: 0.3625.\n",
            "[I 2025-03-30 13:01:38,933] Trial 99 finished with value: 0.653125 and parameters: {'num_bees': 60, 'limit': 50, 'max_iter': 1000, 'onlooker_phase': 'waggle_dance_onlooker'}. Best is trial 8 with value: 0.3625.\n",
            "[I 2025-03-30 13:01:38,937] Trial 100 finished with value: 0.3625 and parameters: {'num_bees': 90, 'limit': 500, 'max_iter': 1000, 'onlooker_phase': 'waggle_dance_onlooker'}. Best is trial 8 with value: 0.3625.\n",
            "[I 2025-03-30 13:01:38,941] Trial 101 finished with value: 0.3625 and parameters: {'num_bees': 90, 'limit': 500, 'max_iter': 1000, 'onlooker_phase': 'waggle_dance_onlooker'}. Best is trial 8 with value: 0.3625.\n",
            "[I 2025-03-30 13:01:38,944] Trial 102 finished with value: 0.3625 and parameters: {'num_bees': 90, 'limit': 500, 'max_iter': 1000, 'onlooker_phase': 'waggle_dance_onlooker'}. Best is trial 8 with value: 0.3625.\n",
            "[I 2025-03-30 13:01:38,948] Trial 103 finished with value: 0.3625 and parameters: {'num_bees': 90, 'limit': 500, 'max_iter': 1000, 'onlooker_phase': 'waggle_dance_onlooker'}. Best is trial 8 with value: 0.3625.\n",
            "[I 2025-03-30 13:01:38,952] Trial 104 finished with value: 0.3625 and parameters: {'num_bees': 90, 'limit': 500, 'max_iter': 1000, 'onlooker_phase': 'waggle_dance_onlooker'}. Best is trial 8 with value: 0.3625.\n",
            "[I 2025-03-30 13:01:38,955] Trial 105 finished with value: 0.3625 and parameters: {'num_bees': 90, 'limit': 500, 'max_iter': 1000, 'onlooker_phase': 'waggle_dance_onlooker'}. Best is trial 8 with value: 0.3625.\n",
            "[I 2025-03-30 13:01:38,958] Trial 106 finished with value: 0.475 and parameters: {'num_bees': 80, 'limit': 500, 'max_iter': 1000, 'onlooker_phase': 'waggle_dance_onlooker'}. Best is trial 8 with value: 0.3625.\n",
            "[I 2025-03-30 13:01:38,962] Trial 107 finished with value: 0.3875 and parameters: {'num_bees': 70, 'limit': 500, 'max_iter': 1000, 'onlooker_phase': 'random_search_onlooker'}. Best is trial 8 with value: 0.3625.\n",
            "[I 2025-03-30 13:01:38,966] Trial 108 finished with value: 0.459375 and parameters: {'num_bees': 90, 'limit': 250, 'max_iter': 100, 'onlooker_phase': 'waggle_dance_onlooker'}. Best is trial 8 with value: 0.3625.\n",
            "[I 2025-03-30 13:01:38,969] Trial 109 finished with value: 0.3625 and parameters: {'num_bees': 90, 'limit': 500, 'max_iter': 1000, 'onlooker_phase': 'waggle_dance_onlooker'}. Best is trial 8 with value: 0.3625.\n",
            "[I 2025-03-30 13:01:38,973] Trial 110 finished with value: 0.3625 and parameters: {'num_bees': 90, 'limit': 500, 'max_iter': 1000, 'onlooker_phase': 'waggle_dance_onlooker'}. Best is trial 8 with value: 0.3625.\n",
            "[I 2025-03-30 13:01:38,977] Trial 111 finished with value: 0.3625 and parameters: {'num_bees': 90, 'limit': 500, 'max_iter': 1000, 'onlooker_phase': 'waggle_dance_onlooker'}. Best is trial 8 with value: 0.3625.\n",
            "[I 2025-03-30 13:01:38,980] Trial 112 finished with value: 0.3625 and parameters: {'num_bees': 90, 'limit': 500, 'max_iter': 1000, 'onlooker_phase': 'waggle_dance_onlooker'}. Best is trial 8 with value: 0.3625.\n",
            "[I 2025-03-30 13:01:38,983] Trial 113 finished with value: 0.3625 and parameters: {'num_bees': 90, 'limit': 500, 'max_iter': 1000, 'onlooker_phase': 'waggle_dance_onlooker'}. Best is trial 8 with value: 0.3625.\n",
            "[I 2025-03-30 13:01:38,986] Trial 114 finished with value: 0.3625 and parameters: {'num_bees': 90, 'limit': 500, 'max_iter': 1000, 'onlooker_phase': 'waggle_dance_onlooker'}. Best is trial 8 with value: 0.3625.\n",
            "[I 2025-03-30 13:01:38,990] Trial 115 finished with value: 0.428125 and parameters: {'num_bees': 50, 'limit': 500, 'max_iter': 1000, 'onlooker_phase': 'waggle_dance_onlooker'}. Best is trial 8 with value: 0.3625.\n",
            "[I 2025-03-30 13:01:38,994] Trial 116 finished with value: 0.709375 and parameters: {'num_bees': 90, 'limit': 10, 'max_iter': 1000, 'onlooker_phase': 'waggle_dance_onlooker'}. Best is trial 8 with value: 0.3625.\n",
            "[I 2025-03-30 13:01:38,997] Trial 117 finished with value: 0.3625 and parameters: {'num_bees': 90, 'limit': 500, 'max_iter': 1000, 'onlooker_phase': 'waggle_dance_onlooker'}. Best is trial 8 with value: 0.3625.\n",
            "[I 2025-03-30 13:01:39,001] Trial 118 finished with value: 0.4875 and parameters: {'num_bees': 90, 'limit': 100, 'max_iter': 1000, 'onlooker_phase': 'waggle_dance_onlooker'}. Best is trial 8 with value: 0.3625.\n",
            "[I 2025-03-30 13:01:39,005] Trial 119 finished with value: 0.415625 and parameters: {'num_bees': 100, 'limit': 500, 'max_iter': 1000, 'onlooker_phase': 'waggle_dance_onlooker'}. Best is trial 8 with value: 0.3625.\n"
          ]
        },
        {
          "name": "stdout",
          "output_type": "stream",
          "text": [
            "Melhores parâmetros encontrados:\n",
            "{'num_bees': 90, 'limit': 500, 'max_iter': 1000, 'onlooker_phase': 'waggle_dance_onlooker'}\n"
          ]
        }
      ],
      "source": [
        "n_trials = df[[\"num_bees\", \"limit\", \"max_iter\", \"onlooker_phase\"]].drop_duplicates().shape[0]\n",
        "\n",
        "# Criar e rodar a otimização\n",
        "study = optuna.create_study(direction=\"minimize\")\n",
        "study.optimize(objective_v3, n_trials=n_trials)  # Ajuste o número de trials conforme necessário\n",
        "\n",
        "# Exibir os melhores parâmetros encontrados\n",
        "print(\"Melhores parâmetros encontrados:\")\n",
        "print(study.best_params)"
      ]
    },
    {
      "cell_type": "code",
      "execution_count": 27,
      "metadata": {},
      "outputs": [
        {
          "data": {
            "text/plain": [
              "np.float64(168.09333333333333)"
            ]
          },
          "execution_count": 27,
          "metadata": {},
          "output_type": "execute_result"
        }
      ],
      "source": [
        "df.conflitos.mean()"
      ]
    },
    {
      "cell_type": "code",
      "execution_count": 28,
      "metadata": {},
      "outputs": [
        {
          "data": {
            "text/plain": [
              "np.float64(5.05776034148998)"
            ]
          },
          "execution_count": 28,
          "metadata": {},
          "output_type": "execute_result"
        }
      ],
      "source": [
        "df.conflitos.std()"
      ]
    },
    {
      "cell_type": "code",
      "execution_count": 29,
      "metadata": {},
      "outputs": [
        {
          "data": {
            "text/plain": [
              "np.int64(150)"
            ]
          },
          "execution_count": 29,
          "metadata": {},
          "output_type": "execute_result"
        }
      ],
      "source": [
        "df.conflitos.min()"
      ]
    },
    {
      "cell_type": "code",
      "execution_count": 30,
      "metadata": {},
      "outputs": [
        {
          "data": {
            "text/plain": [
              "np.int64(182)"
            ]
          },
          "execution_count": 30,
          "metadata": {},
          "output_type": "execute_result"
        }
      ],
      "source": [
        "df.conflitos.max()"
      ]
    },
    {
      "cell_type": "code",
      "execution_count": 31,
      "metadata": {},
      "outputs": [
        {
          "data": {
            "text/plain": [
              "count    1200.000000\n",
              "mean      168.093333\n",
              "std         5.057760\n",
              "min       150.000000\n",
              "25%       165.000000\n",
              "50%       168.000000\n",
              "75%       172.000000\n",
              "max       182.000000\n",
              "Name: conflitos, dtype: float64"
            ]
          },
          "execution_count": 31,
          "metadata": {},
          "output_type": "execute_result"
        }
      ],
      "source": [
        "df.conflitos.describe()"
      ]
    },
    {
      "cell_type": "code",
      "execution_count": null,
      "metadata": {},
      "outputs": [],
      "source": []
    },
    {
      "cell_type": "markdown",
      "metadata": {},
      "source": [
        "## Versão após corrigir o random seed"
      ]
    },
    {
      "cell_type": "code",
      "execution_count": 23,
      "metadata": {},
      "outputs": [
        {
          "data": {
            "text/html": [
              "<div>\n",
              "<style scoped>\n",
              "    .dataframe tbody tr th:only-of-type {\n",
              "        vertical-align: middle;\n",
              "    }\n",
              "\n",
              "    .dataframe tbody tr th {\n",
              "        vertical-align: top;\n",
              "    }\n",
              "\n",
              "    .dataframe thead th {\n",
              "        text-align: right;\n",
              "    }\n",
              "</style>\n",
              "<table border=\"1\" class=\"dataframe\">\n",
              "  <thead>\n",
              "    <tr style=\"text-align: right;\">\n",
              "      <th></th>\n",
              "      <th>conflitos</th>\n",
              "      <th>tempo_us</th>\n",
              "      <th>iter_found_best</th>\n",
              "      <th>num_bees</th>\n",
              "      <th>limit</th>\n",
              "      <th>max_iter</th>\n",
              "      <th>filename</th>\n",
              "      <th>random_search</th>\n",
              "      <th>num_vertices</th>\n",
              "      <th>num_edges</th>\n",
              "    </tr>\n",
              "  </thead>\n",
              "  <tbody>\n",
              "    <tr>\n",
              "      <th>0</th>\n",
              "      <td>75</td>\n",
              "      <td>749849</td>\n",
              "      <td>6</td>\n",
              "      <td>50</td>\n",
              "      <td>10</td>\n",
              "      <td>100</td>\n",
              "      <td>instances/DSJC250.1.col</td>\n",
              "      <td>p</td>\n",
              "      <td>250</td>\n",
              "      <td>3218</td>\n",
              "    </tr>\n",
              "    <tr>\n",
              "      <th>1</th>\n",
              "      <td>74</td>\n",
              "      <td>714548</td>\n",
              "      <td>1</td>\n",
              "      <td>50</td>\n",
              "      <td>10</td>\n",
              "      <td>100</td>\n",
              "      <td>instances/DSJC250.1.col</td>\n",
              "      <td>p</td>\n",
              "      <td>250</td>\n",
              "      <td>3218</td>\n",
              "    </tr>\n",
              "    <tr>\n",
              "      <th>2</th>\n",
              "      <td>60</td>\n",
              "      <td>1943199</td>\n",
              "      <td>177</td>\n",
              "      <td>50</td>\n",
              "      <td>10</td>\n",
              "      <td>100</td>\n",
              "      <td>instances/DSJC250.1.col</td>\n",
              "      <td>p</td>\n",
              "      <td>250</td>\n",
              "      <td>3218</td>\n",
              "    </tr>\n",
              "    <tr>\n",
              "      <th>3</th>\n",
              "      <td>71</td>\n",
              "      <td>812902</td>\n",
              "      <td>8</td>\n",
              "      <td>50</td>\n",
              "      <td>10</td>\n",
              "      <td>100</td>\n",
              "      <td>instances/DSJC250.1.col</td>\n",
              "      <td>p</td>\n",
              "      <td>250</td>\n",
              "      <td>3218</td>\n",
              "    </tr>\n",
              "    <tr>\n",
              "      <th>4</th>\n",
              "      <td>72</td>\n",
              "      <td>907787</td>\n",
              "      <td>25</td>\n",
              "      <td>50</td>\n",
              "      <td>10</td>\n",
              "      <td>100</td>\n",
              "      <td>instances/DSJC250.1.col</td>\n",
              "      <td>p</td>\n",
              "      <td>250</td>\n",
              "      <td>3218</td>\n",
              "    </tr>\n",
              "  </tbody>\n",
              "</table>\n",
              "</div>"
            ],
            "text/plain": [
              "   conflitos  tempo_us  iter_found_best  num_bees  limit  max_iter  \\\n",
              "0         75    749849                6        50     10       100   \n",
              "1         74    714548                1        50     10       100   \n",
              "2         60   1943199              177        50     10       100   \n",
              "3         71    812902                8        50     10       100   \n",
              "4         72    907787               25        50     10       100   \n",
              "\n",
              "                  filename random_search  num_vertices  num_edges  \n",
              "0  instances/DSJC250.1.col             p           250       3218  \n",
              "1  instances/DSJC250.1.col             p           250       3218  \n",
              "2  instances/DSJC250.1.col             p           250       3218  \n",
              "3  instances/DSJC250.1.col             p           250       3218  \n",
              "4  instances/DSJC250.1.col             p           250       3218  "
            ]
          },
          "execution_count": 23,
          "metadata": {},
          "output_type": "execute_result"
        }
      ],
      "source": [
        "columns_v4 = ['conflitos', 'tempo_us', 'iter_found_best', 'num_bees', \n",
        "           'limit', 'max_iter', 'filename', 'random_search',\n",
        "           'num_vertices', 'num_edges' ]\n",
        "df_v4 = pd.read_csv('results_abc_v3/calibrar/DSJC250.1.txt', sep=';', names=columns_v4, header=None)\n",
        "df_v4.head()"
      ]
    },
    {
      "cell_type": "code",
      "execution_count": 24,
      "metadata": {},
      "outputs": [],
      "source": [
        "df_v4['conflitos_norm'] = (df_v4[\"conflitos\"] - df_v4[\"conflitos\"].min()) / (df_v4[\"conflitos\"].max() - df_v4[\"conflitos\"].min() if df_v4[\"conflitos\"].max()!= df_v4[\"conflitos\"].min() else 0)\n",
        "df_v4['tempo_norm'] = (df_v4[\"tempo_us\"] - df_v4[\"tempo_us\"].min()) / (df_v4[\"tempo_us\"].max() - df_v4[\"tempo_us\"].min() if df_v4[\"tempo_us\"].max()!= df_v4[\"tempo_us\"].min() else 0)\n",
        "def objective_v4(trial):\n",
        "    \"\"\"Função objetivo para o Optuna, buscando a melhor configuração de parâmetros já testada.\"\"\"\n",
        "\n",
        "    # Optuna irá escolher um conjunto de parâmetros dentro dos valores existentes\n",
        "    num_bees = trial.suggest_categorical(\"num_bees\", df_v4[\"num_bees\"].unique().tolist())\n",
        "    limit = trial.suggest_categorical(\"limit\", df_v4[\"limit\"].unique().tolist())\n",
        "    max_iter = trial.suggest_categorical(\"max_iter\", df_v4[\"max_iter\"].unique().tolist())\n",
        "    \n",
        "\n",
        "    # Filtrar apenas as execuções com esses parâmetros\n",
        "    subset = df_v4[(df_v4[\"num_bees\"] == num_bees) &\n",
        "                (df_v4[\"limit\"] == limit) &\n",
        "                (df_v4[\"max_iter\"] == max_iter)]\n",
        "\n",
        "    alpha = 1  # Peso para conflitos\n",
        "    beta = 0   # Peso para tempo\n",
        "    score = alpha * subset[\"conflitos_norm\"].mean() + beta * subset[\"tempo_norm\"].mean()\n",
        "    \n",
        "\n",
        "    return score  # O Optuna busca minimizar esse valor"
      ]
    },
    {
      "cell_type": "code",
      "execution_count": 25,
      "metadata": {},
      "outputs": [
        {
          "name": "stderr",
          "output_type": "stream",
          "text": [
            "[I 2025-04-03 08:25:41,151] A new study created in memory with name: no-name-055533d7-b4b8-487c-a521-1501a7ccb245\n",
            "[I 2025-04-03 08:25:41,165] Trial 0 finished with value: 0.5566666666666666 and parameters: {'num_bees': 80, 'limit': 250, 'max_iter': 10000}. Best is trial 0 with value: 0.5566666666666666.\n",
            "[I 2025-04-03 08:25:41,167] Trial 1 finished with value: 0.7566666666666666 and parameters: {'num_bees': 90, 'limit': 250, 'max_iter': 100}. Best is trial 0 with value: 0.5566666666666666.\n",
            "[I 2025-04-03 08:25:41,169] Trial 2 finished with value: 0.8316666666666667 and parameters: {'num_bees': 60, 'limit': 100, 'max_iter': 10}. Best is trial 0 with value: 0.5566666666666666.\n",
            "[I 2025-04-03 08:25:41,170] Trial 3 finished with value: 0.6566666666666667 and parameters: {'num_bees': 50, 'limit': 50, 'max_iter': 1000}. Best is trial 0 with value: 0.5566666666666666.\n",
            "[I 2025-04-03 08:25:41,172] Trial 4 finished with value: 0.23166666666666663 and parameters: {'num_bees': 90, 'limit': 5, 'max_iter': 10000}. Best is trial 4 with value: 0.23166666666666663.\n",
            "[I 2025-04-03 08:25:41,174] Trial 5 finished with value: 0.7983333333333333 and parameters: {'num_bees': 100, 'limit': 500, 'max_iter': 100}. Best is trial 4 with value: 0.23166666666666663.\n",
            "[I 2025-04-03 08:25:41,175] Trial 6 finished with value: 0.7383333333333334 and parameters: {'num_bees': 70, 'limit': 100, 'max_iter': 1000}. Best is trial 4 with value: 0.23166666666666663.\n"
          ]
        },
        {
          "name": "stderr",
          "output_type": "stream",
          "text": [
            "[I 2025-04-03 08:25:41,177] Trial 7 finished with value: 0.8200000000000001 and parameters: {'num_bees': 50, 'limit': 10, 'max_iter': 10}. Best is trial 4 with value: 0.23166666666666663.\n",
            "[I 2025-04-03 08:25:41,181] Trial 8 finished with value: 0.7883333333333333 and parameters: {'num_bees': 90, 'limit': 500, 'max_iter': 1000}. Best is trial 4 with value: 0.23166666666666663.\n",
            "[I 2025-04-03 08:25:41,184] Trial 9 finished with value: 0.7883333333333333 and parameters: {'num_bees': 90, 'limit': 500, 'max_iter': 1000}. Best is trial 4 with value: 0.23166666666666663.\n",
            "[I 2025-04-03 08:25:41,189] Trial 10 finished with value: 0.26499999999999996 and parameters: {'num_bees': 60, 'limit': 5, 'max_iter': 10000}. Best is trial 4 with value: 0.23166666666666663.\n",
            "[I 2025-04-03 08:25:41,191] Trial 11 finished with value: 0.26499999999999996 and parameters: {'num_bees': 60, 'limit': 5, 'max_iter': 10000}. Best is trial 4 with value: 0.23166666666666663.\n",
            "[I 2025-04-03 08:25:41,194] Trial 12 finished with value: 0.26499999999999996 and parameters: {'num_bees': 60, 'limit': 5, 'max_iter': 10000}. Best is trial 4 with value: 0.23166666666666663.\n",
            "[I 2025-04-03 08:25:41,196] Trial 13 finished with value: 0.22333333333333333 and parameters: {'num_bees': 70, 'limit': 5, 'max_iter': 10000}. Best is trial 13 with value: 0.22333333333333333.\n",
            "[I 2025-04-03 08:25:41,199] Trial 14 finished with value: 0.22333333333333333 and parameters: {'num_bees': 70, 'limit': 5, 'max_iter': 10000}. Best is trial 13 with value: 0.22333333333333333.\n",
            "[I 2025-04-03 08:25:41,201] Trial 15 finished with value: 0.22333333333333333 and parameters: {'num_bees': 70, 'limit': 5, 'max_iter': 10000}. Best is trial 13 with value: 0.22333333333333333.\n",
            "[I 2025-04-03 08:25:41,204] Trial 16 finished with value: 0.41 and parameters: {'num_bees': 70, 'limit': 50, 'max_iter': 10000}. Best is trial 13 with value: 0.22333333333333333.\n",
            "[I 2025-04-03 08:25:41,207] Trial 17 finished with value: 0.29333333333333333 and parameters: {'num_bees': 70, 'limit': 10, 'max_iter': 10000}. Best is trial 13 with value: 0.22333333333333333.\n",
            "[I 2025-04-03 08:25:41,209] Trial 18 finished with value: 0.6950000000000001 and parameters: {'num_bees': 70, 'limit': 5, 'max_iter': 100}. Best is trial 13 with value: 0.22333333333333333.\n",
            "[I 2025-04-03 08:25:41,212] Trial 19 finished with value: 0.25166666666666665 and parameters: {'num_bees': 100, 'limit': 5, 'max_iter': 10000}. Best is trial 13 with value: 0.22333333333333333.\n",
            "[I 2025-04-03 08:25:41,215] Trial 20 finished with value: 0.7733333333333333 and parameters: {'num_bees': 80, 'limit': 5, 'max_iter': 10}. Best is trial 13 with value: 0.22333333333333333.\n",
            "[I 2025-04-03 08:25:41,217] Trial 21 finished with value: 0.22333333333333333 and parameters: {'num_bees': 70, 'limit': 5, 'max_iter': 10000}. Best is trial 13 with value: 0.22333333333333333.\n",
            "[I 2025-04-03 08:25:41,219] Trial 22 finished with value: 0.22333333333333333 and parameters: {'num_bees': 70, 'limit': 5, 'max_iter': 10000}. Best is trial 13 with value: 0.22333333333333333.\n",
            "[I 2025-04-03 08:25:41,222] Trial 23 finished with value: 0.22333333333333333 and parameters: {'num_bees': 70, 'limit': 5, 'max_iter': 10000}. Best is trial 13 with value: 0.22333333333333333.\n",
            "[I 2025-04-03 08:25:41,224] Trial 24 finished with value: 0.22333333333333333 and parameters: {'num_bees': 70, 'limit': 5, 'max_iter': 10000}. Best is trial 13 with value: 0.22333333333333333.\n",
            "[I 2025-04-03 08:25:41,226] Trial 25 finished with value: 0.41 and parameters: {'num_bees': 70, 'limit': 50, 'max_iter': 10000}. Best is trial 13 with value: 0.22333333333333333.\n",
            "[I 2025-04-03 08:25:41,229] Trial 26 finished with value: 0.4116666666666666 and parameters: {'num_bees': 70, 'limit': 100, 'max_iter': 10000}. Best is trial 13 with value: 0.22333333333333333.\n",
            "[I 2025-04-03 08:25:41,232] Trial 27 finished with value: 0.72 and parameters: {'num_bees': 70, 'limit': 10, 'max_iter': 100}. Best is trial 13 with value: 0.22333333333333333.\n",
            "[I 2025-04-03 08:25:41,235] Trial 28 finished with value: 0.7833333333333333 and parameters: {'num_bees': 80, 'limit': 250, 'max_iter': 10}. Best is trial 13 with value: 0.22333333333333333.\n",
            "[I 2025-04-03 08:25:41,237] Trial 29 finished with value: 0.655 and parameters: {'num_bees': 50, 'limit': 250, 'max_iter': 10000}. Best is trial 13 with value: 0.22333333333333333.\n",
            "[I 2025-04-03 08:25:41,240] Trial 30 finished with value: 0.25166666666666665 and parameters: {'num_bees': 100, 'limit': 5, 'max_iter': 10000}. Best is trial 13 with value: 0.22333333333333333.\n",
            "[I 2025-04-03 08:25:41,243] Trial 31 finished with value: 0.22333333333333333 and parameters: {'num_bees': 70, 'limit': 5, 'max_iter': 10000}. Best is trial 13 with value: 0.22333333333333333.\n",
            "[I 2025-04-03 08:25:41,245] Trial 32 finished with value: 0.22333333333333333 and parameters: {'num_bees': 70, 'limit': 5, 'max_iter': 10000}. Best is trial 13 with value: 0.22333333333333333.\n",
            "[I 2025-04-03 08:25:41,247] Trial 33 finished with value: 0.22333333333333333 and parameters: {'num_bees': 70, 'limit': 5, 'max_iter': 10000}. Best is trial 13 with value: 0.22333333333333333.\n",
            "[I 2025-04-03 08:25:41,250] Trial 34 finished with value: 0.5566666666666666 and parameters: {'num_bees': 80, 'limit': 250, 'max_iter': 10000}. Best is trial 13 with value: 0.22333333333333333.\n",
            "[I 2025-04-03 08:25:41,252] Trial 35 finished with value: 0.6950000000000001 and parameters: {'num_bees': 70, 'limit': 5, 'max_iter': 100}. Best is trial 13 with value: 0.22333333333333333.\n",
            "[I 2025-04-03 08:25:41,255] Trial 36 finished with value: 0.4116666666666666 and parameters: {'num_bees': 70, 'limit': 100, 'max_iter': 10000}. Best is trial 13 with value: 0.22333333333333333.\n",
            "[I 2025-04-03 08:25:41,258] Trial 37 finished with value: 0.8216666666666667 and parameters: {'num_bees': 50, 'limit': 50, 'max_iter': 10}. Best is trial 13 with value: 0.22333333333333333.\n",
            "[I 2025-04-03 08:25:41,260] Trial 38 finished with value: 0.46499999999999997 and parameters: {'num_bees': 70, 'limit': 5, 'max_iter': 1000}. Best is trial 13 with value: 0.22333333333333333.\n",
            "[I 2025-04-03 08:25:41,262] Trial 39 finished with value: 0.68 and parameters: {'num_bees': 90, 'limit': 500, 'max_iter': 10000}. Best is trial 13 with value: 0.22333333333333333.\n",
            "[I 2025-04-03 08:25:41,265] Trial 40 finished with value: 0.6633333333333333 and parameters: {'num_bees': 100, 'limit': 5, 'max_iter': 100}. Best is trial 13 with value: 0.22333333333333333.\n",
            "[I 2025-04-03 08:25:41,268] Trial 41 finished with value: 0.22333333333333333 and parameters: {'num_bees': 70, 'limit': 5, 'max_iter': 10000}. Best is trial 13 with value: 0.22333333333333333.\n",
            "[I 2025-04-03 08:25:41,270] Trial 42 finished with value: 0.22333333333333333 and parameters: {'num_bees': 70, 'limit': 5, 'max_iter': 10000}. Best is trial 13 with value: 0.22333333333333333.\n",
            "[I 2025-04-03 08:25:41,273] Trial 43 finished with value: 0.22333333333333333 and parameters: {'num_bees': 70, 'limit': 5, 'max_iter': 10000}. Best is trial 13 with value: 0.22333333333333333.\n",
            "[I 2025-04-03 08:25:41,276] Trial 44 finished with value: 0.46499999999999997 and parameters: {'num_bees': 70, 'limit': 10, 'max_iter': 1000}. Best is trial 13 with value: 0.22333333333333333.\n",
            "[I 2025-04-03 08:25:41,278] Trial 45 finished with value: 0.26499999999999996 and parameters: {'num_bees': 60, 'limit': 5, 'max_iter': 10000}. Best is trial 13 with value: 0.22333333333333333.\n",
            "[I 2025-04-03 08:25:41,281] Trial 46 finished with value: 0.68 and parameters: {'num_bees': 90, 'limit': 500, 'max_iter': 10000}. Best is trial 13 with value: 0.22333333333333333.\n",
            "[I 2025-04-03 08:25:41,285] Trial 47 finished with value: 0.4116666666666666 and parameters: {'num_bees': 70, 'limit': 100, 'max_iter': 10000}. Best is trial 13 with value: 0.22333333333333333.\n",
            "[I 2025-04-03 08:25:41,288] Trial 48 finished with value: 0.8233333333333335 and parameters: {'num_bees': 50, 'limit': 5, 'max_iter': 10}. Best is trial 13 with value: 0.22333333333333333.\n",
            "[I 2025-04-03 08:25:41,291] Trial 49 finished with value: 0.46499999999999997 and parameters: {'num_bees': 70, 'limit': 5, 'max_iter': 1000}. Best is trial 13 with value: 0.22333333333333333.\n",
            "[I 2025-04-03 08:25:41,293] Trial 50 finished with value: 0.445 and parameters: {'num_bees': 60, 'limit': 50, 'max_iter': 10000}. Best is trial 13 with value: 0.22333333333333333.\n",
            "[I 2025-04-03 08:25:41,296] Trial 51 finished with value: 0.22333333333333333 and parameters: {'num_bees': 70, 'limit': 5, 'max_iter': 10000}. Best is trial 13 with value: 0.22333333333333333.\n",
            "[I 2025-04-03 08:25:41,298] Trial 52 finished with value: 0.22333333333333333 and parameters: {'num_bees': 70, 'limit': 5, 'max_iter': 10000}. Best is trial 13 with value: 0.22333333333333333.\n",
            "[I 2025-04-03 08:25:41,301] Trial 53 finished with value: 0.22333333333333333 and parameters: {'num_bees': 70, 'limit': 5, 'max_iter': 10000}. Best is trial 13 with value: 0.22333333333333333.\n",
            "[I 2025-04-03 08:25:41,303] Trial 54 finished with value: 0.22333333333333333 and parameters: {'num_bees': 70, 'limit': 5, 'max_iter': 10000}. Best is trial 13 with value: 0.22333333333333333.\n",
            "[I 2025-04-03 08:25:41,306] Trial 55 finished with value: 0.21333333333333332 and parameters: {'num_bees': 80, 'limit': 5, 'max_iter': 10000}. Best is trial 55 with value: 0.21333333333333332.\n",
            "[I 2025-04-03 08:25:41,308] Trial 56 finished with value: 0.2883333333333333 and parameters: {'num_bees': 80, 'limit': 10, 'max_iter': 10000}. Best is trial 55 with value: 0.21333333333333332.\n",
            "[I 2025-04-03 08:25:41,311] Trial 57 finished with value: 0.21333333333333332 and parameters: {'num_bees': 80, 'limit': 5, 'max_iter': 10000}. Best is trial 55 with value: 0.21333333333333332.\n",
            "[I 2025-04-03 08:25:41,313] Trial 58 finished with value: 0.8116666666666668 and parameters: {'num_bees': 80, 'limit': 500, 'max_iter': 100}. Best is trial 55 with value: 0.21333333333333332.\n",
            "[I 2025-04-03 08:25:41,316] Trial 59 finished with value: 0.21333333333333332 and parameters: {'num_bees': 80, 'limit': 5, 'max_iter': 10000}. Best is trial 55 with value: 0.21333333333333332.\n",
            "[I 2025-04-03 08:25:41,318] Trial 60 finished with value: 0.7733333333333333 and parameters: {'num_bees': 80, 'limit': 5, 'max_iter': 10}. Best is trial 55 with value: 0.21333333333333332.\n",
            "[I 2025-04-03 08:25:41,320] Trial 61 finished with value: 0.21333333333333332 and parameters: {'num_bees': 80, 'limit': 5, 'max_iter': 10000}. Best is trial 55 with value: 0.21333333333333332.\n",
            "[I 2025-04-03 08:25:41,323] Trial 62 finished with value: 0.21333333333333332 and parameters: {'num_bees': 80, 'limit': 5, 'max_iter': 10000}. Best is trial 55 with value: 0.21333333333333332.\n",
            "[I 2025-04-03 08:25:41,326] Trial 63 finished with value: 0.21333333333333332 and parameters: {'num_bees': 80, 'limit': 5, 'max_iter': 10000}. Best is trial 55 with value: 0.21333333333333332.\n",
            "[I 2025-04-03 08:25:41,328] Trial 64 finished with value: 0.21333333333333332 and parameters: {'num_bees': 80, 'limit': 5, 'max_iter': 10000}. Best is trial 55 with value: 0.21333333333333332.\n",
            "[I 2025-04-03 08:25:41,331] Trial 65 finished with value: 0.21333333333333332 and parameters: {'num_bees': 80, 'limit': 5, 'max_iter': 10000}. Best is trial 55 with value: 0.21333333333333332.\n",
            "[I 2025-04-03 08:25:41,334] Trial 66 finished with value: 0.5566666666666666 and parameters: {'num_bees': 80, 'limit': 250, 'max_iter': 10000}. Best is trial 55 with value: 0.21333333333333332.\n",
            "[I 2025-04-03 08:25:41,336] Trial 67 finished with value: 0.21333333333333332 and parameters: {'num_bees': 80, 'limit': 5, 'max_iter': 10000}. Best is trial 55 with value: 0.21333333333333332.\n",
            "[I 2025-04-03 08:25:41,339] Trial 68 finished with value: 0.21333333333333332 and parameters: {'num_bees': 80, 'limit': 5, 'max_iter': 10000}. Best is trial 55 with value: 0.21333333333333332.\n",
            "[I 2025-04-03 08:25:41,342] Trial 69 finished with value: 0.6816666666666666 and parameters: {'num_bees': 80, 'limit': 100, 'max_iter': 1000}. Best is trial 55 with value: 0.21333333333333332.\n",
            "[I 2025-04-03 08:25:41,345] Trial 70 finished with value: 0.21333333333333332 and parameters: {'num_bees': 80, 'limit': 5, 'max_iter': 10000}. Best is trial 55 with value: 0.21333333333333332.\n",
            "[I 2025-04-03 08:25:41,347] Trial 71 finished with value: 0.21333333333333332 and parameters: {'num_bees': 80, 'limit': 5, 'max_iter': 10000}. Best is trial 55 with value: 0.21333333333333332.\n",
            "[I 2025-04-03 08:25:41,350] Trial 72 finished with value: 0.21333333333333332 and parameters: {'num_bees': 80, 'limit': 5, 'max_iter': 10000}. Best is trial 55 with value: 0.21333333333333332.\n",
            "[I 2025-04-03 08:25:41,353] Trial 73 finished with value: 0.21333333333333332 and parameters: {'num_bees': 80, 'limit': 5, 'max_iter': 10000}. Best is trial 55 with value: 0.21333333333333332.\n",
            "[I 2025-04-03 08:25:41,355] Trial 74 finished with value: 0.21333333333333332 and parameters: {'num_bees': 80, 'limit': 5, 'max_iter': 10000}. Best is trial 55 with value: 0.21333333333333332.\n",
            "[I 2025-04-03 08:25:41,358] Trial 75 finished with value: 0.21333333333333332 and parameters: {'num_bees': 80, 'limit': 5, 'max_iter': 10000}. Best is trial 55 with value: 0.21333333333333332.\n",
            "[I 2025-04-03 08:25:41,361] Trial 76 finished with value: 0.34 and parameters: {'num_bees': 80, 'limit': 50, 'max_iter': 10000}. Best is trial 55 with value: 0.21333333333333332.\n",
            "[I 2025-04-03 08:25:41,363] Trial 77 finished with value: 0.21333333333333332 and parameters: {'num_bees': 80, 'limit': 5, 'max_iter': 10000}. Best is trial 55 with value: 0.21333333333333332.\n",
            "[I 2025-04-03 08:25:41,365] Trial 78 finished with value: 0.8116666666666668 and parameters: {'num_bees': 80, 'limit': 250, 'max_iter': 100}. Best is trial 55 with value: 0.21333333333333332.\n",
            "[I 2025-04-03 08:25:41,368] Trial 79 finished with value: 0.21333333333333332 and parameters: {'num_bees': 80, 'limit': 5, 'max_iter': 10000}. Best is trial 55 with value: 0.21333333333333332.\n",
            "[I 2025-04-03 08:25:41,371] Trial 80 finished with value: 0.2883333333333333 and parameters: {'num_bees': 80, 'limit': 10, 'max_iter': 10000}. Best is trial 55 with value: 0.21333333333333332.\n",
            "[I 2025-04-03 08:25:41,374] Trial 81 finished with value: 0.21333333333333332 and parameters: {'num_bees': 80, 'limit': 5, 'max_iter': 10000}. Best is trial 55 with value: 0.21333333333333332.\n",
            "[I 2025-04-03 08:25:41,377] Trial 82 finished with value: 0.21333333333333332 and parameters: {'num_bees': 80, 'limit': 5, 'max_iter': 10000}. Best is trial 55 with value: 0.21333333333333332.\n",
            "[I 2025-04-03 08:25:41,379] Trial 83 finished with value: 0.21333333333333332 and parameters: {'num_bees': 80, 'limit': 5, 'max_iter': 10000}. Best is trial 55 with value: 0.21333333333333332.\n",
            "[I 2025-04-03 08:25:41,381] Trial 84 finished with value: 0.21333333333333332 and parameters: {'num_bees': 80, 'limit': 5, 'max_iter': 10000}. Best is trial 55 with value: 0.21333333333333332.\n",
            "[I 2025-04-03 08:25:41,384] Trial 85 finished with value: 0.21333333333333332 and parameters: {'num_bees': 80, 'limit': 5, 'max_iter': 10000}. Best is trial 55 with value: 0.21333333333333332.\n",
            "[I 2025-04-03 08:25:41,387] Trial 86 finished with value: 0.7733333333333333 and parameters: {'num_bees': 80, 'limit': 5, 'max_iter': 10}. Best is trial 55 with value: 0.21333333333333332.\n",
            "[I 2025-04-03 08:25:41,389] Trial 87 finished with value: 0.675 and parameters: {'num_bees': 100, 'limit': 500, 'max_iter': 10000}. Best is trial 55 with value: 0.21333333333333332.\n",
            "[I 2025-04-03 08:25:41,392] Trial 88 finished with value: 0.21333333333333332 and parameters: {'num_bees': 80, 'limit': 5, 'max_iter': 10000}. Best is trial 55 with value: 0.21333333333333332.\n",
            "[I 2025-04-03 08:25:41,395] Trial 89 finished with value: 0.7350000000000001 and parameters: {'num_bees': 90, 'limit': 100, 'max_iter': 1000}. Best is trial 55 with value: 0.21333333333333332.\n",
            "[I 2025-04-03 08:25:41,398] Trial 90 finished with value: 0.21333333333333332 and parameters: {'num_bees': 80, 'limit': 5, 'max_iter': 10000}. Best is trial 55 with value: 0.21333333333333332.\n",
            "[I 2025-04-03 08:25:41,401] Trial 91 finished with value: 0.21333333333333332 and parameters: {'num_bees': 80, 'limit': 5, 'max_iter': 10000}. Best is trial 55 with value: 0.21333333333333332.\n",
            "[I 2025-04-03 08:25:41,404] Trial 92 finished with value: 0.21333333333333332 and parameters: {'num_bees': 80, 'limit': 5, 'max_iter': 10000}. Best is trial 55 with value: 0.21333333333333332.\n",
            "[I 2025-04-03 08:25:41,407] Trial 93 finished with value: 0.21333333333333332 and parameters: {'num_bees': 80, 'limit': 5, 'max_iter': 10000}. Best is trial 55 with value: 0.21333333333333332.\n",
            "[I 2025-04-03 08:25:41,410] Trial 94 finished with value: 0.31 and parameters: {'num_bees': 50, 'limit': 5, 'max_iter': 10000}. Best is trial 55 with value: 0.21333333333333332.\n",
            "[I 2025-04-03 08:25:41,412] Trial 95 finished with value: 0.21333333333333332 and parameters: {'num_bees': 80, 'limit': 5, 'max_iter': 10000}. Best is trial 55 with value: 0.21333333333333332.\n",
            "[I 2025-04-03 08:25:41,415] Trial 96 finished with value: 0.34 and parameters: {'num_bees': 80, 'limit': 50, 'max_iter': 10000}. Best is trial 55 with value: 0.21333333333333332.\n",
            "[I 2025-04-03 08:25:41,417] Trial 97 finished with value: 0.26499999999999996 and parameters: {'num_bees': 60, 'limit': 5, 'max_iter': 10000}. Best is trial 55 with value: 0.21333333333333332.\n",
            "[I 2025-04-03 08:25:41,420] Trial 98 finished with value: 0.7266666666666668 and parameters: {'num_bees': 80, 'limit': 5, 'max_iter': 100}. Best is trial 55 with value: 0.21333333333333332.\n",
            "[I 2025-04-03 08:25:41,423] Trial 99 finished with value: 0.21333333333333332 and parameters: {'num_bees': 80, 'limit': 5, 'max_iter': 10000}. Best is trial 55 with value: 0.21333333333333332.\n",
            "[I 2025-04-03 08:25:41,425] Trial 100 finished with value: 0.5966666666666668 and parameters: {'num_bees': 100, 'limit': 250, 'max_iter': 10000}. Best is trial 55 with value: 0.21333333333333332.\n",
            "[I 2025-04-03 08:25:41,428] Trial 101 finished with value: 0.21333333333333332 and parameters: {'num_bees': 80, 'limit': 5, 'max_iter': 10000}. Best is trial 55 with value: 0.21333333333333332.\n",
            "[I 2025-04-03 08:25:41,431] Trial 102 finished with value: 0.21333333333333332 and parameters: {'num_bees': 80, 'limit': 5, 'max_iter': 10000}. Best is trial 55 with value: 0.21333333333333332.\n",
            "[I 2025-04-03 08:25:41,434] Trial 103 finished with value: 0.21333333333333332 and parameters: {'num_bees': 80, 'limit': 5, 'max_iter': 10000}. Best is trial 55 with value: 0.21333333333333332.\n",
            "[I 2025-04-03 08:25:41,436] Trial 104 finished with value: 0.21333333333333332 and parameters: {'num_bees': 80, 'limit': 5, 'max_iter': 10000}. Best is trial 55 with value: 0.21333333333333332.\n",
            "[I 2025-04-03 08:25:41,439] Trial 105 finished with value: 0.2883333333333333 and parameters: {'num_bees': 80, 'limit': 10, 'max_iter': 10000}. Best is trial 55 with value: 0.21333333333333332.\n",
            "[I 2025-04-03 08:25:41,442] Trial 106 finished with value: 0.7733333333333333 and parameters: {'num_bees': 80, 'limit': 5, 'max_iter': 10}. Best is trial 55 with value: 0.21333333333333332.\n",
            "[I 2025-04-03 08:25:41,445] Trial 107 finished with value: 0.23166666666666663 and parameters: {'num_bees': 90, 'limit': 5, 'max_iter': 10000}. Best is trial 55 with value: 0.21333333333333332.\n",
            "[I 2025-04-03 08:25:41,448] Trial 108 finished with value: 0.7116666666666667 and parameters: {'num_bees': 80, 'limit': 500, 'max_iter': 10000}. Best is trial 55 with value: 0.21333333333333332.\n",
            "[I 2025-04-03 08:25:41,450] Trial 109 finished with value: 0.42000000000000004 and parameters: {'num_bees': 80, 'limit': 5, 'max_iter': 1000}. Best is trial 55 with value: 0.21333333333333332.\n",
            "[I 2025-04-03 08:25:41,453] Trial 110 finished with value: 0.31 and parameters: {'num_bees': 50, 'limit': 5, 'max_iter': 10000}. Best is trial 55 with value: 0.21333333333333332.\n",
            "[I 2025-04-03 08:25:41,456] Trial 111 finished with value: 0.21333333333333332 and parameters: {'num_bees': 80, 'limit': 5, 'max_iter': 10000}. Best is trial 55 with value: 0.21333333333333332.\n",
            "[I 2025-04-03 08:25:41,459] Trial 112 finished with value: 0.21333333333333332 and parameters: {'num_bees': 80, 'limit': 5, 'max_iter': 10000}. Best is trial 55 with value: 0.21333333333333332.\n",
            "[I 2025-04-03 08:25:41,462] Trial 113 finished with value: 0.21333333333333332 and parameters: {'num_bees': 80, 'limit': 5, 'max_iter': 10000}. Best is trial 55 with value: 0.21333333333333332.\n",
            "[I 2025-04-03 08:25:41,464] Trial 114 finished with value: 0.21333333333333332 and parameters: {'num_bees': 80, 'limit': 5, 'max_iter': 10000}. Best is trial 55 with value: 0.21333333333333332.\n",
            "[I 2025-04-03 08:25:41,467] Trial 115 finished with value: 0.21333333333333332 and parameters: {'num_bees': 80, 'limit': 5, 'max_iter': 10000}. Best is trial 55 with value: 0.21333333333333332.\n",
            "[I 2025-04-03 08:25:41,470] Trial 116 finished with value: 0.545 and parameters: {'num_bees': 60, 'limit': 100, 'max_iter': 10000}. Best is trial 55 with value: 0.21333333333333332.\n",
            "[I 2025-04-03 08:25:41,472] Trial 117 finished with value: 0.21333333333333332 and parameters: {'num_bees': 80, 'limit': 5, 'max_iter': 10000}. Best is trial 55 with value: 0.21333333333333332.\n",
            "[I 2025-04-03 08:25:41,475] Trial 118 finished with value: 0.7266666666666668 and parameters: {'num_bees': 80, 'limit': 5, 'max_iter': 100}. Best is trial 55 with value: 0.21333333333333332.\n",
            "[I 2025-04-03 08:25:41,478] Trial 119 finished with value: 0.34 and parameters: {'num_bees': 80, 'limit': 50, 'max_iter': 10000}. Best is trial 55 with value: 0.21333333333333332.\n",
            "[I 2025-04-03 08:25:41,481] Trial 120 finished with value: 0.21333333333333332 and parameters: {'num_bees': 80, 'limit': 5, 'max_iter': 10000}. Best is trial 55 with value: 0.21333333333333332.\n",
            "[I 2025-04-03 08:25:41,484] Trial 121 finished with value: 0.21333333333333332 and parameters: {'num_bees': 80, 'limit': 5, 'max_iter': 10000}. Best is trial 55 with value: 0.21333333333333332.\n",
            "[I 2025-04-03 08:25:41,486] Trial 122 finished with value: 0.21333333333333332 and parameters: {'num_bees': 80, 'limit': 5, 'max_iter': 10000}. Best is trial 55 with value: 0.21333333333333332.\n",
            "[I 2025-04-03 08:25:41,489] Trial 123 finished with value: 0.21333333333333332 and parameters: {'num_bees': 80, 'limit': 5, 'max_iter': 10000}. Best is trial 55 with value: 0.21333333333333332.\n",
            "[I 2025-04-03 08:25:41,492] Trial 124 finished with value: 0.21333333333333332 and parameters: {'num_bees': 80, 'limit': 5, 'max_iter': 10000}. Best is trial 55 with value: 0.21333333333333332.\n",
            "[I 2025-04-03 08:25:41,496] Trial 125 finished with value: 0.21333333333333332 and parameters: {'num_bees': 80, 'limit': 5, 'max_iter': 10000}. Best is trial 55 with value: 0.21333333333333332.\n",
            "[I 2025-04-03 08:25:41,499] Trial 126 finished with value: 0.21333333333333332 and parameters: {'num_bees': 80, 'limit': 5, 'max_iter': 10000}. Best is trial 55 with value: 0.21333333333333332.\n",
            "[I 2025-04-03 08:25:41,501] Trial 127 finished with value: 0.5966666666666668 and parameters: {'num_bees': 100, 'limit': 250, 'max_iter': 10000}. Best is trial 55 with value: 0.21333333333333332.\n",
            "[I 2025-04-03 08:25:41,504] Trial 128 finished with value: 0.7733333333333333 and parameters: {'num_bees': 80, 'limit': 5, 'max_iter': 10}. Best is trial 55 with value: 0.21333333333333332.\n",
            "[I 2025-04-03 08:25:41,507] Trial 129 finished with value: 0.25166666666666665 and parameters: {'num_bees': 90, 'limit': 10, 'max_iter': 10000}. Best is trial 55 with value: 0.21333333333333332.\n",
            "[I 2025-04-03 08:25:41,510] Trial 130 finished with value: 0.21333333333333332 and parameters: {'num_bees': 80, 'limit': 5, 'max_iter': 10000}. Best is trial 55 with value: 0.21333333333333332.\n",
            "[I 2025-04-03 08:25:41,514] Trial 131 finished with value: 0.21333333333333332 and parameters: {'num_bees': 80, 'limit': 5, 'max_iter': 10000}. Best is trial 55 with value: 0.21333333333333332.\n",
            "[I 2025-04-03 08:25:41,517] Trial 132 finished with value: 0.21333333333333332 and parameters: {'num_bees': 80, 'limit': 5, 'max_iter': 10000}. Best is trial 55 with value: 0.21333333333333332.\n",
            "[I 2025-04-03 08:25:41,520] Trial 133 finished with value: 0.21333333333333332 and parameters: {'num_bees': 80, 'limit': 5, 'max_iter': 10000}. Best is trial 55 with value: 0.21333333333333332.\n",
            "[I 2025-04-03 08:25:41,523] Trial 134 finished with value: 0.21333333333333332 and parameters: {'num_bees': 80, 'limit': 5, 'max_iter': 10000}. Best is trial 55 with value: 0.21333333333333332.\n",
            "[I 2025-04-03 08:25:41,526] Trial 135 finished with value: 0.42000000000000004 and parameters: {'num_bees': 80, 'limit': 5, 'max_iter': 1000}. Best is trial 55 with value: 0.21333333333333332.\n",
            "[I 2025-04-03 08:25:41,529] Trial 136 finished with value: 0.21333333333333332 and parameters: {'num_bees': 80, 'limit': 5, 'max_iter': 10000}. Best is trial 55 with value: 0.21333333333333332.\n",
            "[I 2025-04-03 08:25:41,533] Trial 137 finished with value: 0.7783333333333333 and parameters: {'num_bees': 50, 'limit': 500, 'max_iter': 10000}. Best is trial 55 with value: 0.21333333333333332.\n",
            "[I 2025-04-03 08:25:41,535] Trial 138 finished with value: 0.21333333333333332 and parameters: {'num_bees': 80, 'limit': 5, 'max_iter': 10000}. Best is trial 55 with value: 0.21333333333333332.\n",
            "[I 2025-04-03 08:25:41,538] Trial 139 finished with value: 0.26499999999999996 and parameters: {'num_bees': 60, 'limit': 5, 'max_iter': 10000}. Best is trial 55 with value: 0.21333333333333332.\n",
            "[I 2025-04-03 08:25:41,541] Trial 140 finished with value: 0.42000000000000004 and parameters: {'num_bees': 80, 'limit': 100, 'max_iter': 10000}. Best is trial 55 with value: 0.21333333333333332.\n",
            "[I 2025-04-03 08:25:41,544] Trial 141 finished with value: 0.21333333333333332 and parameters: {'num_bees': 80, 'limit': 5, 'max_iter': 10000}. Best is trial 55 with value: 0.21333333333333332.\n",
            "[I 2025-04-03 08:25:41,547] Trial 142 finished with value: 0.21333333333333332 and parameters: {'num_bees': 80, 'limit': 5, 'max_iter': 10000}. Best is trial 55 with value: 0.21333333333333332.\n",
            "[I 2025-04-03 08:25:41,551] Trial 143 finished with value: 0.21333333333333332 and parameters: {'num_bees': 80, 'limit': 5, 'max_iter': 10000}. Best is trial 55 with value: 0.21333333333333332.\n"
          ]
        },
        {
          "name": "stdout",
          "output_type": "stream",
          "text": [
            "Melhores parâmetros encontrados:\n",
            "{'num_bees': 80, 'limit': 5, 'max_iter': 10000}\n"
          ]
        }
      ],
      "source": [
        "n_trials = df_v4[[\"num_bees\", \"limit\", \"max_iter\"]].drop_duplicates().shape[0]\n",
        "\n",
        "# Criar e rodar a otimização\n",
        "study = optuna.create_study(direction=\"minimize\")\n",
        "study.optimize(objective_v4, n_trials=n_trials)  # Ajuste o número de trials conforme necessário\n",
        "\n",
        "# Exibir os melhores parâmetros encontrados\n",
        "print(\"Melhores parâmetros encontrados:\")\n",
        "print(study.best_params)"
      ]
    },
    {
      "cell_type": "code",
      "execution_count": null,
      "metadata": {},
      "outputs": [],
      "source": []
    },
    {
      "cell_type": "markdown",
      "metadata": {},
      "source": [
        "## TABU SEARCH"
      ]
    },
    {
      "cell_type": "code",
      "execution_count": 6,
      "metadata": {},
      "outputs": [],
      "source": [
        "files = ['4-FullIns_4', 'ash331GPIA', 'DSJC250.1', 'le450_15a', 'qg.order30', 'queen13_13']\n",
        "columns_tabu = ['conflitos', 'tempo_us', 'iter_found_best', \n",
        "           'max_iter', 'T_iter', 'num_color', 'filename', \n",
        "           'num_vertices', 'num_edges', 'init_method' ]"
      ]
    },
    {
      "cell_type": "code",
      "execution_count": 11,
      "metadata": {},
      "outputs": [
        {
          "data": {
            "text/html": [
              "<div>\n",
              "<style scoped>\n",
              "    .dataframe tbody tr th:only-of-type {\n",
              "        vertical-align: middle;\n",
              "    }\n",
              "\n",
              "    .dataframe tbody tr th {\n",
              "        vertical-align: top;\n",
              "    }\n",
              "\n",
              "    .dataframe thead th {\n",
              "        text-align: right;\n",
              "    }\n",
              "</style>\n",
              "<table border=\"1\" class=\"dataframe\">\n",
              "  <thead>\n",
              "    <tr style=\"text-align: right;\">\n",
              "      <th></th>\n",
              "      <th>conflitos</th>\n",
              "      <th>tempo_us</th>\n",
              "      <th>iter_found_best</th>\n",
              "      <th>max_iter</th>\n",
              "      <th>T_iter</th>\n",
              "      <th>num_color</th>\n",
              "      <th>filename</th>\n",
              "      <th>num_vertices</th>\n",
              "      <th>num_edges</th>\n",
              "      <th>init_method</th>\n",
              "      <th>conflitos_norm</th>\n",
              "      <th>tempo_norm</th>\n",
              "    </tr>\n",
              "  </thead>\n",
              "  <tbody>\n",
              "    <tr>\n",
              "      <th>5755</th>\n",
              "      <td>60</td>\n",
              "      <td>11048850</td>\n",
              "      <td>163</td>\n",
              "      <td>10000</td>\n",
              "      <td>100</td>\n",
              "      <td>13</td>\n",
              "      <td>instances/queen13_13.col</td>\n",
              "      <td>169</td>\n",
              "      <td>6656</td>\n",
              "      <td>random</td>\n",
              "      <td>0.21875</td>\n",
              "      <td>0.755890</td>\n",
              "    </tr>\n",
              "    <tr>\n",
              "      <th>5756</th>\n",
              "      <td>62</td>\n",
              "      <td>11650160</td>\n",
              "      <td>262</td>\n",
              "      <td>10000</td>\n",
              "      <td>100</td>\n",
              "      <td>13</td>\n",
              "      <td>instances/queen13_13.col</td>\n",
              "      <td>169</td>\n",
              "      <td>6656</td>\n",
              "      <td>random</td>\n",
              "      <td>0.25000</td>\n",
              "      <td>0.797101</td>\n",
              "    </tr>\n",
              "    <tr>\n",
              "      <th>5757</th>\n",
              "      <td>64</td>\n",
              "      <td>14143315</td>\n",
              "      <td>188</td>\n",
              "      <td>10000</td>\n",
              "      <td>100</td>\n",
              "      <td>13</td>\n",
              "      <td>instances/queen13_13.col</td>\n",
              "      <td>169</td>\n",
              "      <td>6656</td>\n",
              "      <td>random</td>\n",
              "      <td>0.28125</td>\n",
              "      <td>0.967969</td>\n",
              "    </tr>\n",
              "    <tr>\n",
              "      <th>5758</th>\n",
              "      <td>56</td>\n",
              "      <td>11127899</td>\n",
              "      <td>177</td>\n",
              "      <td>10000</td>\n",
              "      <td>100</td>\n",
              "      <td>13</td>\n",
              "      <td>instances/queen13_13.col</td>\n",
              "      <td>169</td>\n",
              "      <td>6656</td>\n",
              "      <td>random</td>\n",
              "      <td>0.15625</td>\n",
              "      <td>0.761307</td>\n",
              "    </tr>\n",
              "    <tr>\n",
              "      <th>5759</th>\n",
              "      <td>60</td>\n",
              "      <td>12387752</td>\n",
              "      <td>149</td>\n",
              "      <td>10000</td>\n",
              "      <td>100</td>\n",
              "      <td>13</td>\n",
              "      <td>instances/queen13_13.col</td>\n",
              "      <td>169</td>\n",
              "      <td>6656</td>\n",
              "      <td>random</td>\n",
              "      <td>0.21875</td>\n",
              "      <td>0.847651</td>\n",
              "    </tr>\n",
              "  </tbody>\n",
              "</table>\n",
              "</div>"
            ],
            "text/plain": [
              "      conflitos  tempo_us  iter_found_best  max_iter  T_iter  num_color  \\\n",
              "5755         60  11048850              163     10000     100         13   \n",
              "5756         62  11650160              262     10000     100         13   \n",
              "5757         64  14143315              188     10000     100         13   \n",
              "5758         56  11127899              177     10000     100         13   \n",
              "5759         60  12387752              149     10000     100         13   \n",
              "\n",
              "                      filename  num_vertices  num_edges init_method  \\\n",
              "5755  instances/queen13_13.col           169       6656      random   \n",
              "5756  instances/queen13_13.col           169       6656      random   \n",
              "5757  instances/queen13_13.col           169       6656      random   \n",
              "5758  instances/queen13_13.col           169       6656      random   \n",
              "5759  instances/queen13_13.col           169       6656      random   \n",
              "\n",
              "      conflitos_norm  tempo_norm  \n",
              "5755         0.21875    0.755890  \n",
              "5756         0.25000    0.797101  \n",
              "5757         0.28125    0.967969  \n",
              "5758         0.15625    0.761307  \n",
              "5759         0.21875    0.847651  "
            ]
          },
          "execution_count": 11,
          "metadata": {},
          "output_type": "execute_result"
        }
      ],
      "source": [
        "dfs = []\n",
        "\n",
        "for file in files:\n",
        "    df = pd.read_csv(f'results_tabu_v2/analysis/{file}.txt', sep=';', names=columns_tabu, header=None)\n",
        "    df['conflitos_norm'] = (df[\"conflitos\"] - df[\"conflitos\"].min()) / (df[\"conflitos\"].max() - df[\"conflitos\"].min() if df[\"conflitos\"].max()!= df[\"conflitos\"].min() else 0)\n",
        "    df['tempo_norm'] = (df[\"tempo_us\"] - df[\"tempo_us\"].min()) / (df[\"tempo_us\"].max() - df[\"tempo_us\"].min() if df[\"tempo_us\"].max()!= df[\"tempo_us\"].min() else 0)\n",
        "    dfs.append(df)\n",
        "\n",
        "df_tabu = pd.concat(dfs, ignore_index=True)\n",
        "df_tabu.tail()"
      ]
    },
    {
      "cell_type": "code",
      "execution_count": 14,
      "metadata": {},
      "outputs": [],
      "source": [
        "df_tabu['conflitos_norm'] = (df_tabu[\"conflitos\"] - df_tabu[\"conflitos\"].min()) / (df_tabu[\"conflitos\"].max() - df_tabu[\"conflitos\"].min() if df_tabu[\"conflitos\"].max()!= df_tabu[\"conflitos\"].min() else 0)\n",
        "df_tabu['tempo_norm'] = (df_tabu[\"tempo_us\"] - df_tabu[\"tempo_us\"].min()) / (df_tabu[\"tempo_us\"].max() - df_tabu[\"tempo_us\"].min() if df_tabu[\"tempo_us\"].max()!= df_tabu[\"tempo_us\"].min() else 0)\n",
        "def objective_v4(trial):\n",
        "    \"\"\"Função objetivo para o Optuna, buscando a melhor configuração de parâmetros já testada.\"\"\"\n",
        "\n",
        "    # Optuna irá escolher um conjunto de parâmetros dentro dos valores existentes\n",
        "    T_iter = trial.suggest_categorical(\"T_iter\", df_tabu[\"T_iter\"].unique().tolist())\n",
        "    max_iter = trial.suggest_categorical(\"max_iter\", df_tabu[\"max_iter\"].unique().tolist())\n",
        "    init_method = trial.suggest_categorical(\"init_method\", df_tabu[\"init_method\"].unique().tolist())\n",
        "\n",
        "    # Filtrar apenas as execuções com esses parâmetros\n",
        "    subset = df_tabu[(df_tabu[\"T_iter\"] == T_iter) &\n",
        "                (df_tabu[\"max_iter\"] == max_iter) &\n",
        "                (df_tabu[\"init_method\"] == init_method)]\n",
        "\n",
        "    alpha = 1  # Peso para conflitos\n",
        "    beta = 0   # Peso para tempo\n",
        "    score = alpha * subset[\"conflitos_norm\"].mean() + beta * subset[\"tempo_norm\"].mean()\n",
        "    \n",
        "\n",
        "    return score  # O Optuna busca minimizar esse valor\n"
      ]
    },
    {
      "cell_type": "code",
      "execution_count": 22,
      "metadata": {},
      "outputs": [
        {
          "name": "stderr",
          "output_type": "stream",
          "text": [
            "[I 2025-04-07 15:23:07,200] A new study created in memory with name: no-name-21bd01fc-3c4a-49be-9390-c768fab0ff96\n",
            "[I 2025-04-07 15:23:07,211] Trial 0 finished with value: 0.24393939393939393 and parameters: {'T_iter': 75, 'max_iter': 10000, 'init_method': 'pseudogreedy_v3'}. Best is trial 0 with value: 0.24393939393939393.\n",
            "[I 2025-04-07 15:23:07,215] Trial 1 finished with value: 0.24643939393939393 and parameters: {'T_iter': 25, 'max_iter': 10000, 'init_method': 'random'}. Best is trial 0 with value: 0.24393939393939393.\n",
            "[I 2025-04-07 15:23:07,219] Trial 2 finished with value: 0.3259848484848485 and parameters: {'T_iter': 10, 'max_iter': 100, 'init_method': 'random'}. Best is trial 0 with value: 0.24393939393939393.\n",
            "[I 2025-04-07 15:23:07,223] Trial 3 finished with value: 0.3712878787878787 and parameters: {'T_iter': 5, 'max_iter': 1000, 'init_method': 'pseudogreedy_v3'}. Best is trial 0 with value: 0.24393939393939393.\n",
            "[I 2025-04-07 15:23:07,228] Trial 4 finished with value: 0.3156060606060606 and parameters: {'T_iter': 10, 'max_iter': 10000, 'init_method': 'random'}. Best is trial 0 with value: 0.24393939393939393.\n",
            "[I 2025-04-07 15:23:07,232] Trial 5 finished with value: 0.2548484848484848 and parameters: {'T_iter': 25, 'max_iter': 1000, 'init_method': 'random'}. Best is trial 0 with value: 0.24393939393939393.\n",
            "[I 2025-04-07 15:23:07,237] Trial 6 finished with value: 0.27530303030303027 and parameters: {'T_iter': 50, 'max_iter': 100, 'init_method': 'random'}. Best is trial 0 with value: 0.24393939393939393.\n",
            "[I 2025-04-07 15:23:07,242] Trial 7 finished with value: 0.24393939393939393 and parameters: {'T_iter': 75, 'max_iter': 10000, 'init_method': 'pseudogreedy_v3'}. Best is trial 0 with value: 0.24393939393939393.\n",
            "[I 2025-04-07 15:23:07,250] Trial 8 finished with value: 0.2571212121212121 and parameters: {'T_iter': 50, 'max_iter': 1000, 'init_method': 'random'}. Best is trial 0 with value: 0.24393939393939393.\n",
            "[I 2025-04-07 15:23:07,256] Trial 9 finished with value: 0.25386363636363635 and parameters: {'T_iter': 50, 'max_iter': 10000, 'init_method': 'pseudogreedy_v3'}. Best is trial 0 with value: 0.24393939393939393.\n",
            "[I 2025-04-07 15:23:07,267] Trial 10 finished with value: 0.40045454545454545 and parameters: {'T_iter': 75, 'max_iter': 10, 'init_method': 'pseudogreedy_v3'}. Best is trial 0 with value: 0.24393939393939393.\n",
            "[I 2025-04-07 15:23:07,277] Trial 11 finished with value: 0.24393939393939393 and parameters: {'T_iter': 75, 'max_iter': 10000, 'init_method': 'pseudogreedy_v3'}. Best is trial 0 with value: 0.24393939393939393.\n",
            "[I 2025-04-07 15:23:07,286] Trial 12 finished with value: 0.24393939393939393 and parameters: {'T_iter': 75, 'max_iter': 10000, 'init_method': 'pseudogreedy_v3'}. Best is trial 0 with value: 0.24393939393939393.\n",
            "[I 2025-04-07 15:23:07,297] Trial 13 finished with value: 0.40515151515151515 and parameters: {'T_iter': 100, 'max_iter': 10, 'init_method': 'pseudogreedy_v3'}. Best is trial 0 with value: 0.24393939393939393.\n",
            "[I 2025-04-07 15:23:07,303] Trial 14 finished with value: 0.24393939393939393 and parameters: {'T_iter': 75, 'max_iter': 10000, 'init_method': 'pseudogreedy_v3'}. Best is trial 0 with value: 0.24393939393939393.\n",
            "[I 2025-04-07 15:23:07,309] Trial 15 finished with value: 0.24393939393939393 and parameters: {'T_iter': 75, 'max_iter': 10000, 'init_method': 'pseudogreedy_v3'}. Best is trial 0 with value: 0.24393939393939393.\n",
            "[I 2025-04-07 15:23:07,315] Trial 16 finished with value: 0.25803030303030305 and parameters: {'T_iter': 100, 'max_iter': 10000, 'init_method': 'pseudogreedy_v3'}. Best is trial 0 with value: 0.24393939393939393.\n",
            "[I 2025-04-07 15:23:07,324] Trial 17 finished with value: 0.3741666666666667 and parameters: {'T_iter': 5, 'max_iter': 100, 'init_method': 'pseudogreedy_v3'}. Best is trial 0 with value: 0.24393939393939393.\n",
            "[I 2025-04-07 15:23:07,330] Trial 18 finished with value: 0.40045454545454545 and parameters: {'T_iter': 75, 'max_iter': 10, 'init_method': 'pseudogreedy_v3'}. Best is trial 0 with value: 0.24393939393939393.\n",
            "[I 2025-04-07 15:23:07,335] Trial 19 finished with value: 0.24393939393939393 and parameters: {'T_iter': 75, 'max_iter': 10000, 'init_method': 'pseudogreedy_v3'}. Best is trial 0 with value: 0.24393939393939393.\n",
            "[I 2025-04-07 15:23:07,341] Trial 20 finished with value: 0.24393939393939393 and parameters: {'T_iter': 75, 'max_iter': 10000, 'init_method': 'pseudogreedy_v3'}. Best is trial 0 with value: 0.24393939393939393.\n",
            "[I 2025-04-07 15:23:07,346] Trial 21 finished with value: 0.24393939393939393 and parameters: {'T_iter': 75, 'max_iter': 10000, 'init_method': 'pseudogreedy_v3'}. Best is trial 0 with value: 0.24393939393939393.\n",
            "[I 2025-04-07 15:23:07,352] Trial 22 finished with value: 0.24393939393939393 and parameters: {'T_iter': 75, 'max_iter': 10000, 'init_method': 'pseudogreedy_v3'}. Best is trial 0 with value: 0.24393939393939393.\n",
            "[I 2025-04-07 15:23:07,358] Trial 23 finished with value: 0.24393939393939393 and parameters: {'T_iter': 75, 'max_iter': 10000, 'init_method': 'pseudogreedy_v3'}. Best is trial 0 with value: 0.24393939393939393.\n",
            "[I 2025-04-07 15:23:07,364] Trial 24 finished with value: 0.24393939393939393 and parameters: {'T_iter': 75, 'max_iter': 10000, 'init_method': 'pseudogreedy_v3'}. Best is trial 0 with value: 0.24393939393939393.\n",
            "[I 2025-04-07 15:23:07,370] Trial 25 finished with value: 0.24704545454545454 and parameters: {'T_iter': 25, 'max_iter': 10000, 'init_method': 'pseudogreedy_v3'}. Best is trial 0 with value: 0.24393939393939393.\n",
            "[I 2025-04-07 15:23:07,376] Trial 26 finished with value: 0.40515151515151515 and parameters: {'T_iter': 100, 'max_iter': 10, 'init_method': 'pseudogreedy_v3'}. Best is trial 0 with value: 0.24393939393939393.\n",
            "[I 2025-04-07 15:23:07,382] Trial 27 finished with value: 0.3741666666666667 and parameters: {'T_iter': 5, 'max_iter': 100, 'init_method': 'pseudogreedy_v3'}. Best is trial 0 with value: 0.24393939393939393.\n",
            "[I 2025-04-07 15:23:07,389] Trial 28 finished with value: 0.3104545454545454 and parameters: {'T_iter': 10, 'max_iter': 1000, 'init_method': 'pseudogreedy_v3'}. Best is trial 0 with value: 0.24393939393939393.\n",
            "[I 2025-04-07 15:23:07,395] Trial 29 finished with value: 0.24643939393939393 and parameters: {'T_iter': 25, 'max_iter': 10000, 'init_method': 'random'}. Best is trial 0 with value: 0.24393939393939393.\n",
            "[I 2025-04-07 15:23:07,401] Trial 30 finished with value: 0.24393939393939393 and parameters: {'T_iter': 75, 'max_iter': 10000, 'init_method': 'pseudogreedy_v3'}. Best is trial 0 with value: 0.24393939393939393.\n"
          ]
        },
        {
          "name": "stdout",
          "output_type": "stream",
          "text": [
            "48\n"
          ]
        },
        {
          "name": "stderr",
          "output_type": "stream",
          "text": [
            "[I 2025-04-07 15:23:07,407] Trial 31 finished with value: 0.24393939393939393 and parameters: {'T_iter': 75, 'max_iter': 10000, 'init_method': 'pseudogreedy_v3'}. Best is trial 0 with value: 0.24393939393939393.\n",
            "[I 2025-04-07 15:23:07,414] Trial 32 finished with value: 0.24393939393939393 and parameters: {'T_iter': 75, 'max_iter': 10000, 'init_method': 'pseudogreedy_v3'}. Best is trial 0 with value: 0.24393939393939393.\n",
            "[I 2025-04-07 15:23:07,421] Trial 33 finished with value: 0.24393939393939393 and parameters: {'T_iter': 75, 'max_iter': 10000, 'init_method': 'pseudogreedy_v3'}. Best is trial 0 with value: 0.24393939393939393.\n",
            "[I 2025-04-07 15:23:07,429] Trial 34 finished with value: 0.3156060606060606 and parameters: {'T_iter': 10, 'max_iter': 10000, 'init_method': 'random'}. Best is trial 0 with value: 0.24393939393939393.\n",
            "[I 2025-04-07 15:23:07,437] Trial 35 finished with value: 0.2727272727272727 and parameters: {'T_iter': 75, 'max_iter': 100, 'init_method': 'pseudogreedy_v3'}. Best is trial 0 with value: 0.24393939393939393.\n",
            "[I 2025-04-07 15:23:07,444] Trial 36 finished with value: 0.2562878787878788 and parameters: {'T_iter': 75, 'max_iter': 1000, 'init_method': 'random'}. Best is trial 0 with value: 0.24393939393939393.\n",
            "[I 2025-04-07 15:23:07,452] Trial 37 finished with value: 0.365 and parameters: {'T_iter': 5, 'max_iter': 10000, 'init_method': 'pseudogreedy_v3'}. Best is trial 0 with value: 0.24393939393939393.\n",
            "[I 2025-04-07 15:23:07,458] Trial 38 finished with value: 0.25196969696969695 and parameters: {'T_iter': 50, 'max_iter': 10000, 'init_method': 'random'}. Best is trial 0 with value: 0.24393939393939393.\n",
            "[I 2025-04-07 15:23:07,464] Trial 39 finished with value: 0.3104545454545454 and parameters: {'T_iter': 10, 'max_iter': 1000, 'init_method': 'pseudogreedy_v3'}. Best is trial 0 with value: 0.24393939393939393.\n",
            "[I 2025-04-07 15:23:07,471] Trial 40 finished with value: 0.2517424242424242 and parameters: {'T_iter': 25, 'max_iter': 100, 'init_method': 'pseudogreedy_v3'}. Best is trial 0 with value: 0.24393939393939393.\n",
            "[I 2025-04-07 15:23:07,477] Trial 41 finished with value: 0.24393939393939393 and parameters: {'T_iter': 75, 'max_iter': 10000, 'init_method': 'pseudogreedy_v3'}. Best is trial 0 with value: 0.24393939393939393.\n",
            "[I 2025-04-07 15:23:07,483] Trial 42 finished with value: 0.24393939393939393 and parameters: {'T_iter': 75, 'max_iter': 10000, 'init_method': 'pseudogreedy_v3'}. Best is trial 0 with value: 0.24393939393939393.\n",
            "[I 2025-04-07 15:23:07,490] Trial 43 finished with value: 0.24393939393939393 and parameters: {'T_iter': 75, 'max_iter': 10000, 'init_method': 'pseudogreedy_v3'}. Best is trial 0 with value: 0.24393939393939393.\n",
            "[I 2025-04-07 15:23:07,496] Trial 44 finished with value: 0.25386363636363635 and parameters: {'T_iter': 50, 'max_iter': 10000, 'init_method': 'pseudogreedy_v3'}. Best is trial 0 with value: 0.24393939393939393.\n",
            "[I 2025-04-07 15:23:07,503] Trial 45 finished with value: 0.40515151515151515 and parameters: {'T_iter': 100, 'max_iter': 10, 'init_method': 'pseudogreedy_v3'}. Best is trial 0 with value: 0.24393939393939393.\n",
            "[I 2025-04-07 15:23:07,510] Trial 46 finished with value: 0.2546969696969697 and parameters: {'T_iter': 75, 'max_iter': 10000, 'init_method': 'random'}. Best is trial 0 with value: 0.24393939393939393.\n",
            "[I 2025-04-07 15:23:07,517] Trial 47 finished with value: 0.24393939393939393 and parameters: {'T_iter': 75, 'max_iter': 10000, 'init_method': 'pseudogreedy_v3'}. Best is trial 0 with value: 0.24393939393939393.\n"
          ]
        },
        {
          "name": "stdout",
          "output_type": "stream",
          "text": [
            "Melhores parâmetros encontrados:\n",
            "{'T_iter': 75, 'max_iter': 10000, 'init_method': 'pseudogreedy_v3'}\n"
          ]
        }
      ],
      "source": [
        "n_trials = df_tabu[[\"T_iter\", \"max_iter\", \"init_method\"]].drop_duplicates().shape[0]\n",
        "\n",
        "print(n_trials)\n",
        "\n",
        "# Criar e rodar a otimização\n",
        "study = optuna.create_study(direction=\"minimize\")\n",
        "study.optimize(objective_v4, n_trials=n_trials)  # Ajuste o número de trials conforme necessário\n",
        "\n",
        "# Exibir os melhores parâmetros encontrados\n",
        "print(\"Melhores parâmetros encontrados:\")\n",
        "print(study.best_params)"
      ]
    },
    {
      "cell_type": "code",
      "execution_count": null,
      "metadata": {},
      "outputs": [],
      "source": []
    },
    {
      "cell_type": "code",
      "execution_count": null,
      "metadata": {},
      "outputs": [],
      "source": []
    },
    {
      "cell_type": "markdown",
      "metadata": {},
      "source": []
    },
    {
      "cell_type": "markdown",
      "metadata": {},
      "source": [
        "## SIMULATED ANNEALING"
      ]
    },
    {
      "cell_type": "code",
      "execution_count": 1,
      "metadata": {},
      "outputs": [],
      "source": [
        "files = ['4-FullIns_4', 'ash331GPIA', 'DSJC250.1', 'le450_15a', 'qg.order30', 'queen13_13']\n",
        "columns_sa = ['conflitos', 'tempo_us', 'T_max', 'T_min', \n",
        "                'max_iter', 'max_worsen', 'alpha', 'iter_found_best',\n",
        "                'curr_Temp', 'filename', 'num_vertices', 'num_edges', 'init_method' ]"
      ]
    },
    {
      "cell_type": "code",
      "execution_count": 33,
      "metadata": {},
      "outputs": [
        {
          "data": {
            "text/html": [
              "<div>\n",
              "<style scoped>\n",
              "    .dataframe tbody tr th:only-of-type {\n",
              "        vertical-align: middle;\n",
              "    }\n",
              "\n",
              "    .dataframe tbody tr th {\n",
              "        vertical-align: top;\n",
              "    }\n",
              "\n",
              "    .dataframe thead th {\n",
              "        text-align: right;\n",
              "    }\n",
              "</style>\n",
              "<table border=\"1\" class=\"dataframe\">\n",
              "  <thead>\n",
              "    <tr style=\"text-align: right;\">\n",
              "      <th></th>\n",
              "      <th>conflitos</th>\n",
              "      <th>tempo_us</th>\n",
              "      <th>T_max</th>\n",
              "      <th>T_min</th>\n",
              "      <th>max_iter</th>\n",
              "      <th>max_worsen</th>\n",
              "      <th>alpha</th>\n",
              "      <th>iter_found_best</th>\n",
              "      <th>curr_Temp</th>\n",
              "      <th>filename</th>\n",
              "      <th>num_vertices</th>\n",
              "      <th>num_edges</th>\n",
              "      <th>init_method</th>\n",
              "      <th>conflitos_norm</th>\n",
              "      <th>tempo_norm</th>\n",
              "    </tr>\n",
              "  </thead>\n",
              "  <tbody>\n",
              "    <tr>\n",
              "      <th>0</th>\n",
              "      <td>636</td>\n",
              "      <td>850800</td>\n",
              "      <td>100</td>\n",
              "      <td>10</td>\n",
              "      <td>1000</td>\n",
              "      <td>1000</td>\n",
              "      <td>0.6</td>\n",
              "      <td>7354</td>\n",
              "      <td>7</td>\n",
              "      <td>instances/4-FullIns_4.col</td>\n",
              "      <td>690</td>\n",
              "      <td>6650</td>\n",
              "      <td>random</td>\n",
              "      <td>0.925743</td>\n",
              "      <td>0.002494</td>\n",
              "    </tr>\n",
              "    <tr>\n",
              "      <th>1</th>\n",
              "      <td>616</td>\n",
              "      <td>898268</td>\n",
              "      <td>100</td>\n",
              "      <td>10</td>\n",
              "      <td>1000</td>\n",
              "      <td>1000</td>\n",
              "      <td>0.6</td>\n",
              "      <td>8085</td>\n",
              "      <td>7</td>\n",
              "      <td>instances/4-FullIns_4.col</td>\n",
              "      <td>690</td>\n",
              "      <td>6650</td>\n",
              "      <td>random</td>\n",
              "      <td>0.892739</td>\n",
              "      <td>0.006902</td>\n",
              "    </tr>\n",
              "    <tr>\n",
              "      <th>2</th>\n",
              "      <td>612</td>\n",
              "      <td>895010</td>\n",
              "      <td>100</td>\n",
              "      <td>10</td>\n",
              "      <td>1000</td>\n",
              "      <td>1000</td>\n",
              "      <td>0.6</td>\n",
              "      <td>7669</td>\n",
              "      <td>7</td>\n",
              "      <td>instances/4-FullIns_4.col</td>\n",
              "      <td>690</td>\n",
              "      <td>6650</td>\n",
              "      <td>random</td>\n",
              "      <td>0.886139</td>\n",
              "      <td>0.006600</td>\n",
              "    </tr>\n",
              "    <tr>\n",
              "      <th>3</th>\n",
              "      <td>649</td>\n",
              "      <td>885161</td>\n",
              "      <td>100</td>\n",
              "      <td>10</td>\n",
              "      <td>1000</td>\n",
              "      <td>1000</td>\n",
              "      <td>0.6</td>\n",
              "      <td>5471</td>\n",
              "      <td>7</td>\n",
              "      <td>instances/4-FullIns_4.col</td>\n",
              "      <td>690</td>\n",
              "      <td>6650</td>\n",
              "      <td>random</td>\n",
              "      <td>0.947195</td>\n",
              "      <td>0.005685</td>\n",
              "    </tr>\n",
              "    <tr>\n",
              "      <th>4</th>\n",
              "      <td>635</td>\n",
              "      <td>841120</td>\n",
              "      <td>100</td>\n",
              "      <td>10</td>\n",
              "      <td>1000</td>\n",
              "      <td>1000</td>\n",
              "      <td>0.6</td>\n",
              "      <td>8415</td>\n",
              "      <td>7</td>\n",
              "      <td>instances/4-FullIns_4.col</td>\n",
              "      <td>690</td>\n",
              "      <td>6650</td>\n",
              "      <td>random</td>\n",
              "      <td>0.924092</td>\n",
              "      <td>0.001595</td>\n",
              "    </tr>\n",
              "  </tbody>\n",
              "</table>\n",
              "</div>"
            ],
            "text/plain": [
              "   conflitos  tempo_us  T_max  T_min  max_iter  max_worsen  alpha  \\\n",
              "0        636    850800    100     10      1000        1000    0.6   \n",
              "1        616    898268    100     10      1000        1000    0.6   \n",
              "2        612    895010    100     10      1000        1000    0.6   \n",
              "3        649    885161    100     10      1000        1000    0.6   \n",
              "4        635    841120    100     10      1000        1000    0.6   \n",
              "\n",
              "   iter_found_best  curr_Temp                   filename  num_vertices  \\\n",
              "0             7354          7  instances/4-FullIns_4.col           690   \n",
              "1             8085          7  instances/4-FullIns_4.col           690   \n",
              "2             7669          7  instances/4-FullIns_4.col           690   \n",
              "3             5471          7  instances/4-FullIns_4.col           690   \n",
              "4             8415          7  instances/4-FullIns_4.col           690   \n",
              "\n",
              "   num_edges init_method  conflitos_norm  tempo_norm  \n",
              "0       6650      random        0.925743    0.002494  \n",
              "1       6650      random        0.892739    0.006902  \n",
              "2       6650      random        0.886139    0.006600  \n",
              "3       6650      random        0.947195    0.005685  \n",
              "4       6650      random        0.924092    0.001595  "
            ]
          },
          "execution_count": 33,
          "metadata": {},
          "output_type": "execute_result"
        }
      ],
      "source": [
        "dfs = []\n",
        "\n",
        "for file in files:\n",
        "    df = pd.read_csv(f'results_sa_v2/analysis/{file}.txt', sep=';', names=columns_sa, header=None)\n",
        "    df['conflitos_norm'] = (df[\"conflitos\"] - df[\"conflitos\"].min()) / (df[\"conflitos\"].max() - df[\"conflitos\"].min() if df[\"conflitos\"].max()!= df[\"conflitos\"].min() else 0)\n",
        "    df['tempo_norm'] = (df[\"tempo_us\"] - df[\"tempo_us\"].min()) / (df[\"tempo_us\"].max() - df[\"tempo_us\"].min() if df[\"tempo_us\"].max()!= df[\"tempo_us\"].min() else 0)\n",
        "    dfs.append(df)\n",
        "\n",
        "df_sa = pd.concat(dfs, ignore_index=True)\n",
        "df_sa.head()"
      ]
    },
    {
      "cell_type": "code",
      "execution_count": 37,
      "metadata": {},
      "outputs": [],
      "source": [
        "df_sa['conflitos_norm'] = (df_sa[\"conflitos\"] - df_sa[\"conflitos\"].min()) / (df_sa[\"conflitos\"].max() - df_sa[\"conflitos\"].min() if df_sa[\"conflitos\"].max()!= df_sa[\"conflitos\"].min() else 0)\n",
        "df_sa['tempo_norm'] = (df_sa[\"tempo_us\"] - df_sa[\"tempo_us\"].min()) / (df_sa[\"tempo_us\"].max() - df_sa[\"tempo_us\"].min() if df_sa[\"tempo_us\"].max()!= df_sa[\"tempo_us\"].min() else 0)\n",
        "df_sa[df_sa['init_method']=='random']\n",
        "def objective_v5(trial):\n",
        "    \"\"\"Função objetivo para o Optuna, buscando a melhor configuração de parâmetros já testada.\"\"\"\n",
        "\n",
        "    # Optuna irá escolher um conjunto de parâmetros dentro dos valores existentes\n",
        "    T_max = trial.suggest_categorical(\"T_max\", df_sa[\"T_max\"].unique().tolist())\n",
        "    alpha = trial.suggest_categorical(\"alpha\", df_sa[\"alpha\"].unique().tolist())\n",
        "    # init_method = trial.suggest_categorical(\"init_method\", df_sa[\"init_method\"].unique().tolist())\n",
        "\n",
        "    # Filtrar apenas as execuções com esses parâmetros\n",
        "    subset = df_sa[(df_sa[\"T_max\"] == T_max) &\n",
        "                (df_sa[\"alpha\"] == alpha) ]\n",
        "\n",
        "    alpha = 1  # Peso para conflitos\n",
        "    beta = 0   # Peso para tempo\n",
        "    score = alpha * subset[\"conflitos_norm\"].mean() + beta * subset[\"tempo_norm\"].mean()\n",
        "    \n",
        "\n",
        "    return score  # O Optuna busca minimizar esse valor\n"
      ]
    },
    {
      "cell_type": "code",
      "execution_count": 38,
      "metadata": {},
      "outputs": [
        {
          "name": "stderr",
          "output_type": "stream",
          "text": [
            "[I 2025-04-20 23:19:01,489] A new study created in memory with name: no-name-ac949949-400a-4d52-a720-dbc591a0bbea\n",
            "[I 2025-04-20 23:19:01,492] Trial 0 finished with value: 0.3453586497890295 and parameters: {'T_max': 1000, 'alpha': 0.8}. Best is trial 0 with value: 0.3453586497890295.\n",
            "[I 2025-04-20 23:19:01,493] Trial 1 finished with value: 0.35037505860290674 and parameters: {'T_max': 10000, 'alpha': 0.7}. Best is trial 0 with value: 0.3453586497890295.\n",
            "[I 2025-04-20 23:19:01,496] Trial 2 finished with value: 0.3469936708860759 and parameters: {'T_max': 100, 'alpha': 0.7}. Best is trial 0 with value: 0.3453586497890295.\n",
            "[I 2025-04-20 23:19:01,497] Trial 3 finished with value: 0.3472222222222222 and parameters: {'T_max': 5000, 'alpha': 0.8}. Best is trial 0 with value: 0.3453586497890295.\n",
            "[I 2025-04-20 23:19:01,499] Trial 4 finished with value: 0.34172526957337085 and parameters: {'T_max': 10000, 'alpha': 0.9}. Best is trial 4 with value: 0.34172526957337085.\n",
            "[I 2025-04-20 23:19:01,501] Trial 5 finished with value: 0.34478434130332863 and parameters: {'T_max': 100, 'alpha': 0.8}. Best is trial 4 with value: 0.34172526957337085.\n",
            "[I 2025-04-20 23:19:01,502] Trial 6 finished with value: 0.33939287388654477 and parameters: {'T_max': 100, 'alpha': 0.9}. Best is trial 6 with value: 0.33939287388654477.\n",
            "[I 2025-04-20 23:19:01,504] Trial 7 finished with value: 0.34104547585560235 and parameters: {'T_max': 1000, 'alpha': 0.9}. Best is trial 6 with value: 0.33939287388654477.\n",
            "[I 2025-04-20 23:19:01,506] Trial 8 finished with value: 0.3534751523675574 and parameters: {'T_max': 1000, 'alpha': 0.6}. Best is trial 6 with value: 0.33939287388654477.\n",
            "[I 2025-04-20 23:19:01,508] Trial 9 finished with value: 0.3453586497890295 and parameters: {'T_max': 1000, 'alpha': 0.8}. Best is trial 6 with value: 0.33939287388654477.\n",
            "[I 2025-04-20 23:19:01,511] Trial 10 finished with value: 0.33939287388654477 and parameters: {'T_max': 100, 'alpha': 0.9}. Best is trial 6 with value: 0.33939287388654477.\n",
            "[I 2025-04-20 23:19:01,513] Trial 11 finished with value: 0.33939287388654477 and parameters: {'T_max': 100, 'alpha': 0.9}. Best is trial 6 with value: 0.33939287388654477.\n",
            "[I 2025-04-20 23:19:01,515] Trial 12 finished with value: 0.33939287388654477 and parameters: {'T_max': 100, 'alpha': 0.9}. Best is trial 6 with value: 0.33939287388654477.\n",
            "[I 2025-04-20 23:19:01,517] Trial 13 finished with value: 0.33939287388654477 and parameters: {'T_max': 100, 'alpha': 0.9}. Best is trial 6 with value: 0.33939287388654477.\n",
            "[I 2025-04-20 23:19:01,519] Trial 14 finished with value: 0.354746835443038 and parameters: {'T_max': 5000, 'alpha': 0.6}. Best is trial 6 with value: 0.33939287388654477.\n",
            "[I 2025-04-20 23:19:01,522] Trial 15 finished with value: 0.33939287388654477 and parameters: {'T_max': 100, 'alpha': 0.9}. Best is trial 6 with value: 0.33939287388654477.\n",
            "[I 2025-04-20 23:19:01,525] Trial 16 finished with value: 0.33939287388654477 and parameters: {'T_max': 100, 'alpha': 0.9}. Best is trial 6 with value: 0.33939287388654477.\n",
            "[I 2025-04-20 23:19:01,527] Trial 17 finished with value: 0.33939287388654477 and parameters: {'T_max': 100, 'alpha': 0.9}. Best is trial 6 with value: 0.33939287388654477.\n",
            "[I 2025-04-20 23:19:01,529] Trial 18 finished with value: 0.35037505860290674 and parameters: {'T_max': 10000, 'alpha': 0.7}. Best is trial 6 with value: 0.33939287388654477.\n",
            "[I 2025-04-20 23:19:01,531] Trial 19 finished with value: 0.354746835443038 and parameters: {'T_max': 5000, 'alpha': 0.6}. Best is trial 6 with value: 0.33939287388654477.\n",
            "[I 2025-04-20 23:19:01,533] Trial 20 finished with value: 0.33939287388654477 and parameters: {'T_max': 100, 'alpha': 0.9}. Best is trial 6 with value: 0.33939287388654477.\n",
            "[I 2025-04-20 23:19:01,535] Trial 21 finished with value: 0.33939287388654477 and parameters: {'T_max': 100, 'alpha': 0.9}. Best is trial 6 with value: 0.33939287388654477.\n",
            "[I 2025-04-20 23:19:01,538] Trial 22 finished with value: 0.33939287388654477 and parameters: {'T_max': 100, 'alpha': 0.9}. Best is trial 6 with value: 0.33939287388654477.\n",
            "[I 2025-04-20 23:19:01,544] Trial 23 finished with value: 0.33939287388654477 and parameters: {'T_max': 100, 'alpha': 0.9}. Best is trial 6 with value: 0.33939287388654477.\n",
            "[I 2025-04-20 23:19:01,550] Trial 24 finished with value: 0.33939287388654477 and parameters: {'T_max': 100, 'alpha': 0.9}. Best is trial 6 with value: 0.33939287388654477.\n",
            "[I 2025-04-20 23:19:01,553] Trial 25 finished with value: 0.33939287388654477 and parameters: {'T_max': 100, 'alpha': 0.9}. Best is trial 6 with value: 0.33939287388654477.\n",
            "[I 2025-04-20 23:19:01,556] Trial 26 finished with value: 0.33939287388654477 and parameters: {'T_max': 100, 'alpha': 0.9}. Best is trial 6 with value: 0.33939287388654477.\n",
            "[I 2025-04-20 23:19:01,558] Trial 27 finished with value: 0.35052156586966715 and parameters: {'T_max': 5000, 'alpha': 0.7}. Best is trial 6 with value: 0.33939287388654477.\n",
            "[I 2025-04-20 23:19:01,560] Trial 28 finished with value: 0.3473804500703235 and parameters: {'T_max': 10000, 'alpha': 0.6}. Best is trial 6 with value: 0.33939287388654477.\n",
            "[I 2025-04-20 23:19:01,563] Trial 29 finished with value: 0.3453586497890295 and parameters: {'T_max': 1000, 'alpha': 0.8}. Best is trial 6 with value: 0.33939287388654477.\n",
            "[I 2025-04-20 23:19:01,565] Trial 30 finished with value: 0.33939287388654477 and parameters: {'T_max': 100, 'alpha': 0.9}. Best is trial 6 with value: 0.33939287388654477.\n",
            "[I 2025-04-20 23:19:01,568] Trial 31 finished with value: 0.33939287388654477 and parameters: {'T_max': 100, 'alpha': 0.9}. Best is trial 6 with value: 0.33939287388654477.\n",
            "[I 2025-04-20 23:19:01,570] Trial 32 finished with value: 0.33939287388654477 and parameters: {'T_max': 100, 'alpha': 0.9}. Best is trial 6 with value: 0.33939287388654477.\n",
            "[I 2025-04-20 23:19:01,572] Trial 33 finished with value: 0.33939287388654477 and parameters: {'T_max': 100, 'alpha': 0.9}. Best is trial 6 with value: 0.33939287388654477.\n",
            "[I 2025-04-20 23:19:01,575] Trial 34 finished with value: 0.3469936708860759 and parameters: {'T_max': 100, 'alpha': 0.7}. Best is trial 6 with value: 0.33939287388654477.\n",
            "[I 2025-04-20 23:19:01,577] Trial 35 finished with value: 0.34172526957337085 and parameters: {'T_max': 10000, 'alpha': 0.9}. Best is trial 6 with value: 0.33939287388654477.\n",
            "[I 2025-04-20 23:19:01,580] Trial 36 finished with value: 0.33939287388654477 and parameters: {'T_max': 100, 'alpha': 0.9}. Best is trial 6 with value: 0.33939287388654477.\n",
            "[I 2025-04-20 23:19:01,582] Trial 37 finished with value: 0.34478434130332863 and parameters: {'T_max': 100, 'alpha': 0.8}. Best is trial 6 with value: 0.33939287388654477.\n",
            "[I 2025-04-20 23:19:01,585] Trial 38 finished with value: 0.35052156586966715 and parameters: {'T_max': 5000, 'alpha': 0.7}. Best is trial 6 with value: 0.33939287388654477.\n",
            "[I 2025-04-20 23:19:01,587] Trial 39 finished with value: 0.34104547585560235 and parameters: {'T_max': 1000, 'alpha': 0.9}. Best is trial 6 with value: 0.33939287388654477.\n",
            "[I 2025-04-20 23:19:01,589] Trial 40 finished with value: 0.34172526957337085 and parameters: {'T_max': 10000, 'alpha': 0.9}. Best is trial 6 with value: 0.33939287388654477.\n",
            "[I 2025-04-20 23:19:01,591] Trial 41 finished with value: 0.33939287388654477 and parameters: {'T_max': 100, 'alpha': 0.9}. Best is trial 6 with value: 0.33939287388654477.\n",
            "[I 2025-04-20 23:19:01,594] Trial 42 finished with value: 0.33939287388654477 and parameters: {'T_max': 100, 'alpha': 0.9}. Best is trial 6 with value: 0.33939287388654477.\n",
            "[I 2025-04-20 23:19:01,596] Trial 43 finished with value: 0.33939287388654477 and parameters: {'T_max': 100, 'alpha': 0.9}. Best is trial 6 with value: 0.33939287388654477.\n",
            "[I 2025-04-20 23:19:01,598] Trial 44 finished with value: 0.34944913267698074 and parameters: {'T_max': 100, 'alpha': 0.6}. Best is trial 6 with value: 0.33939287388654477.\n",
            "[I 2025-04-20 23:19:01,601] Trial 45 finished with value: 0.34478434130332863 and parameters: {'T_max': 100, 'alpha': 0.8}. Best is trial 6 with value: 0.33939287388654477.\n",
            "[I 2025-04-20 23:19:01,603] Trial 46 finished with value: 0.34104547585560235 and parameters: {'T_max': 1000, 'alpha': 0.9}. Best is trial 6 with value: 0.33939287388654477.\n",
            "[I 2025-04-20 23:19:01,605] Trial 47 finished with value: 0.33939287388654477 and parameters: {'T_max': 100, 'alpha': 0.9}. Best is trial 6 with value: 0.33939287388654477.\n",
            "[I 2025-04-20 23:19:01,608] Trial 48 finished with value: 0.3404770276605719 and parameters: {'T_max': 5000, 'alpha': 0.9}. Best is trial 6 with value: 0.33939287388654477.\n",
            "[I 2025-04-20 23:19:01,610] Trial 49 finished with value: 0.34944913267698074 and parameters: {'T_max': 100, 'alpha': 0.6}. Best is trial 6 with value: 0.33939287388654477.\n",
            "[I 2025-04-20 23:19:01,612] Trial 50 finished with value: 0.33939287388654477 and parameters: {'T_max': 100, 'alpha': 0.9}. Best is trial 6 with value: 0.33939287388654477.\n",
            "[I 2025-04-20 23:19:01,614] Trial 51 finished with value: 0.33939287388654477 and parameters: {'T_max': 100, 'alpha': 0.9}. Best is trial 6 with value: 0.33939287388654477.\n",
            "[I 2025-04-20 23:19:01,616] Trial 52 finished with value: 0.33939287388654477 and parameters: {'T_max': 100, 'alpha': 0.9}. Best is trial 6 with value: 0.33939287388654477.\n",
            "[I 2025-04-20 23:19:01,618] Trial 53 finished with value: 0.33939287388654477 and parameters: {'T_max': 100, 'alpha': 0.9}. Best is trial 6 with value: 0.33939287388654477.\n",
            "[I 2025-04-20 23:19:01,620] Trial 54 finished with value: 0.33939287388654477 and parameters: {'T_max': 100, 'alpha': 0.9}. Best is trial 6 with value: 0.33939287388654477.\n",
            "[I 2025-04-20 23:19:01,623] Trial 55 finished with value: 0.33939287388654477 and parameters: {'T_max': 100, 'alpha': 0.9}. Best is trial 6 with value: 0.33939287388654477.\n",
            "[I 2025-04-20 23:19:01,625] Trial 56 finished with value: 0.35037505860290674 and parameters: {'T_max': 10000, 'alpha': 0.7}. Best is trial 6 with value: 0.33939287388654477.\n",
            "[I 2025-04-20 23:19:01,627] Trial 57 finished with value: 0.34478434130332863 and parameters: {'T_max': 100, 'alpha': 0.8}. Best is trial 6 with value: 0.33939287388654477.\n",
            "[I 2025-04-20 23:19:01,629] Trial 58 finished with value: 0.34104547585560235 and parameters: {'T_max': 1000, 'alpha': 0.9}. Best is trial 6 with value: 0.33939287388654477.\n",
            "[I 2025-04-20 23:19:01,632] Trial 59 finished with value: 0.33939287388654477 and parameters: {'T_max': 100, 'alpha': 0.9}. Best is trial 6 with value: 0.33939287388654477.\n",
            "[I 2025-04-20 23:19:01,634] Trial 60 finished with value: 0.3404770276605719 and parameters: {'T_max': 5000, 'alpha': 0.9}. Best is trial 6 with value: 0.33939287388654477.\n",
            "[I 2025-04-20 23:19:01,637] Trial 61 finished with value: 0.33939287388654477 and parameters: {'T_max': 100, 'alpha': 0.9}. Best is trial 6 with value: 0.33939287388654477.\n",
            "[I 2025-04-20 23:19:01,639] Trial 62 finished with value: 0.33939287388654477 and parameters: {'T_max': 100, 'alpha': 0.9}. Best is trial 6 with value: 0.33939287388654477.\n",
            "[I 2025-04-20 23:19:01,642] Trial 63 finished with value: 0.33939287388654477 and parameters: {'T_max': 100, 'alpha': 0.9}. Best is trial 6 with value: 0.33939287388654477.\n",
            "[I 2025-04-20 23:19:01,644] Trial 64 finished with value: 0.33939287388654477 and parameters: {'T_max': 100, 'alpha': 0.9}. Best is trial 6 with value: 0.33939287388654477.\n",
            "[I 2025-04-20 23:19:01,647] Trial 65 finished with value: 0.34944913267698074 and parameters: {'T_max': 100, 'alpha': 0.6}. Best is trial 6 with value: 0.33939287388654477.\n",
            "[I 2025-04-20 23:19:01,649] Trial 66 finished with value: 0.33939287388654477 and parameters: {'T_max': 100, 'alpha': 0.9}. Best is trial 6 with value: 0.33939287388654477.\n",
            "[I 2025-04-20 23:19:01,651] Trial 67 finished with value: 0.3469936708860759 and parameters: {'T_max': 100, 'alpha': 0.7}. Best is trial 6 with value: 0.33939287388654477.\n",
            "[I 2025-04-20 23:19:01,654] Trial 68 finished with value: 0.34172526957337085 and parameters: {'T_max': 10000, 'alpha': 0.9}. Best is trial 6 with value: 0.33939287388654477.\n",
            "[I 2025-04-20 23:19:01,656] Trial 69 finished with value: 0.33939287388654477 and parameters: {'T_max': 100, 'alpha': 0.9}. Best is trial 6 with value: 0.33939287388654477.\n",
            "[I 2025-04-20 23:19:01,658] Trial 70 finished with value: 0.34478434130332863 and parameters: {'T_max': 100, 'alpha': 0.8}. Best is trial 6 with value: 0.33939287388654477.\n",
            "[I 2025-04-20 23:19:01,660] Trial 71 finished with value: 0.33939287388654477 and parameters: {'T_max': 100, 'alpha': 0.9}. Best is trial 6 with value: 0.33939287388654477.\n",
            "[I 2025-04-20 23:19:01,663] Trial 72 finished with value: 0.33939287388654477 and parameters: {'T_max': 100, 'alpha': 0.9}. Best is trial 6 with value: 0.33939287388654477.\n",
            "[I 2025-04-20 23:19:01,666] Trial 73 finished with value: 0.33939287388654477 and parameters: {'T_max': 100, 'alpha': 0.9}. Best is trial 6 with value: 0.33939287388654477.\n",
            "[I 2025-04-20 23:19:01,669] Trial 74 finished with value: 0.33939287388654477 and parameters: {'T_max': 100, 'alpha': 0.9}. Best is trial 6 with value: 0.33939287388654477.\n",
            "[I 2025-04-20 23:19:01,671] Trial 75 finished with value: 0.34104547585560235 and parameters: {'T_max': 1000, 'alpha': 0.9}. Best is trial 6 with value: 0.33939287388654477.\n",
            "[I 2025-04-20 23:19:01,674] Trial 76 finished with value: 0.3404770276605719 and parameters: {'T_max': 5000, 'alpha': 0.9}. Best is trial 6 with value: 0.33939287388654477.\n",
            "[I 2025-04-20 23:19:01,676] Trial 77 finished with value: 0.33939287388654477 and parameters: {'T_max': 100, 'alpha': 0.9}. Best is trial 6 with value: 0.33939287388654477.\n",
            "[I 2025-04-20 23:19:01,678] Trial 78 finished with value: 0.34944913267698074 and parameters: {'T_max': 100, 'alpha': 0.6}. Best is trial 6 with value: 0.33939287388654477.\n",
            "[I 2025-04-20 23:19:01,681] Trial 79 finished with value: 0.33939287388654477 and parameters: {'T_max': 100, 'alpha': 0.9}. Best is trial 6 with value: 0.33939287388654477.\n",
            "[I 2025-04-20 23:19:01,683] Trial 80 finished with value: 0.3469936708860759 and parameters: {'T_max': 100, 'alpha': 0.7}. Best is trial 6 with value: 0.33939287388654477.\n",
            "[I 2025-04-20 23:19:01,686] Trial 81 finished with value: 0.33939287388654477 and parameters: {'T_max': 100, 'alpha': 0.9}. Best is trial 6 with value: 0.33939287388654477.\n",
            "[I 2025-04-20 23:19:01,689] Trial 82 finished with value: 0.33939287388654477 and parameters: {'T_max': 100, 'alpha': 0.9}. Best is trial 6 with value: 0.33939287388654477.\n"
          ]
        },
        {
          "name": "stdout",
          "output_type": "stream",
          "text": [
            "96\n"
          ]
        },
        {
          "name": "stderr",
          "output_type": "stream",
          "text": [
            "[I 2025-04-20 23:19:01,692] Trial 83 finished with value: 0.33939287388654477 and parameters: {'T_max': 100, 'alpha': 0.9}. Best is trial 6 with value: 0.33939287388654477.\n",
            "[I 2025-04-20 23:19:01,695] Trial 84 finished with value: 0.33939287388654477 and parameters: {'T_max': 100, 'alpha': 0.9}. Best is trial 6 with value: 0.33939287388654477.\n",
            "[I 2025-04-20 23:19:01,698] Trial 85 finished with value: 0.34172526957337085 and parameters: {'T_max': 10000, 'alpha': 0.9}. Best is trial 6 with value: 0.33939287388654477.\n",
            "[I 2025-04-20 23:19:01,700] Trial 86 finished with value: 0.33939287388654477 and parameters: {'T_max': 100, 'alpha': 0.9}. Best is trial 6 with value: 0.33939287388654477.\n",
            "[I 2025-04-20 23:19:01,702] Trial 87 finished with value: 0.34478434130332863 and parameters: {'T_max': 100, 'alpha': 0.8}. Best is trial 6 with value: 0.33939287388654477.\n",
            "[I 2025-04-20 23:19:01,705] Trial 88 finished with value: 0.33939287388654477 and parameters: {'T_max': 100, 'alpha': 0.9}. Best is trial 6 with value: 0.33939287388654477.\n",
            "[I 2025-04-20 23:19:01,709] Trial 89 finished with value: 0.34104547585560235 and parameters: {'T_max': 1000, 'alpha': 0.9}. Best is trial 6 with value: 0.33939287388654477.\n",
            "[I 2025-04-20 23:19:01,711] Trial 90 finished with value: 0.3404770276605719 and parameters: {'T_max': 5000, 'alpha': 0.9}. Best is trial 6 with value: 0.33939287388654477.\n",
            "[I 2025-04-20 23:19:01,715] Trial 91 finished with value: 0.33939287388654477 and parameters: {'T_max': 100, 'alpha': 0.9}. Best is trial 6 with value: 0.33939287388654477.\n",
            "[I 2025-04-20 23:19:01,718] Trial 92 finished with value: 0.33939287388654477 and parameters: {'T_max': 100, 'alpha': 0.9}. Best is trial 6 with value: 0.33939287388654477.\n",
            "[I 2025-04-20 23:19:01,720] Trial 93 finished with value: 0.33939287388654477 and parameters: {'T_max': 100, 'alpha': 0.9}. Best is trial 6 with value: 0.33939287388654477.\n",
            "[I 2025-04-20 23:19:01,724] Trial 94 finished with value: 0.33939287388654477 and parameters: {'T_max': 100, 'alpha': 0.9}. Best is trial 6 with value: 0.33939287388654477.\n",
            "[I 2025-04-20 23:19:01,726] Trial 95 finished with value: 0.33939287388654477 and parameters: {'T_max': 100, 'alpha': 0.9}. Best is trial 6 with value: 0.33939287388654477.\n"
          ]
        },
        {
          "name": "stdout",
          "output_type": "stream",
          "text": [
            "Melhores parâmetros encontrados:\n",
            "{'T_max': 100, 'alpha': 0.9}\n"
          ]
        }
      ],
      "source": [
        "n_trials = df_sa[[\"T_max\", \"alpha\", \"filename\"]].drop_duplicates().shape[0]\n",
        "\n",
        "print(n_trials)\n",
        "\n",
        "# Criar e rodar a otimização\n",
        "study = optuna.create_study(direction=\"minimize\")\n",
        "study.optimize(objective_v5, n_trials=n_trials)  # Ajuste o número de trials conforme necessário\n",
        "\n",
        "# Exibir os melhores parâmetros encontrados\n",
        "print(\"Melhores parâmetros encontrados:\")\n",
        "print(study.best_params)"
      ]
    },
    {
      "cell_type": "code",
      "execution_count": null,
      "metadata": {},
      "outputs": [],
      "source": []
    },
    {
      "cell_type": "code",
      "execution_count": null,
      "metadata": {},
      "outputs": [],
      "source": []
    }
  ],
  "metadata": {
    "colab": {
      "provenance": []
    },
    "kernelspec": {
      "display_name": "Python 3",
      "name": "python3"
    },
    "language_info": {
      "codemirror_mode": {
        "name": "ipython",
        "version": 3
      },
      "file_extension": ".py",
      "mimetype": "text/x-python",
      "name": "python",
      "nbconvert_exporter": "python",
      "pygments_lexer": "ipython3",
      "version": "3.10.12"
    }
  },
  "nbformat": 4,
  "nbformat_minor": 0
}
